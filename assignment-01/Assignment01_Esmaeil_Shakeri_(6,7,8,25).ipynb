{
  "cells": [
    {
      "cell_type": "markdown",
      "metadata": {
        "id": "F3giXE-0KDCE"
      },
      "source": [
        "# Assignment #01\n",
        "\n",
        "This assignment is composed of multiple Python and NumPy programming exercises. The deliverable of this assignment is this jupyter-notebook completed with your solution.\n",
        "\n",
        "The delivery instructions are the following:\n",
        "    - Create a GitHub repository for your team. You are free to choose its name. This repository will be used to delvier the programming assignments and the code of your team's final project.\n",
        "    - Create a folder assignment-01 in the repository. Put the jupyter-notebook with your solution in this repository and post the repository link in your team's D2L dropbox for the assignment.\n",
        "\n",
        "You are being assessed based on:\n",
        "\n",
        "1. Code execution - 25% \n",
        "2. Clarity of the code (e.g., easy to follow, has pertinent comments, etc.) - 25%\n",
        "3. Proper usage of the techniques seen in class - 25%\n",
        "    - remember to avoid explicit Python loops!  \n",
        "4. Quality and correcteness of the results - 25%\n",
        "\n",
        "More details about the assessment are available in the rubric document in the class GitHub repository.\n",
        "\n",
        "Points distribution:\n",
        "- Question 2-21: 3 points per question \n",
        "- Questions 22-26: 8 points per question (total 40)\n",
        "- Total: 100 ponits"
      ],
      "id": "F3giXE-0KDCE"
    },
    {
      "cell_type": "code",
      "execution_count": 1,
      "metadata": {
        "id": "8I7lyL0GKDCK"
      },
      "outputs": [],
      "source": [
        "import matplotlib.pylab as plt"
      ],
      "id": "8I7lyL0GKDCK"
    },
    {
      "cell_type": "markdown",
      "metadata": {
        "id": "-z9dHhFpKDCL"
      },
      "source": [
        "**1. Import the numpy package under the name np**"
      ],
      "id": "-z9dHhFpKDCL"
    },
    {
      "cell_type": "code",
      "execution_count": 2,
      "metadata": {
        "id": "iclHSJkeKDCM"
      },
      "outputs": [],
      "source": [
        "import numpy as np"
      ],
      "id": "iclHSJkeKDCM"
    },
    {
      "cell_type": "markdown",
      "metadata": {
        "id": "wVjC87crKDCM"
      },
      "source": [
        "**2. Print the numpy version and the configuration**"
      ],
      "id": "wVjC87crKDCM"
    },
    {
      "cell_type": "code",
      "execution_count": null,
      "metadata": {
        "id": "vEXPSXkSKDCN"
      },
      "outputs": [],
      "source": [
        ""
      ],
      "id": "vEXPSXkSKDCN"
    },
    {
      "cell_type": "markdown",
      "metadata": {
        "id": "M6E24OTpKDCN"
      },
      "source": [
        "**3. Create a 1D array of zeros of size 10 of type float32**"
      ],
      "id": "M6E24OTpKDCN"
    },
    {
      "cell_type": "code",
      "execution_count": null,
      "metadata": {
        "id": "SZNbkuVjKDCP"
      },
      "outputs": [],
      "source": [
        ""
      ],
      "id": "SZNbkuVjKDCP"
    },
    {
      "cell_type": "markdown",
      "metadata": {
        "id": "EYLiiJmzKDCP"
      },
      "source": [
        "**4. Print the memory size of the array below**"
      ],
      "id": "EYLiiJmzKDCP"
    },
    {
      "cell_type": "code",
      "execution_count": null,
      "metadata": {
        "id": "vO9dufpwKDCQ"
      },
      "outputs": [],
      "source": [
        "Z = np.zeros((32,12))\n",
        "# Include your solution below"
      ],
      "id": "vO9dufpwKDCQ"
    },
    {
      "cell_type": "markdown",
      "metadata": {
        "id": "3B1knCsLKDCR"
      },
      "source": [
        "**5. Create a 1D array with values ranging from 10 to 58**"
      ],
      "id": "3B1knCsLKDCR"
    },
    {
      "cell_type": "code",
      "execution_count": null,
      "metadata": {
        "id": "XooLGSn-KDCS"
      },
      "outputs": [],
      "source": [
        ""
      ],
      "id": "XooLGSn-KDCS"
    },
    {
      "cell_type": "markdown",
      "metadata": {
        "id": "ZOL80UPqKDCS"
      },
      "source": [
        "**6. Reverse the order of the values in the vector (first element becomes last)**"
      ],
      "id": "ZOL80UPqKDCS"
    },
    {
      "cell_type": "code",
      "execution_count": 3,
      "metadata": {
        "id": "tvOUVp7jKDCT",
        "outputId": "f65f2705-cc4f-4818-8f07-30771990b50b",
        "colab": {
          "base_uri": "https://localhost:8080/"
        }
      },
      "outputs": [
        {
          "output_type": "stream",
          "name": "stdout",
          "text": [
            "Original array:\n",
            "[0 1 2 3 4 5 6 7 8 9]\n",
            "Reverse array:\n",
            "[9 8 7 6 5 4 3 2 1 0]\n"
          ]
        }
      ],
      "source": [
        "\n",
        "a = np.arange(10)\n",
        "# Include your solution below\n",
        "\n",
        "print(\"Original array:\")\n",
        "print(a)\n",
        "print(\"Reverse array:\")\n",
        "#reversed the order of the values in the vector\n",
        "a = a[::-1]\n",
        "print(a)"
      ],
      "id": "tvOUVp7jKDCT"
    },
    {
      "cell_type": "markdown",
      "metadata": {
        "id": "omNMQKVsKDCT"
      },
      "source": [
        "**7. Create a 3x3 matrix with values ranging from 0 to 8**"
      ],
      "id": "omNMQKVsKDCT"
    },
    {
      "cell_type": "code",
      "execution_count": null,
      "metadata": {
        "id": "NSfgqGljKDCU",
        "colab": {
          "base_uri": "https://localhost:8080/"
        },
        "outputId": "92cc5cae-bf7b-4bde-885f-113a1552707e"
      },
      "outputs": [
        {
          "output_type": "stream",
          "name": "stdout",
          "text": [
            "[[0 1 2]\n",
            " [3 4 5]\n",
            " [6 7 8]]\n"
          ]
        }
      ],
      "source": [
        "\n",
        "#created a 3x3 matrix with values between range 0 to 8\n",
        "A =  np.arange(0, 9).reshape(3,3)\n",
        "print(A)\n"
      ],
      "id": "NSfgqGljKDCU"
    },
    {
      "cell_type": "markdown",
      "metadata": {
        "id": "9R4x4CEoKDCU"
      },
      "source": [
        "**8. Create a 3x3 identity matrix**"
      ],
      "id": "9R4x4CEoKDCU"
    },
    {
      "cell_type": "code",
      "execution_count": 4,
      "metadata": {
        "id": "0y3ag3ApKDCU",
        "colab": {
          "base_uri": "https://localhost:8080/"
        },
        "outputId": "531ce262-05f9-447f-fd78-2408f8e9446a"
      },
      "outputs": [
        {
          "output_type": "stream",
          "name": "stdout",
          "text": [
            "3x3 identity matrix:\n",
            "[[1. 0. 0.]\n",
            " [0. 1. 0.]\n",
            " [0. 0. 1.]]\n"
          ]
        }
      ],
      "source": [
        "\n",
        "#defined a 3x3 identity matrix\n",
        "A=np.identity(3)\n",
        "print('3x3 identity matrix:')\n",
        "print(A)"
      ],
      "id": "0y3ag3ApKDCU"
    },
    {
      "cell_type": "markdown",
      "metadata": {
        "id": "aGYVxJUpKDCV"
      },
      "source": [
        "**9. Find and print the maximum values of each column in the array below** "
      ],
      "id": "aGYVxJUpKDCV"
    },
    {
      "cell_type": "code",
      "execution_count": null,
      "metadata": {
        "id": "eL7EHU22KDCV"
      },
      "outputs": [],
      "source": [
        "Z = np.random.random((10,11))\n",
        "# Include your solution below"
      ],
      "id": "eL7EHU22KDCV"
    },
    {
      "cell_type": "code",
      "execution_count": null,
      "metadata": {
        "id": "UkXCSQDMKDCW"
      },
      "outputs": [],
      "source": [
        ""
      ],
      "id": "UkXCSQDMKDCW"
    },
    {
      "cell_type": "markdown",
      "metadata": {
        "id": "Q50ina_0KDCW"
      },
      "source": [
        "**10. Create a $7 \\times 7$ array with 1s on the borders (first row and column, last row and columns) and 0s everywhere else**"
      ],
      "id": "Q50ina_0KDCW"
    },
    {
      "cell_type": "code",
      "execution_count": null,
      "metadata": {
        "id": "zOQZieL8KDCW"
      },
      "outputs": [],
      "source": [
        ""
      ],
      "id": "zOQZieL8KDCW"
    },
    {
      "cell_type": "markdown",
      "metadata": {
        "id": "rq7k6cpKKDCW"
      },
      "source": [
        "**11. Pad the existing array below with zeros (i.e., add additional rows and columns with zeros). Use the NumPy pad function.**"
      ],
      "id": "rq7k6cpKKDCW"
    },
    {
      "cell_type": "code",
      "execution_count": null,
      "metadata": {
        "id": "d1lziILSKDCX"
      },
      "outputs": [],
      "source": [
        "Z = np.ones((5,5))\n",
        "# Include your solution below"
      ],
      "id": "d1lziILSKDCX"
    },
    {
      "cell_type": "markdown",
      "metadata": {
        "id": "anMIHnQ0KDCX"
      },
      "source": [
        "**12. Extract the integer part of the random array of positive numbers below**"
      ],
      "id": "anMIHnQ0KDCX"
    },
    {
      "cell_type": "code",
      "execution_count": null,
      "metadata": {
        "id": "gLYJRz9OKDCY"
      },
      "outputs": [],
      "source": [
        "Z = np.random.uniform(0,10,10)\n",
        "# Include your solution below"
      ],
      "id": "gLYJRz9OKDCY"
    },
    {
      "cell_type": "markdown",
      "metadata": {
        "id": "8D6SBcJiKDCY"
      },
      "source": [
        "**13. Create a 5x5 matrix with rows with equal values ranging from 0 to 4 (i.e., [0,1,2,3,4])**\n",
        "\n",
        "*Hint:* consider using NumPy broadcasting or the tile function*"
      ],
      "id": "8D6SBcJiKDCY"
    },
    {
      "cell_type": "code",
      "execution_count": null,
      "metadata": {
        "id": "crKuuzDcKDCY"
      },
      "outputs": [],
      "source": [
        ""
      ],
      "id": "crKuuzDcKDCY"
    },
    {
      "cell_type": "markdown",
      "metadata": {
        "id": "84FZFRBtKDCZ"
      },
      "source": [
        "**14. Create a vector of size 10 with values ranging from 0 to 1 (0 and 1 not included)**\n",
        "\n",
        "*Hint: Consider using the linspace function*"
      ],
      "id": "84FZFRBtKDCZ"
    },
    {
      "cell_type": "code",
      "execution_count": null,
      "metadata": {
        "id": "WGTZo45iKDCZ"
      },
      "outputs": [],
      "source": [
        ""
      ],
      "id": "WGTZo45iKDCZ"
    },
    {
      "cell_type": "markdown",
      "metadata": {
        "id": "1pUfq9mWKDCZ"
      },
      "source": [
        "**15. Create a random vector of size 10 and sort it**"
      ],
      "id": "1pUfq9mWKDCZ"
    },
    {
      "cell_type": "code",
      "execution_count": null,
      "metadata": {
        "id": "F83zei0jKDCZ"
      },
      "outputs": [],
      "source": [
        ""
      ],
      "id": "F83zei0jKDCZ"
    },
    {
      "cell_type": "markdown",
      "metadata": {
        "id": "nbHM8Sd_KDCZ"
      },
      "source": [
        "**16. Consider the cartesian coordinates below (X and Y), convert them to polar coordinates (R and T)**"
      ],
      "id": "nbHM8Sd_KDCZ"
    },
    {
      "cell_type": "code",
      "execution_count": null,
      "metadata": {
        "id": "Bm3sBZOMKDCa"
      },
      "outputs": [],
      "source": [
        "Z = np.random.random((10,2))\n",
        "X,Y = Z[:,0], Z[:,1]\n",
        "# Include your solution below\n"
      ],
      "id": "Bm3sBZOMKDCa"
    },
    {
      "cell_type": "markdown",
      "metadata": {
        "id": "LvMgeOlUKDCa"
      },
      "source": [
        "**17. Create random vector of size 10 and replace the maximum value by 0**"
      ],
      "id": "LvMgeOlUKDCa"
    },
    {
      "cell_type": "code",
      "execution_count": null,
      "metadata": {
        "id": "16-Z69DAKDCa"
      },
      "outputs": [],
      "source": [
        ""
      ],
      "id": "16-Z69DAKDCa"
    },
    {
      "cell_type": "markdown",
      "metadata": {
        "id": "xwLAm-rPKDCb"
      },
      "source": [
        "**18. Find the nearest value from a given value (z) in an array (Z)**"
      ],
      "id": "xwLAm-rPKDCb"
    },
    {
      "cell_type": "code",
      "execution_count": null,
      "metadata": {
        "id": "97_NOsZbKDCb"
      },
      "outputs": [],
      "source": [
        "Z = np.random.uniform(0,1,10)\n",
        "z = 0.5\n",
        "# Include your solution below"
      ],
      "id": "97_NOsZbKDCb"
    },
    {
      "cell_type": "markdown",
      "metadata": {
        "id": "1Ys8icIRKDCb"
      },
      "source": [
        "**19. Consider the vector [5, 4, 3, 2, 1], how to build a new vector with 3 consecutive zeros interleaved between each value?**"
      ],
      "id": "1Ys8icIRKDCb"
    },
    {
      "cell_type": "code",
      "execution_count": null,
      "metadata": {
        "id": "nX8M9OUHKDCb"
      },
      "outputs": [],
      "source": [
        "Z = np.arange(5)[::-1]\n",
        "# Include your solution below\n"
      ],
      "id": "nX8M9OUHKDCb"
    },
    {
      "cell_type": "markdown",
      "metadata": {
        "id": "sOi3aIBHKDCc"
      },
      "source": [
        "**20. Consider an array of dimension (5,5,3), how to mulitply it element-wise by an array with dimensions (5,5) - i.e., (5,5,0)$\\times$(5,5), (5,5,1)$\\times$(5,5), (5,5,2)$\\times$(5,5)**"
      ],
      "id": "sOi3aIBHKDCc"
    },
    {
      "cell_type": "code",
      "execution_count": null,
      "metadata": {
        "id": "l1nrbfNzKDCc"
      },
      "outputs": [],
      "source": [
        "A = np.ones((5,5,3))\n",
        "B = 2*np.ones((5,5))\n",
        "# Include your solution below\n",
        "\n"
      ],
      "id": "l1nrbfNzKDCc"
    },
    {
      "cell_type": "markdown",
      "metadata": {
        "id": "nwq6H5U0KDCc"
      },
      "source": [
        "**21. Swap the first and second rows of the 2D array below**"
      ],
      "id": "nwq6H5U0KDCc"
    },
    {
      "cell_type": "code",
      "execution_count": null,
      "metadata": {
        "id": "mcVqbbznKDCc"
      },
      "outputs": [],
      "source": [
        "W = np.arange(30).reshape(6,5)\n",
        "print(W)\n",
        "print()\n",
        "# Include your solution below\n"
      ],
      "id": "mcVqbbznKDCc"
    },
    {
      "cell_type": "markdown",
      "metadata": {
        "id": "YA9YLQaQKDCd"
      },
      "source": [
        "**22. Write a function that receives as input a 2D Boolean NumPy array and outputs the coordinates of the minimal bounding-box\n",
        "that encloses all non-zero elements in the input array**\n",
        "\n",
        "**Tip:** search for the functions nonzero and where in the NumPy documentation.\n",
        "\n",
        "\n",
        "<img src=\"https://github.com/rmsouza01/ENEL645/blob/master/Figures/bbox.png?raw=1\" width=\"150\" /> "
      ],
      "id": "YA9YLQaQKDCd"
    },
    {
      "cell_type": "code",
      "execution_count": null,
      "metadata": {
        "id": "Nqq5kgaAKDCd"
      },
      "outputs": [],
      "source": [
        "def bbox(img):\n",
        "    #include your solution below\n",
        "    return (r1,c1),(r2,c2)\n",
        "\n",
        "\n",
        "from PIL import Image\n",
        "\n",
        "img = np.array(Image.open('../Figures/bin_image.png').convert('L')) > 0\n",
        "print(bbox(img))"
      ],
      "id": "Nqq5kgaAKDCd"
    },
    {
      "cell_type": "markdown",
      "metadata": {
        "id": "1mryNDItKDCd"
      },
      "source": [
        "**23.Write a function to compute the average over a sliding window of length N over a 1D array?**\n",
        "\n",
        "*Example:* [1,2,3,4,5,6,7,8,9], N = 3 -> [2,5,8]"
      ],
      "id": "1mryNDItKDCd"
    },
    {
      "cell_type": "code",
      "execution_count": null,
      "metadata": {
        "id": "wsj2rC37KDCe"
      },
      "outputs": [],
      "source": [
        "def moving_average(x,N = 3):\n",
        "    #define your function here\n",
        "    return\n",
        "\n",
        "a = np.arange(30)\n",
        "N = 3\n",
        "print(moving_average(a,N))"
      ],
      "id": "wsj2rC37KDCe"
    },
    {
      "cell_type": "markdown",
      "metadata": {
        "id": "7wHnVVR5KDCe"
      },
      "source": [
        "**24.  Given a sorted 1D array C that corresponds to a bincount, how to produce an array A such that np.bincount(A) == C?**\n",
        "\n",
        "*Example:* C = [3,2,4] -> D = [0,0,0,1,1,2,2,2,2]\n",
        "\n",
        "*Tip:* Consider using the NumPy repeat function"
      ],
      "id": "7wHnVVR5KDCe"
    },
    {
      "cell_type": "code",
      "execution_count": null,
      "metadata": {
        "id": "9ZcB6ogZKDCe"
      },
      "outputs": [],
      "source": [
        "C = np.bincount([1,1,2,3,4,4,6])\n",
        "print(C)\n",
        "# Include yoru solution here"
      ],
      "id": "9ZcB6ogZKDCe"
    },
    {
      "cell_type": "markdown",
      "metadata": {
        "id": "lf5UtfnuKDCe"
      },
      "source": [
        "**25. Find the most frequent value in the array below?**"
      ],
      "id": "lf5UtfnuKDCe"
    },
    {
      "cell_type": "code",
      "execution_count": 9,
      "metadata": {
        "id": "Kn1ec6YVKDCj",
        "outputId": "0db511c7-a52d-41bf-f63d-9790bb271b08",
        "colab": {
          "base_uri": "https://localhost:8080/"
        }
      },
      "outputs": [
        {
          "output_type": "stream",
          "name": "stdout",
          "text": [
            "Original array:\n",
            "[9 9 1 9 8 2 8 4 8 4 4 2 0 5 4 8 3 1 9 1 2 8 0 5 8 1 7 4 6 2 6 2 3 0 0 8 6\n",
            " 5 9 5 7 8 4 5 4 3 0 6 9 2]\n",
            "The most frequent value in the array:\n",
            "8\n"
          ]
        }
      ],
      "source": [
        "Z = np.random.randint(0,10,50)\n",
        "# Include your solution below\n",
        "\n",
        "print(\"Original array:\")\n",
        "print(Z)\n",
        "print(\"The most frequent value in the array:\")\n",
        "#defined the most frequent value in the array\n",
        "print(np.bincount(Z).argmax())"
      ],
      "id": "Kn1ec6YVKDCj"
    },
    {
      "cell_type": "markdown",
      "metadata": {
        "id": "jPOu6EFBKDCj"
      },
      "source": [
        "**26. Write a function to return the n largest values of an array** "
      ],
      "id": "jPOu6EFBKDCj"
    },
    {
      "cell_type": "code",
      "execution_count": null,
      "metadata": {
        "id": "zNoWxj_GKDCj"
      },
      "outputs": [],
      "source": [
        "def nlargest(a,n = 5):\n",
        "    # Include your solution here\n",
        "    \n",
        "    return\n",
        "\n",
        "Z = np.arange(10000)\n",
        "np.random.shuffle(Z)\n",
        "n = 5\n",
        "print(nlargest(Z,n))    "
      ],
      "id": "zNoWxj_GKDCj"
    }
  ],
  "metadata": {
    "kernelspec": {
      "display_name": "Python 3",
      "language": "python",
      "name": "python3"
    },
    "language_info": {
      "codemirror_mode": {
        "name": "ipython",
        "version": 3
      },
      "file_extension": ".py",
      "mimetype": "text/x-python",
      "name": "python",
      "nbconvert_exporter": "python",
      "pygments_lexer": "ipython3",
      "version": "3.8.5"
    },
    "colab": {
      "name": " Assignment01-python-numpy-programming. Esmaeil Shakeri (6,7,8,25).ipynb",
      "provenance": [],
      "collapsed_sections": []
    }
  },
  "nbformat": 4,
  "nbformat_minor": 5
}