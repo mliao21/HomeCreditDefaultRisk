{
 "cells": [
  {
   "cell_type": "markdown",
   "id": "7c52604f",
   "metadata": {},
   "source": [
    "# Assignment #01\n",
    "\n",
    "This assignment is composed of multiple Python and NumPy programming exercises. The deliverable of this assignment is this jupyter-notebook completed with your solution.\n",
    "\n",
    "The delivery instructions are the following:\n",
    "    - Create a GitHub repository for your team. You are free to choose its name. This repository will be used to delvier the programming assignments and the code of your team's final project.\n",
    "    - Create a folder assignment-01 in the repository. Put the jupyter-notebook with your solution in this repository and post the repository link in your team's D2L dropbox for the assignment.\n",
    "\n",
    "You are being assessed based on:\n",
    "\n",
    "1. Code execution - 25% \n",
    "2. Clarity of the code (e.g., easy to follow, has pertinent comments, etc.) - 25%\n",
    "3. Proper usage of the techniques seen in class - 25%\n",
    "    - remember to avoid explicit Python loops!  \n",
    "4. Quality and correcteness of the results - 25%\n",
    "\n",
    "More details about the assessment are available in the rubric document in the class GitHub repository.\n",
    "\n",
    "Points distribution:\n",
    "- Question 2-21: 3 points per question \n",
    "- Questions 22-26: 8 points per question (total 40)\n",
    "- Total: 100 ponits"
   ]
  },
  {
   "cell_type": "code",
   "execution_count": 1,
   "id": "ccfd6495",
   "metadata": {},
   "outputs": [],
   "source": [
    "import matplotlib.pylab as plt"
   ]
  },
  {
   "cell_type": "markdown",
   "id": "f78fe64b",
   "metadata": {},
   "source": [
    "**1. Import the numpy package under the name np**"
   ]
  },
  {
   "cell_type": "code",
   "execution_count": 2,
   "id": "f8c2e692",
   "metadata": {},
   "outputs": [],
   "source": [
    "import numpy as np"
   ]
  },
  {
   "cell_type": "markdown",
   "id": "6a2509f9",
   "metadata": {},
   "source": [
    "**2. Print the numpy version and the configuration**"
   ]
  },
  {
   "cell_type": "code",
   "execution_count": 3,
   "id": "70797bb0",
   "metadata": {},
   "outputs": [
    {
     "name": "stdout",
     "output_type": "stream",
     "text": [
      "NumPy version: 1.20.3\n",
      "blas_info:\n",
      "    libraries = ['cblas', 'blas', 'cblas', 'blas']\n",
      "    library_dirs = ['/opt/conda/lib']\n",
      "    include_dirs = ['/opt/conda/include']\n",
      "    language = c\n",
      "    define_macros = [('HAVE_CBLAS', None)]\n",
      "blas_opt_info:\n",
      "    define_macros = [('NO_ATLAS_INFO', 1), ('HAVE_CBLAS', None)]\n",
      "    libraries = ['cblas', 'blas', 'cblas', 'blas']\n",
      "    library_dirs = ['/opt/conda/lib']\n",
      "    include_dirs = ['/opt/conda/include']\n",
      "    language = c\n",
      "lapack_info:\n",
      "    libraries = ['lapack', 'blas', 'lapack', 'blas']\n",
      "    library_dirs = ['/opt/conda/lib']\n",
      "    language = f77\n",
      "lapack_opt_info:\n",
      "    libraries = ['lapack', 'blas', 'lapack', 'blas', 'cblas', 'blas', 'cblas', 'blas']\n",
      "    library_dirs = ['/opt/conda/lib']\n",
      "    language = c\n",
      "    define_macros = [('NO_ATLAS_INFO', 1), ('HAVE_CBLAS', None)]\n",
      "    include_dirs = ['/opt/conda/include']\n",
      "NumPy configuration: None\n"
     ]
    }
   ],
   "source": [
    "print(\"NumPy version:\", np.__version__)\n",
    "print(\"NumPy configuration:\", np.show_config())"
   ]
  },
  {
   "cell_type": "markdown",
   "id": "5abb534a",
   "metadata": {},
   "source": [
    "**3. Create a 1D array of zeros of size 10 of type float32**"
   ]
  },
  {
   "cell_type": "code",
   "execution_count": 4,
   "id": "5c757cb4",
   "metadata": {},
   "outputs": [
    {
     "name": "stdout",
     "output_type": "stream",
     "text": [
      "[0. 0. 0. 0. 0. 0. 0. 0. 0. 0.]\n",
      "<class 'numpy.float32'>\n"
     ]
    }
   ],
   "source": [
    "arr = np.zeros(10,dtype=np.float32) #set an array filled with zeros with data type float32\n",
    "print(arr)\n",
    "print(type(arr[0]))"
   ]
  },
  {
   "cell_type": "markdown",
   "id": "19d9a240",
   "metadata": {},
   "source": [
    "**4. Print the memory size of the array below**"
   ]
  },
  {
   "cell_type": "code",
   "execution_count": 5,
   "id": "740d0a3b",
   "metadata": {},
   "outputs": [
    {
     "name": "stdout",
     "output_type": "stream",
     "text": [
      "3192 bytes\n",
      "Memory size of array Z in bytes:  3072\n"
     ]
    }
   ],
   "source": [
    "Z = np.zeros((32,12))\n",
    "# Include your solution below\n",
    "\n",
    "#Python way\n",
    "#getsizeof returns size of an array in bytes\n",
    "from sys import getsizeof\n",
    "print(getsizeof(Z), \"bytes\")\n",
    "\n",
    "#Numpy way\n",
    "print(\"Memory size of array Z in bytes: \", Z.size * Z.itemsize)"
   ]
  },
  {
   "cell_type": "markdown",
   "id": "9f28aec0",
   "metadata": {},
   "source": [
    "**5. Create a 1D array with values ranging from 10 to 58**"
   ]
  },
  {
   "cell_type": "code",
   "execution_count": 6,
   "id": "a91393ed",
   "metadata": {},
   "outputs": [
    {
     "name": "stdout",
     "output_type": "stream",
     "text": [
      "[10 11 12 13 14 15 16 17 18 19 20 21 22 23 24 25 26 27 28 29 30 31 32 33\n",
      " 34 35 36 37 38 39 40 41 42 43 44 45 46 47 48 49 50 51 52 53 54 55 56 57\n",
      " 58]\n"
     ]
    }
   ],
   "source": [
    "#to include 58, we arrange from 10 to 59\n",
    "arr = np.arange(10,59)\n",
    "print(arr)"
   ]
  },
  {
   "cell_type": "markdown",
   "id": "28b27ec5",
   "metadata": {},
   "source": [
    "**6. Reverse the order of the values in the vector (first element becomes last)**"
   ]
  },
  {
   "cell_type": "code",
   "execution_count": 7,
   "id": "40208230",
   "metadata": {},
   "outputs": [
    {
     "name": "stdout",
     "output_type": "stream",
     "text": [
      "Original array:\n",
      "[0 1 2 3 4 5 6 7 8 9]\n",
      "Reverse array:\n",
      "[9 8 7 6 5 4 3 2 1 0]\n"
     ]
    }
   ],
   "source": [
    "a = np.arange(10)\n",
    "# Include your solution below\n",
    "\n",
    "print(\"Original array:\")\n",
    "print(a)\n",
    "print(\"Reverse array:\") \n",
    "a = a[::-1] #reversing the order of the values in the vector\n",
    "print(a)"
   ]
  },
  {
   "cell_type": "markdown",
   "id": "9b8cc554",
   "metadata": {},
   "source": [
    "**7. Create a 3x3 matrix with values ranging from 0 to 8**"
   ]
  },
  {
   "cell_type": "code",
   "execution_count": 8,
   "id": "597c564d",
   "metadata": {},
   "outputs": [
    {
     "name": "stdout",
     "output_type": "stream",
     "text": [
      "[[0 1 2]\n",
      " [3 4 5]\n",
      " [6 7 8]]\n"
     ]
    }
   ],
   "source": [
    "A =  np.arange(0, 9).reshape(3,3)\n",
    "print(A)"
   ]
  },
  {
   "cell_type": "markdown",
   "id": "1d0bcac7",
   "metadata": {},
   "source": [
    "**8. Create a 3x3 identity matrix**"
   ]
  },
  {
   "cell_type": "code",
   "execution_count": 9,
   "id": "9df5d628",
   "metadata": {},
   "outputs": [
    {
     "name": "stdout",
     "output_type": "stream",
     "text": [
      "3x3 identity matrix:\n",
      "[[1. 0. 0.]\n",
      " [0. 1. 0.]\n",
      " [0. 0. 1.]]\n"
     ]
    }
   ],
   "source": [
    "A=np.identity(3)\n",
    "print('3x3 identity matrix:')\n",
    "print(A)"
   ]
  },
  {
   "cell_type": "markdown",
   "id": "90fd644d",
   "metadata": {},
   "source": [
    "**9. Find and print the maximum values of each column in the array below** "
   ]
  },
  {
   "cell_type": "code",
   "execution_count": 10,
   "id": "e01083be",
   "metadata": {},
   "outputs": [
    {
     "name": "stdout",
     "output_type": "stream",
     "text": [
      "Max values of each column = \n",
      " [0.93209589 0.94672182 0.99140333 0.93653811 0.95846024 0.94737351\n",
      " 0.84981164 0.82961834 0.9927342  0.77079639 0.89311202]\n"
     ]
    }
   ],
   "source": [
    "Z = np.random.random((10,11))\n",
    "# Include your solution below\n",
    "\n",
    "M = np.amax(Z, axis=0) #retrieves the maximum values of each column in array Z\n",
    "print(\"Max values of each column = \\n\", M) "
   ]
  },
  {
   "cell_type": "markdown",
   "id": "765f22aa",
   "metadata": {},
   "source": [
    "**10. Create a $7 \\times 7$ array with 1s on the borders (first row and column, last row and columns) and 0s everywhere else**"
   ]
  },
  {
   "cell_type": "code",
   "execution_count": 11,
   "id": "90f4a3ba",
   "metadata": {},
   "outputs": [
    {
     "name": "stdout",
     "output_type": "stream",
     "text": [
      "Array with 1s on the border: \n",
      " [[1. 1. 1. 1. 1. 1. 1.]\n",
      " [1. 0. 0. 0. 0. 0. 1.]\n",
      " [1. 0. 0. 0. 0. 0. 1.]\n",
      " [1. 0. 0. 0. 0. 0. 1.]\n",
      " [1. 0. 0. 0. 0. 0. 1.]\n",
      " [1. 0. 0. 0. 0. 0. 1.]\n",
      " [1. 1. 1. 1. 1. 1. 1.]]\n"
     ]
    }
   ],
   "source": [
    "a = np.ones((7,7)) # creating a 7X7 array with with all the values as 1\n",
    "a[1:-1,1:-1]=0 # slicing the array so that only the borders are 1's and the value everywhere else is 0\n",
    "print('Array with 1s on the border: \\n', a) #printing the desired 7X7 array"
   ]
  },
  {
   "cell_type": "markdown",
   "id": "8f2c9794",
   "metadata": {},
   "source": [
    "**11. Pad the existing array below with zeros (i.e., add additional rows and columns with zeros). Use the NumPy pad function.**"
   ]
  },
  {
   "cell_type": "code",
   "execution_count": 12,
   "id": "4f5eaace",
   "metadata": {},
   "outputs": [
    {
     "name": "stdout",
     "output_type": "stream",
     "text": [
      "Array padded with 0s: \n",
      " [[0. 0. 0. 0. 0. 0. 0.]\n",
      " [0. 1. 1. 1. 1. 1. 0.]\n",
      " [0. 1. 1. 1. 1. 1. 0.]\n",
      " [0. 1. 1. 1. 1. 1. 0.]\n",
      " [0. 1. 1. 1. 1. 1. 0.]\n",
      " [0. 1. 1. 1. 1. 1. 0.]\n",
      " [0. 0. 0. 0. 0. 0. 0.]]\n"
     ]
    }
   ],
   "source": [
    "Z = np.ones((5,5))\n",
    "# Include your solution below\n",
    "\n",
    "Z = np.pad(Z,1) # using the pad() function to pad Z with zeros\n",
    "print('Array padded with 0s: \\n', Z) # printing the array Z"
   ]
  },
  {
   "cell_type": "markdown",
   "id": "6c6b73b0",
   "metadata": {},
   "source": [
    "**12. Extract the integer part of the random array of positive numbers below**"
   ]
  },
  {
   "cell_type": "code",
   "execution_count": 13,
   "id": "3558bda4",
   "metadata": {},
   "outputs": [
    {
     "name": "stdout",
     "output_type": "stream",
     "text": [
      "The random array of positive numbers: \n",
      "[6.82728898 7.49146439 0.23937258 4.92366113 4.61724973 3.85230998\n",
      " 5.85193197 4.20278352 6.01606331 6.78732374]\n",
      "The integer part of the random array of positive numbers: \n",
      "[6. 7. 0. 4. 4. 3. 5. 4. 6. 6.]\n"
     ]
    }
   ],
   "source": [
    "Z = np.random.uniform(0,10,10)\n",
    "# Include your solution below\n",
    "\n",
    "# Solution 1\n",
    "Y= np.trunc(Z) #Return the truncated value of the input array elements\n",
    "# Solution 2\n",
    "# Y= Z.astype(int)\n",
    "print(\"The random array of positive numbers: \")\n",
    "print(Z)\n",
    "print(\"The integer part of the random array of positive numbers: \")\n",
    "print(Y)"
   ]
  },
  {
   "cell_type": "markdown",
   "id": "faf3c16a",
   "metadata": {},
   "source": [
    "**13. Create a 5x5 matrix with rows with equal values ranging from 0 to 4 (i.e., [0,1,2,3,4])**\n",
    "\n",
    "*Hint:* consider using NumPy broadcasting or the tile function*"
   ]
  },
  {
   "cell_type": "code",
   "execution_count": 14,
   "id": "f5d7bfe6",
   "metadata": {},
   "outputs": [
    {
     "name": "stdout",
     "output_type": "stream",
     "text": [
      "The 5x5 matrix with rows with equal values ranging from 0 to 4:\n",
      "[[0 1 2 3 4]\n",
      " [0 1 2 3 4]\n",
      " [0 1 2 3 4]\n",
      " [0 1 2 3 4]\n",
      " [0 1 2 3 4]]\n"
     ]
    }
   ],
   "source": [
    "arr= np.arange(5) #1D array with values ranging from 0 to 4\n",
    "repetitions = (5, 1) # The number of repetitions of arr along each axis\n",
    "Z= np.tile(arr, repetitions) #Repeating arr\n",
    "print(\"The 5x5 matrix with rows with equal values ranging from 0 to 4:\")\n",
    "print(Z)"
   ]
  },
  {
   "cell_type": "markdown",
   "id": "bdb9f3e3",
   "metadata": {},
   "source": [
    "**14. Create a vector of size 10 with values ranging from 0 to 1 (0 and 1 not included)**\n",
    "\n",
    "*Hint: Consider using the linspace function*"
   ]
  },
  {
   "cell_type": "code",
   "execution_count": 15,
   "id": "7f7d3185",
   "metadata": {},
   "outputs": [
    {
     "name": "stdout",
     "output_type": "stream",
     "text": [
      "Vector of size 10 with values ranging from 0 to 1 (0 and 1 not included)\n",
      "[0.09090909 0.18181818 0.27272727 0.36363636 0.45454545 0.54545455\n",
      " 0.63636364 0.72727273 0.81818182 0.90909091]\n"
     ]
    }
   ],
   "source": [
    "# Solution 1: Create the vector of size 10+2 with values ranging from 0 to 1 (0 and 1 included) and then exclude the start (0) and the end (1) using [1:-1]\n",
    "x = np.linspace(0,1,12)[1:-1]\n",
    "#Solution 2: Create the vector of size 10+1 with values ranging from 0 to 1 (0 included and 0 excluded) and then exclude the start (0) using [1:]\n",
    "# x = np.linspace(0,1,11,endpoint=False)[1:]\n",
    "# Use linspace to create a vector of size 10+2 including the start and\n",
    "# numpy.linspace(start, stop, num=10, endpoint=False, retstep=False, dtype=None, axis=0)\n",
    "print(\"Vector of size 10 with values ranging from 0 to 1 (0 and 1 not included)\")\n",
    "print(x)"
   ]
  },
  {
   "cell_type": "markdown",
   "id": "461d5813",
   "metadata": {},
   "source": [
    "**15. Create a random vector of size 10 and sort it**"
   ]
  },
  {
   "cell_type": "code",
   "execution_count": 16,
   "id": "bb0b188f",
   "metadata": {},
   "outputs": [
    {
     "name": "stdout",
     "output_type": "stream",
     "text": [
      "Random vector of size 10 = \n",
      " [0.39414197 0.87092387 0.30883641 0.44452771 0.92137192 0.93648679\n",
      " 0.21962149 0.87356973 0.9746149  0.1203578 ]\n",
      "\n",
      "Sorted vector = \n",
      " [0.1203578  0.21962149 0.30883641 0.39414197 0.44452771 0.87092387\n",
      " 0.87356973 0.92137192 0.93648679 0.9746149 ]\n"
     ]
    }
   ],
   "source": [
    "v = np.random.rand(10) #create random vector of size 10\n",
    "sv = np.sort(v) #sort vector and assign to a variable\n",
    "\n",
    "print(\"Random vector of size 10 = \\n\", v)\n",
    "print()\n",
    "print(\"Sorted vector = \\n\", sv)"
   ]
  },
  {
   "cell_type": "markdown",
   "id": "dc52d716",
   "metadata": {},
   "source": [
    "**16. Consider the cartesian coordinates below (X and Y), convert them to polar coordinates (R and T)**"
   ]
  },
  {
   "cell_type": "code",
   "execution_count": 17,
   "id": "d8271df1",
   "metadata": {},
   "outputs": [
    {
     "name": "stdout",
     "output_type": "stream",
     "text": [
      "R = \n",
      " [0.48552848 0.59439368 0.40347482 1.00602153 0.80707514 0.18410133\n",
      " 0.86465708 0.81335808 0.69207401 0.36436574]\n",
      "\n",
      "T = \n",
      " [1.19142629 0.55661067 0.41010413 1.09195106 0.66389452 0.95817954\n",
      " 0.53900538 0.04571365 0.80682625 1.4870834 ]\n"
     ]
    }
   ],
   "source": [
    "Z = np.random.random((10,2))\n",
    "X,Y = Z[:,0], Z[:,1]\n",
    "# Include your solution below\n",
    "\n",
    "R,T = np.sqrt(X**2+Y**2), np.arctan2(Y,X) #formula to convert and get the radius and theta of cartesian coordinates\n",
    "print(\"R = \\n\", R)\n",
    "print()\n",
    "print(\"T = \\n\", T)"
   ]
  },
  {
   "cell_type": "markdown",
   "id": "d326a526",
   "metadata": {},
   "source": [
    "**17. Create random vector of size 10 and replace the maximum value by 0**"
   ]
  },
  {
   "cell_type": "code",
   "execution_count": 18,
   "id": "d0c5895f",
   "metadata": {},
   "outputs": [
    {
     "name": "stdout",
     "output_type": "stream",
     "text": [
      "Random vector of size 10 = \n",
      " [0.08844527 0.05675388 0.94647832 0.64689765 0.02356214 0.22148441\n",
      " 0.56604492 0.28525062 0.677881   0.14548654]\n",
      "\n",
      "Max value replaced by 0 = \n",
      " [0.08844527 0.05675388 0.         0.64689765 0.02356214 0.22148441\n",
      " 0.56604492 0.28525062 0.677881   0.14548654]\n"
     ]
    }
   ],
   "source": [
    "a = np.random.random(10) #create random vector of size 10\n",
    "print(\"Random vector of size 10 = \\n\", a)\n",
    "\n",
    "a[a.max() == a] = 0 #replace maximum value by 0\n",
    "print()\n",
    "print(\"Max value replaced by 0 = \\n\", a)"
   ]
  },
  {
   "cell_type": "markdown",
   "id": "e7f2c426",
   "metadata": {},
   "source": [
    "**18. Find the nearest value from a given value (z) in an array (Z)**"
   ]
  },
  {
   "cell_type": "code",
   "execution_count": 19,
   "id": "27643a0b",
   "metadata": {},
   "outputs": [
    {
     "name": "stdout",
     "output_type": "stream",
     "text": [
      " The nearest value to z is: 0.5776273104619915\n"
     ]
    }
   ],
   "source": [
    "Z = np.random.uniform(0,1,10)\n",
    "z = 0.5\n",
    "# Include your solution below\n",
    "\n",
    "'''The operation finds the minimum value after performing absolute difference between elements of Z and z \n",
    "by iterating over the elements using the flat function. \n",
    "'''\n",
    "nearest_value = Z.flat[np.abs(Z - z).argmin()]\n",
    "print(f' The nearest value to z is: {nearest_value}')"
   ]
  },
  {
   "cell_type": "markdown",
   "id": "351967dd",
   "metadata": {},
   "source": [
    "**19. Consider the vector [5, 4, 3, 2, 1], how to build a new vector with 3 consecutive zeros interleaved between each value?**"
   ]
  },
  {
   "cell_type": "code",
   "execution_count": 20,
   "id": "d8b3b796",
   "metadata": {},
   "outputs": [
    {
     "name": "stdout",
     "output_type": "stream",
     "text": [
      "[4 3 2 1 0]\n",
      "Vector with zeros interleaved between each value: [4. 0. 0. 0. 3. 0. 0. 0. 2. 0. 0. 0. 1. 0. 0. 0. 0.]\n"
     ]
    }
   ],
   "source": [
    "Z = np.arange(5)[::-1]\n",
    "# Include your solution below\n",
    "\n",
    "zeros = 3\n",
    "\n",
    "# Craete an array fill with zeros with number of zeros equal to the interleaved zeros and the original values\n",
    "new_array = np.zeros(len(Z) + (len(Z)-1)*(zeros))\n",
    "new_array[::zeros+1] = Z #Broadcasting\n",
    "print(Z)\n",
    "print(f'Vector with zeros interleaved between each value: {new_array}')"
   ]
  },
  {
   "cell_type": "markdown",
   "id": "289c1b95",
   "metadata": {},
   "source": [
    "**20. Consider an array of dimension (5,5,3), how to mulitply it element-wise by an array with dimensions (5,5) - i.e., (5,5,0)$\\times$(5,5), (5,5,1)$\\times$(5,5), (5,5,2)$\\times$(5,5)**"
   ]
  },
  {
   "cell_type": "code",
   "execution_count": 21,
   "id": "0d0f7ef8",
   "metadata": {},
   "outputs": [
    {
     "name": "stdout",
     "output_type": "stream",
     "text": [
      "Element-wise multiplication\n",
      "[[[10. 10. 10.]\n",
      "  [10. 10. 10.]\n",
      "  [10. 10. 10.]\n",
      "  [10. 10. 10.]\n",
      "  [10. 10. 10.]]\n",
      "\n",
      " [[10. 10. 10.]\n",
      "  [10. 10. 10.]\n",
      "  [10. 10. 10.]\n",
      "  [10. 10. 10.]\n",
      "  [10. 10. 10.]]\n",
      "\n",
      " [[10. 10. 10.]\n",
      "  [10. 10. 10.]\n",
      "  [10. 10. 10.]\n",
      "  [10. 10. 10.]\n",
      "  [10. 10. 10.]]\n",
      "\n",
      " [[10. 10. 10.]\n",
      "  [10. 10. 10.]\n",
      "  [10. 10. 10.]\n",
      "  [10. 10. 10.]\n",
      "  [10. 10. 10.]]\n",
      "\n",
      " [[10. 10. 10.]\n",
      "  [10. 10. 10.]\n",
      "  [10. 10. 10.]\n",
      "  [10. 10. 10.]\n",
      "  [10. 10. 10.]]]\n"
     ]
    }
   ],
   "source": [
    "A = np.ones((5,5,3))\n",
    "B = 2*np.ones((5,5))\n",
    "# Include your solution below\n",
    "\n",
    "# multiplied_array = (A*B[:,:, None]) # Element-wise multiplication\n",
    "multiplied_array = np.dot(B,A) # Element-wise multiplication carried out by making column of B equal to row of A.\n",
    "print('Element-wise multiplication')\n",
    "print(multiplied_array)"
   ]
  },
  {
   "cell_type": "markdown",
   "id": "b92d35ad",
   "metadata": {},
   "source": [
    "**21. Swap the first and second rows of the 2D array below**"
   ]
  },
  {
   "cell_type": "code",
   "execution_count": 22,
   "id": "627dfa26",
   "metadata": {},
   "outputs": [
    {
     "name": "stdout",
     "output_type": "stream",
     "text": [
      "[[ 0  1  2  3  4]\n",
      " [ 5  6  7  8  9]\n",
      " [10 11 12 13 14]\n",
      " [15 16 17 18 19]\n",
      " [20 21 22 23 24]\n",
      " [25 26 27 28 29]]\n",
      "\n",
      "Swapped Array: \n",
      "[[ 5  6  7  8  9]\n",
      " [ 0  1  2  3  4]\n",
      " [10 11 12 13 14]\n",
      " [15 16 17 18 19]\n",
      " [20 21 22 23 24]\n",
      " [25 26 27 28 29]]\n"
     ]
    }
   ],
   "source": [
    "W = np.arange(30).reshape(6,5)\n",
    "print(W)\n",
    "print()\n",
    "# Include your solution below\n",
    "\n",
    "W[[0,1]] = W[[1,0]]  # First row and and second row swapped\n",
    "print('Swapped Array: ')\n",
    "print(W)"
   ]
  },
  {
   "cell_type": "markdown",
   "id": "0f65fa40",
   "metadata": {},
   "source": [
    "**22. Write a function that receives as input a 2D Boolean NumPy array and outputs the coordinates of the minimal bounding-box\n",
    "that encloses all non-zero elements in the input array**\n",
    "\n",
    "**Tip:** search for the functions nonzero and where in the NumPy documentation.\n",
    "\n",
    "\n",
    "<img src=\"../Figures/bbox.png\" width=\"150\" /> "
   ]
  },
  {
   "cell_type": "code",
   "execution_count": 24,
   "id": "a5fb22a1",
   "metadata": {},
   "outputs": [
    {
     "name": "stdout",
     "output_type": "stream",
     "text": [
      "((29, 50), (342, 431))\n"
     ]
    }
   ],
   "source": [
    "def bbox(img):\n",
    "    #include your solution below\n",
    "    mbb = np.nonzero(img) #retrieve an array of nonzero values from image\n",
    "    r1,c1 = mbb[0].min(), mbb[1].min() #get the lowest value of all rows and columns\n",
    "    r2,c2 = mbb[0].max(), mbb[1].max() #get the highest value of all rows and columns\n",
    "    return (r1,c1),(r2,c2)\n",
    "\n",
    "\n",
    "from PIL import Image\n",
    "\n",
    "img = np.array(Image.open('../Figures/bin_image.png').convert('L')) > 0\n",
    "print(bbox(img))"
   ]
  },
  {
   "cell_type": "markdown",
   "id": "594a9f75",
   "metadata": {},
   "source": [
    "**23.Write a function to compute the average over a sliding window of length N over a 1D array?**\n",
    "\n",
    "*Example:* [1,2,3,4,5,6,7,8,9], N = 3 -> [2,5,8]"
   ]
  },
  {
   "cell_type": "code",
   "execution_count": 25,
   "id": "0deaac8c",
   "metadata": {},
   "outputs": [
    {
     "name": "stdout",
     "output_type": "stream",
     "text": [
      "[ 1.  4.  7. 10. 13. 16. 19. 22. 25. 28.]\n"
     ]
    }
   ],
   "source": [
    "# Solution 1\n",
    "def moving_average(x,N = 3):\n",
    "    new_size = N * np.ceil(x.size / N) #calculates new array size to make 'x' divisible by 'N'\n",
    "    add_zero = new_size.astype(int) - x.size #get the number of zeros to be added to original array 'x'\n",
    "    x = np.pad(x, (0, add_zero), constant_values=(0)) #pad zeros into original array\n",
    "    shape = (int(x.size/N) , N) # (row, column)\n",
    "    strides = (N*x.strides[0], x.strides[0]) # Number of bytes to jump-over in the memory\n",
    "    roll_array = np.lib.stride_tricks.as_strided(x, shape=shape, strides=strides) #Create the view\n",
    "    avg_array= roll_array.mean(axis=1) #Compute the arithmetic mean along columns\n",
    "    return avg_array\n",
    "\n",
    "# Solution 2\n",
    "# def moving_average(x,N = 3):\n",
    "#     new_size = N * np.ceil(x.size / N) #calculates new array size to make 'x' divisible by 'N'\n",
    "#     add_zero = new_size.astype(int) - x.size #get the number of zeros to be added to original array 'x'\n",
    "#     new_x = np.pad(x, (0, add_zero), constant_values=(0)) #pad zeros into original array\n",
    "#     ca = np.cumsum(new_x)[N-1::N] #calculates the cumulative sum of each value in array and filters by multiples of 'N'\n",
    "#     ca[1:] = np.diff(ca) #calculates the difference between every value after the first index\n",
    "#     return ca / N #calculates the moving average\n",
    "\n",
    "a = np.arange(30)\n",
    "N = 3\n",
    "print(moving_average(a,N))"
   ]
  },
  {
   "cell_type": "markdown",
   "id": "238412c0",
   "metadata": {},
   "source": [
    "**24.  Given a sorted 1D array C that corresponds to a bincount, how to produce an array A such that np.bincount(A) == C?**\n",
    "\n",
    "*Example:* C = [3,2,4] -> D = [0,0,0,1,1,2,2,2,2]\n",
    "\n",
    "*Tip:* Consider using the NumPy repeat function"
   ]
  },
  {
   "cell_type": "code",
   "execution_count": 26,
   "id": "54f49148",
   "metadata": {},
   "outputs": [
    {
     "name": "stdout",
     "output_type": "stream",
     "text": [
      "[0 2 1 1 2 0 1]\n",
      "A: [1 1 2 3 4 4 6]\n",
      "np.bincount(A): [0 2 1 1 2 0 1] == C\n"
     ]
    }
   ],
   "source": [
    "C = np.bincount([1,1,2,3,4,4,6])\n",
    "print(C)\n",
    "# Include your solution here\n",
    "\n",
    "A = np.repeat(np.arange(len(C)), C) # using the repeat function to have the data repeated for length(C) times\n",
    "print('A:', A) # printing array A\n",
    "print('np.bincount(A): {} == C'.format(np.bincount(A))) # np.bincount(A) == C"
   ]
  },
  {
   "cell_type": "markdown",
   "id": "21af3ce5",
   "metadata": {},
   "source": [
    "**25. Find the most frequent value in the array below?**"
   ]
  },
  {
   "cell_type": "code",
   "execution_count": 27,
   "id": "2bad2835",
   "metadata": {},
   "outputs": [
    {
     "name": "stdout",
     "output_type": "stream",
     "text": [
      "Original array:\n",
      "[1 3 9 6 3 0 9 2 1 7 4 7 6 9 8 3 9 8 2 0 6 7 0 0 4 2 4 5 1 9 9 8 0 2 5 1 1\n",
      " 3 2 1 8 6 6 1 0 6 1 0 7 6]\n",
      "The most frequent value in the array:\n",
      "1\n"
     ]
    }
   ],
   "source": [
    "Z = np.random.randint(0,10,50)\n",
    "# Include your solution below\n",
    "\n",
    "print(\"Original array:\")\n",
    "print(Z)\n",
    "print(\"The most frequent value in the array:\")\n",
    "print(np.bincount(Z).argmax()) #defining the most frequent value in the array"
   ]
  },
  {
   "cell_type": "markdown",
   "id": "7df4291c",
   "metadata": {},
   "source": [
    "**26. Write a function to return the n largest values of an array** "
   ]
  },
  {
   "cell_type": "code",
   "execution_count": 28,
   "id": "81bdb6c5",
   "metadata": {},
   "outputs": [
    {
     "name": "stdout",
     "output_type": "stream",
     "text": [
      "[9995 9996 9997 9998 9999]\n"
     ]
    }
   ],
   "source": [
    "def nlargest(a,n = 5):\n",
    "    # Include your solution here\n",
    "    Z.sort() # sort the array Z\n",
    "    return Z[-n:] #return last n elements\n",
    "\n",
    "Z = np.arange(10000)\n",
    "np.random.shuffle(Z)\n",
    "n = 5\n",
    "print(nlargest(Z,n))    "
   ]
  },
  {
   "cell_type": "code",
   "execution_count": null,
   "id": "005dba2d",
   "metadata": {},
   "outputs": [],
   "source": []
  }
 ],
 "metadata": {
  "kernelspec": {
   "display_name": "Python 3 (ipykernel)",
   "language": "python",
   "name": "python3"
  },
  "language_info": {
   "codemirror_mode": {
    "name": "ipython",
    "version": 3
   },
   "file_extension": ".py",
   "mimetype": "text/x-python",
   "name": "python",
   "nbconvert_exporter": "python",
   "pygments_lexer": "ipython3",
   "version": "3.9.7"
  }
 },
 "nbformat": 4,
 "nbformat_minor": 5
}
