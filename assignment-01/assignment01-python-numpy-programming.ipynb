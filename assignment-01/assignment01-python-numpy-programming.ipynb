{
 "cells": [
  {
   "cell_type": "markdown",
   "id": "nz8KbDKO1oEv",
   "metadata": {
    "id": "nz8KbDKO1oEv"
   },
   "source": [
    "# Assignment #01\n",
    "\n",
    "This assignment is composed of multiple Python and NumPy programming exercises. The deliverable of this assignment is this jupyter-notebook completed with your solution.\n",
    "\n",
    "The delivery instructions are the following:\n",
    "    - Create a GitHub repository for your team. You are free to choose its name. This repository will be used to delvier the programming assignments and the code of your team's final project.\n",
    "    - Create a folder assignment-01 in the repository. Put the jupyter-notebook with your solution in this repository and post the repository link in your team's D2L dropbox for the assignment.\n",
    "\n",
    "You are being assessed based on:\n",
    "\n",
    "1. Code execution - 25% \n",
    "2. Clarity of the code (e.g., easy to follow, has pertinent comments, etc.) - 25%\n",
    "3. Proper usage of the techniques seen in class - 25%\n",
    "    - remember to avoid explicit Python loops!  \n",
    "4. Quality and correcteness of the results - 25%\n",
    "\n",
    "More details about the assessment are available in the rubric document in the class GitHub repository.\n",
    "\n",
    "Points distribution:\n",
    "- Question 2-21: 3 points per question \n",
    "- Questions 22-26: 8 points per question (total 40)\n",
    "- Total: 100 ponits"
   ]
  },
  {
   "cell_type": "code",
   "execution_count": 1,
   "id": "8pxfX_6B1oE4",
   "metadata": {
    "id": "8pxfX_6B1oE4"
   },
   "outputs": [],
   "source": [
    "import matplotlib.pylab as plt"
   ]
  },
  {
   "cell_type": "markdown",
   "id": "VOiXl6vJ1oE6",
   "metadata": {
    "id": "VOiXl6vJ1oE6"
   },
   "source": [
    "**1. Import the numpy package under the name np**"
   ]
  },
  {
   "cell_type": "code",
   "execution_count": 2,
   "id": "yUeFNOH51oE7",
   "metadata": {
    "id": "yUeFNOH51oE7"
   },
   "outputs": [],
   "source": [
    "import numpy as np"
   ]
  },
  {
   "cell_type": "markdown",
   "id": "qP1X9uxz1oE7",
   "metadata": {
    "id": "qP1X9uxz1oE7"
   },
   "source": [
    "**2. Print the numpy version and the configuration**"
   ]
  },
  {
   "cell_type": "code",
   "execution_count": 3,
   "id": "USdhu8RT1oE8",
   "metadata": {
    "colab": {
     "base_uri": "https://localhost:8080/"
    },
    "executionInfo": {
     "elapsed": 220,
     "status": "ok",
     "timestamp": 1642656451915,
     "user": {
      "displayName": "M. LC",
      "photoUrl": "https://lh3.googleusercontent.com/a-/AOh14GioqtzSnh-NiZww5-mRal6kLIYv-Ne4gvcU58ZdDw=s64",
      "userId": "12255115998635906877"
     },
     "user_tz": 300
    },
    "id": "USdhu8RT1oE8",
    "outputId": "57adf830-4eb4-4e11-cd11-33b8f44296b9"
   },
   "outputs": [
    {
     "name": "stdout",
     "output_type": "stream",
     "text": [
      "NumPy version: 1.20.3\n",
      "blas_info:\n",
      "    libraries = ['cblas', 'blas', 'cblas', 'blas']\n",
      "    library_dirs = ['/opt/conda/lib']\n",
      "    include_dirs = ['/opt/conda/include']\n",
      "    language = c\n",
      "    define_macros = [('HAVE_CBLAS', None)]\n",
      "blas_opt_info:\n",
      "    define_macros = [('NO_ATLAS_INFO', 1), ('HAVE_CBLAS', None)]\n",
      "    libraries = ['cblas', 'blas', 'cblas', 'blas']\n",
      "    library_dirs = ['/opt/conda/lib']\n",
      "    include_dirs = ['/opt/conda/include']\n",
      "    language = c\n",
      "lapack_info:\n",
      "    libraries = ['lapack', 'blas', 'lapack', 'blas']\n",
      "    library_dirs = ['/opt/conda/lib']\n",
      "    language = f77\n",
      "lapack_opt_info:\n",
      "    libraries = ['lapack', 'blas', 'lapack', 'blas', 'cblas', 'blas', 'cblas', 'blas']\n",
      "    library_dirs = ['/opt/conda/lib']\n",
      "    language = c\n",
      "    define_macros = [('NO_ATLAS_INFO', 1), ('HAVE_CBLAS', None)]\n",
      "    include_dirs = ['/opt/conda/include']\n",
      "NumPy configuration: None\n"
     ]
    }
   ],
   "source": [
    "print(\"NumPy version:\", np.__version__)\n",
    "print(\"NumPy configuration:\", np.show_config())"
   ]
  },
  {
   "cell_type": "markdown",
   "id": "xQebzFGr1oE8",
   "metadata": {
    "id": "xQebzFGr1oE8"
   },
   "source": [
    "**3. Create a 1D array of zeros of size 10 of type float32**"
   ]
  },
  {
   "cell_type": "code",
   "execution_count": 4,
   "id": "0L7X_WTZ1oE-",
   "metadata": {
    "colab": {
     "base_uri": "https://localhost:8080/"
    },
    "executionInfo": {
     "elapsed": 305,
     "status": "ok",
     "timestamp": 1642656454203,
     "user": {
      "displayName": "M. LC",
      "photoUrl": "https://lh3.googleusercontent.com/a-/AOh14GioqtzSnh-NiZww5-mRal6kLIYv-Ne4gvcU58ZdDw=s64",
      "userId": "12255115998635906877"
     },
     "user_tz": 300
    },
    "id": "0L7X_WTZ1oE-",
    "outputId": "9e52b30f-ea0b-4a2a-865e-f876f676f9b9"
   },
   "outputs": [
    {
     "data": {
      "text/plain": [
       "array([0., 0., 0., 0., 0., 0., 0., 0., 0., 0.], dtype=float32)"
      ]
     },
     "execution_count": 4,
     "metadata": {},
     "output_type": "execute_result"
    }
   ],
   "source": [
    "np.zeros(10, dtype=np.float32)"
   ]
  },
  {
   "cell_type": "markdown",
   "id": "R7LIXyfq1oE-",
   "metadata": {
    "id": "R7LIXyfq1oE-"
   },
   "source": [
    "**4. Print the memory size of the array below**"
   ]
  },
  {
   "cell_type": "code",
   "execution_count": 5,
   "id": "nGI6TLKm1oE_",
   "metadata": {
    "colab": {
     "base_uri": "https://localhost:8080/"
    },
    "executionInfo": {
     "elapsed": 219,
     "status": "ok",
     "timestamp": 1642656456782,
     "user": {
      "displayName": "M. LC",
      "photoUrl": "https://lh3.googleusercontent.com/a-/AOh14GioqtzSnh-NiZww5-mRal6kLIYv-Ne4gvcU58ZdDw=s64",
      "userId": "12255115998635906877"
     },
     "user_tz": 300
    },
    "id": "nGI6TLKm1oE_",
    "outputId": "9ae11f69-268b-459d-8ee4-124e0914dddf"
   },
   "outputs": [
    {
     "name": "stdout",
     "output_type": "stream",
     "text": [
      "Memory size of array Z in bytes:  3072\n"
     ]
    }
   ],
   "source": [
    "Z = np.zeros((32,12))\n",
    "# Include your solution below\n",
    "print(\"Memory size of array Z in bytes: \", Z.size * Z.itemsize)"
   ]
  },
  {
   "cell_type": "markdown",
   "id": "BV5Fx5IA1oFA",
   "metadata": {
    "id": "BV5Fx5IA1oFA"
   },
   "source": [
    "**5. Create a 1D array with values ranging from 10 to 58**"
   ]
  },
  {
   "cell_type": "code",
   "execution_count": 6,
   "id": "0LQw4Gov1oFB",
   "metadata": {
    "colab": {
     "base_uri": "https://localhost:8080/"
    },
    "executionInfo": {
     "elapsed": 203,
     "status": "ok",
     "timestamp": 1642656459127,
     "user": {
      "displayName": "M. LC",
      "photoUrl": "https://lh3.googleusercontent.com/a-/AOh14GioqtzSnh-NiZww5-mRal6kLIYv-Ne4gvcU58ZdDw=s64",
      "userId": "12255115998635906877"
     },
     "user_tz": 300
    },
    "id": "0LQw4Gov1oFB",
    "outputId": "a53a5223-09c6-45ed-ee89-7347fd7b00b5"
   },
   "outputs": [
    {
     "data": {
      "text/plain": [
       "array([10, 11, 12, 13, 14, 15, 16, 17, 18, 19, 20, 21, 22, 23, 24, 25, 26,\n",
       "       27, 28, 29, 30, 31, 32, 33, 34, 35, 36, 37, 38, 39, 40, 41, 42, 43,\n",
       "       44, 45, 46, 47, 48, 49, 50, 51, 52, 53, 54, 55, 56, 57, 58])"
      ]
     },
     "execution_count": 6,
     "metadata": {},
     "output_type": "execute_result"
    }
   ],
   "source": [
    "np.arange(10,59)"
   ]
  },
  {
   "cell_type": "markdown",
   "id": "nuaC_2Cw1oFC",
   "metadata": {
    "id": "nuaC_2Cw1oFC"
   },
   "source": [
    "**6. Reverse the order of the values in the vector (first element becomes last)**"
   ]
  },
  {
   "cell_type": "code",
   "execution_count": 7,
   "id": "yuAJoC2M1oFC",
   "metadata": {
    "colab": {
     "base_uri": "https://localhost:8080/"
    },
    "executionInfo": {
     "elapsed": 203,
     "status": "ok",
     "timestamp": 1642656461242,
     "user": {
      "displayName": "M. LC",
      "photoUrl": "https://lh3.googleusercontent.com/a-/AOh14GioqtzSnh-NiZww5-mRal6kLIYv-Ne4gvcU58ZdDw=s64",
      "userId": "12255115998635906877"
     },
     "user_tz": 300
    },
    "id": "yuAJoC2M1oFC",
    "outputId": "41b081a8-5842-4a7a-9c8a-0726fa6f0e21"
   },
   "outputs": [
    {
     "data": {
      "text/plain": [
       "array([9, 8, 7, 6, 5, 4, 3, 2, 1, 0])"
      ]
     },
     "execution_count": 7,
     "metadata": {},
     "output_type": "execute_result"
    }
   ],
   "source": [
    "a = np.arange(10)\n",
    "# Include your solution below\n",
    "np.flip(a)"
   ]
  },
  {
   "cell_type": "markdown",
   "id": "Zq2chXfJ1oFD",
   "metadata": {
    "id": "Zq2chXfJ1oFD"
   },
   "source": [
    "**7. Create a 3x3 matrix with values ranging from 0 to 8**"
   ]
  },
  {
   "cell_type": "code",
   "execution_count": 8,
   "id": "ZQ-H97MI1oFD",
   "metadata": {
    "colab": {
     "base_uri": "https://localhost:8080/"
    },
    "executionInfo": {
     "elapsed": 209,
     "status": "ok",
     "timestamp": 1642656463281,
     "user": {
      "displayName": "M. LC",
      "photoUrl": "https://lh3.googleusercontent.com/a-/AOh14GioqtzSnh-NiZww5-mRal6kLIYv-Ne4gvcU58ZdDw=s64",
      "userId": "12255115998635906877"
     },
     "user_tz": 300
    },
    "id": "ZQ-H97MI1oFD",
    "outputId": "8cb1bcc2-6f63-40ee-f34a-104ea91e0bdc"
   },
   "outputs": [
    {
     "data": {
      "text/plain": [
       "array([[0, 1, 2],\n",
       "       [3, 4, 5],\n",
       "       [6, 7, 8]])"
      ]
     },
     "execution_count": 8,
     "metadata": {},
     "output_type": "execute_result"
    }
   ],
   "source": [
    "np.arange(0,9).reshape(3,3)"
   ]
  },
  {
   "cell_type": "markdown",
   "id": "X9cColJD1oFD",
   "metadata": {
    "id": "X9cColJD1oFD"
   },
   "source": [
    "**8. Create a 3x3 identity matrix**"
   ]
  },
  {
   "cell_type": "code",
   "execution_count": 9,
   "id": "GiDA6cgy1oFE",
   "metadata": {
    "colab": {
     "base_uri": "https://localhost:8080/"
    },
    "executionInfo": {
     "elapsed": 214,
     "status": "ok",
     "timestamp": 1642656466459,
     "user": {
      "displayName": "M. LC",
      "photoUrl": "https://lh3.googleusercontent.com/a-/AOh14GioqtzSnh-NiZww5-mRal6kLIYv-Ne4gvcU58ZdDw=s64",
      "userId": "12255115998635906877"
     },
     "user_tz": 300
    },
    "id": "GiDA6cgy1oFE",
    "outputId": "a8a47fa6-89e7-4a9e-fd96-bb464edcdc32"
   },
   "outputs": [
    {
     "data": {
      "text/plain": [
       "array([[1., 0., 0.],\n",
       "       [0., 1., 0.],\n",
       "       [0., 0., 1.]])"
      ]
     },
     "execution_count": 9,
     "metadata": {},
     "output_type": "execute_result"
    }
   ],
   "source": [
    "np.identity(3)"
   ]
  },
  {
   "cell_type": "markdown",
   "id": "0hdNmgUi1oFE",
   "metadata": {
    "id": "0hdNmgUi1oFE"
   },
   "source": [
    "**9. Find and print the maximum values of each column in the array below** "
   ]
  },
  {
   "cell_type": "code",
   "execution_count": 10,
   "id": "Ims7ttCQ1oFE",
   "metadata": {
    "id": "Ims7ttCQ1oFE"
   },
   "outputs": [
    {
     "name": "stdout",
     "output_type": "stream",
     "text": [
      "Max values from each column = \n",
      " [0.99459132 0.68089913 0.8823252  0.95906905 0.98493285 0.87199508\n",
      " 0.96697887 0.97742887 0.90445535 0.96312263 0.97020342]\n"
     ]
    }
   ],
   "source": [
    "Z = np.random.random((10,11))\n",
    "# Include your solution below\n",
    "\n",
    "print(\"Max values from each column = \\n\", np.amax(Z, axis=0))"
   ]
  },
  {
   "cell_type": "markdown",
   "id": "4Dz9u_q31oFF",
   "metadata": {
    "id": "4Dz9u_q31oFF"
   },
   "source": [
    "**10. Create a $7 \\times 7$ array with 1s on the borders (first row and column, last row and columns) and 0s everywhere else**"
   ]
  },
  {
   "cell_type": "code",
   "execution_count": 11,
   "id": "0rrHw80u1oFF",
   "metadata": {
    "id": "0rrHw80u1oFF"
   },
   "outputs": [
    {
     "data": {
      "text/plain": [
       "array([[1., 1., 1., 1., 1., 1., 1.],\n",
       "       [1., 0., 0., 0., 0., 0., 1.],\n",
       "       [1., 0., 0., 0., 0., 0., 1.],\n",
       "       [1., 0., 0., 0., 0., 0., 1.],\n",
       "       [1., 0., 0., 0., 0., 0., 1.],\n",
       "       [1., 0., 0., 0., 0., 0., 1.],\n",
       "       [1., 1., 1., 1., 1., 1., 1.]])"
      ]
     },
     "execution_count": 11,
     "metadata": {},
     "output_type": "execute_result"
    }
   ],
   "source": [
    "m = np.ones((7,7))\n",
    "m[1:-1,1:-1] = 0\n",
    "m"
   ]
  },
  {
   "cell_type": "markdown",
   "id": "yY0tldzj1oFG",
   "metadata": {
    "id": "yY0tldzj1oFG"
   },
   "source": [
    "**11. Pad the existing array below with zeros (i.e., add additional rows and columns with zeros). Use the NumPy pad function.**"
   ]
  },
  {
   "cell_type": "code",
   "execution_count": 12,
   "id": "elmatzKC1oFG",
   "metadata": {
    "id": "elmatzKC1oFG"
   },
   "outputs": [
    {
     "data": {
      "text/plain": [
       "array([[0., 0., 0., 0., 0., 0., 0.],\n",
       "       [0., 1., 1., 1., 1., 1., 0.],\n",
       "       [0., 1., 1., 1., 1., 1., 0.],\n",
       "       [0., 1., 1., 1., 1., 1., 0.],\n",
       "       [0., 1., 1., 1., 1., 1., 0.],\n",
       "       [0., 1., 1., 1., 1., 1., 0.],\n",
       "       [0., 0., 0., 0., 0., 0., 0.]])"
      ]
     },
     "execution_count": 12,
     "metadata": {},
     "output_type": "execute_result"
    }
   ],
   "source": [
    "Z = np.ones((5,5))\n",
    "# Include your solution below\n",
    "\n",
    "np.pad(Z, ((1,1), (1,1)), constant_values=(0))"
   ]
  },
  {
   "cell_type": "markdown",
   "id": "HZ_LYa6_1oFG",
   "metadata": {
    "id": "HZ_LYa6_1oFG"
   },
   "source": [
    "**12. Extract the integer part of the random array of positive numbers below**"
   ]
  },
  {
   "cell_type": "code",
   "execution_count": 13,
   "id": "cKgdG84F1oFH",
   "metadata": {
    "id": "cKgdG84F1oFH"
   },
   "outputs": [
    {
     "name": "stdout",
     "output_type": "stream",
     "text": [
      "Z= \n",
      " [7.21591895 7.10028174 6.05545268 1.00148309 0.57077936 0.39608782\n",
      " 6.68055904 2.64185324 1.33929326 8.91655525]\n",
      "\n",
      "Positive Integers = \n",
      " [7 7 6 1 6 2 1 8]\n"
     ]
    }
   ],
   "source": [
    "Z = np.random.uniform(0,10,10)\n",
    "# Include your solution below\n",
    "\n",
    "print(\"Z= \\n\", Z)\n",
    "\n",
    "P = Z.astype(int)\n",
    "print(\"\\nPositive Integers = \\n\", P[P>0])"
   ]
  },
  {
   "cell_type": "markdown",
   "id": "GDq-9KD41oFH",
   "metadata": {
    "id": "GDq-9KD41oFH"
   },
   "source": [
    "**13. Create a 5x5 matrix with rows with equal values ranging from 0 to 4 (i.e., [0,1,2,3,4])**\n",
    "\n",
    "*Hint:* consider using NumPy broadcasting or the tile function*"
   ]
  },
  {
   "cell_type": "code",
   "execution_count": 14,
   "id": "N0QMnqKB1oFH",
   "metadata": {
    "id": "N0QMnqKB1oFH"
   },
   "outputs": [
    {
     "data": {
      "text/plain": [
       "array([[0, 1, 2, 3, 4],\n",
       "       [0, 1, 2, 3, 4],\n",
       "       [0, 1, 2, 3, 4],\n",
       "       [0, 1, 2, 3, 4],\n",
       "       [0, 1, 2, 3, 4]])"
      ]
     },
     "execution_count": 14,
     "metadata": {},
     "output_type": "execute_result"
    }
   ],
   "source": [
    "np.tile(np.arange(0,5), (5,1))"
   ]
  },
  {
   "cell_type": "markdown",
   "id": "DDt_H1SA1oFH",
   "metadata": {
    "id": "DDt_H1SA1oFH"
   },
   "source": [
    "**14. Create a vector of size 10 with values ranging from 0 to 1 (0 and 1 not included)**\n",
    "\n",
    "*Hint: Consider using the linspace function*"
   ]
  },
  {
   "cell_type": "code",
   "execution_count": 15,
   "id": "xVTN3PqR1oFI",
   "metadata": {
    "id": "xVTN3PqR1oFI"
   },
   "outputs": [
    {
     "data": {
      "text/plain": [
       "array([0.09090909, 0.18181818, 0.27272727, 0.36363636, 0.45454545,\n",
       "       0.54545455, 0.63636364, 0.72727273, 0.81818182, 0.90909091])"
      ]
     },
     "execution_count": 15,
     "metadata": {},
     "output_type": "execute_result"
    }
   ],
   "source": [
    "np.linspace(0,1,11, endpoint=False)[1:]"
   ]
  },
  {
   "cell_type": "markdown",
   "id": "guuqCkIu1oFI",
   "metadata": {
    "id": "guuqCkIu1oFI"
   },
   "source": [
    "**15. Create a random vector of size 10 and sort it**"
   ]
  },
  {
   "cell_type": "code",
   "execution_count": 16,
   "id": "saDyG6xx1oFI",
   "metadata": {
    "id": "saDyG6xx1oFI"
   },
   "outputs": [
    {
     "data": {
      "text/plain": [
       "array([0.27291809, 0.40866056, 0.51513556, 0.52706082, 0.53300987,\n",
       "       0.62510629, 0.7491893 , 0.86052867, 0.9267356 , 0.97987601])"
      ]
     },
     "execution_count": 16,
     "metadata": {},
     "output_type": "execute_result"
    }
   ],
   "source": [
    "np.sort(np.random.rand(10))"
   ]
  },
  {
   "cell_type": "markdown",
   "id": "H0sOofcV1oFI",
   "metadata": {
    "id": "H0sOofcV1oFI"
   },
   "source": [
    "**16. Consider the cartesian coordinates below (X and Y), convert them to polar coordinates (R and T)**"
   ]
  },
  {
   "cell_type": "code",
   "execution_count": 17,
   "id": "0nCOIsS51oFJ",
   "metadata": {
    "id": "0nCOIsS51oFJ"
   },
   "outputs": [
    {
     "name": "stdout",
     "output_type": "stream",
     "text": [
      "R= \n",
      " [0.33065412 0.31969365 0.69127329 0.75957406 1.09890031 1.03913731\n",
      " 0.92913542 0.47100822 0.73996558 0.48805591]\n",
      "\n",
      "T= \n",
      " [0.21242395 1.4586569  0.82650113 0.41092344 0.72711834 0.36172517\n",
      " 1.24683057 1.46673733 1.05906349 1.03568751]\n"
     ]
    }
   ],
   "source": [
    "Z = np.random.random((10,2))\n",
    "X,Y = Z[:,0], Z[:,1]\n",
    "# Include your solution below\n",
    "\n",
    "R,T = np.sqrt(X**2+Y**2), np.arctan2(Y,X)\n",
    "print(\"R= \\n\", R)\n",
    "print(\"\\nT= \\n\", T)"
   ]
  },
  {
   "cell_type": "markdown",
   "id": "W4yWekVj1oFJ",
   "metadata": {
    "id": "W4yWekVj1oFJ"
   },
   "source": [
    "**17. Create random vector of size 10 and replace the maximum value by 0**"
   ]
  },
  {
   "cell_type": "code",
   "execution_count": 18,
   "id": "hvu6PmnA1oFJ",
   "metadata": {
    "id": "hvu6PmnA1oFJ"
   },
   "outputs": [
    {
     "name": "stdout",
     "output_type": "stream",
     "text": [
      "original vector= \n",
      " [0.28079809 0.89958419 0.60353379 0.2527718  0.85966698 0.02684734\n",
      " 0.07304231 0.58579438 0.58410332 0.05952582]\n",
      "\n",
      "replace max value by 0 = \n",
      " [0.28079809 0.         0.60353379 0.2527718  0.85966698 0.02684734\n",
      " 0.07304231 0.58579438 0.58410332 0.05952582]\n"
     ]
    }
   ],
   "source": [
    "a = np.random.random(10)\n",
    "print(\"original vector= \\n\", a)\n",
    "\n",
    "a[a.max() == a] = 0\n",
    "print(\"\\nreplace max value by 0 = \\n\", a)"
   ]
  },
  {
   "cell_type": "markdown",
   "id": "djIvIoqt1oFJ",
   "metadata": {
    "id": "djIvIoqt1oFJ"
   },
   "source": [
    "**18. Find the nearest value from a given value (z) in an array (Z)**"
   ]
  },
  {
   "cell_type": "code",
   "execution_count": 19,
   "id": "x-3QlIEb1oFK",
   "metadata": {
    "id": "x-3QlIEb1oFK"
   },
   "outputs": [
    {
     "name": "stdout",
     "output_type": "stream",
     "text": [
      "Z= \n",
      " [0.42937985 0.22114311 0.2295243  0.6827266  0.21087235 0.18790551\n",
      " 0.62246465 0.71171644 0.23439451 0.30713138]\n",
      "\n",
      "Nearest value of z = 0.5  is  0.4293798517219033\n"
     ]
    }
   ],
   "source": [
    "Z = np.random.uniform(0,1,10)\n",
    "z = 0.5\n",
    "# Include your solution below\n",
    "print(\"Z= \\n\", Z)\n",
    "print(\"\\nNearest value of z =\", '%s' %(z),\" is \", Z.flat[np.abs(Z-z).argmin()])"
   ]
  },
  {
   "cell_type": "markdown",
   "id": "5ndfGCwo1oFK",
   "metadata": {
    "id": "5ndfGCwo1oFK"
   },
   "source": [
    "**19. Consider the vector [5, 4, 3, 2, 1], how to build a new vector with 3 consecutive zeros interleaved between each value?**"
   ]
  },
  {
   "cell_type": "code",
   "execution_count": 20,
   "id": "RGl8NGKK1oFK",
   "metadata": {
    "id": "RGl8NGKK1oFK"
   },
   "outputs": [
    {
     "data": {
      "text/plain": [
       "array([5., 0., 0., 0., 4., 0., 0., 0., 3., 0., 0., 0., 2., 0., 0., 0., 1.])"
      ]
     },
     "execution_count": 20,
     "metadata": {},
     "output_type": "execute_result"
    }
   ],
   "source": [
    "Z = np.arange(1,6)[::-1]\n",
    "# Include your solution below\n",
    "\n",
    "z = np.zeros(3)\n",
    "np.insert(np.broadcast_to(z, (Z.size, z.size)), 0, Z, axis=1).ravel()[:-3]"
   ]
  },
  {
   "cell_type": "markdown",
   "id": "-fi87BWe1oFK",
   "metadata": {
    "id": "-fi87BWe1oFK"
   },
   "source": [
    "**20. Consider an array of dimension (5,5,3), how to mulitply it element-wise by an array with dimensions (5,5) - i.e., (5,5,0)$\\times$(5,5), (5,5,1)$\\times$(5,5), (5,5,2)$\\times$(5,5)**"
   ]
  },
  {
   "cell_type": "code",
   "execution_count": 21,
   "id": "0sG8JMla1oFL",
   "metadata": {
    "id": "0sG8JMla1oFL"
   },
   "outputs": [
    {
     "name": "stdout",
     "output_type": "stream",
     "text": [
      "Method #1 np.dot(B,A) = \n",
      "\n",
      "[[[10. 10. 10.]\n",
      "  [10. 10. 10.]\n",
      "  [10. 10. 10.]\n",
      "  [10. 10. 10.]\n",
      "  [10. 10. 10.]]\n",
      "\n",
      " [[10. 10. 10.]\n",
      "  [10. 10. 10.]\n",
      "  [10. 10. 10.]\n",
      "  [10. 10. 10.]\n",
      "  [10. 10. 10.]]\n",
      "\n",
      " [[10. 10. 10.]\n",
      "  [10. 10. 10.]\n",
      "  [10. 10. 10.]\n",
      "  [10. 10. 10.]\n",
      "  [10. 10. 10.]]\n",
      "\n",
      " [[10. 10. 10.]\n",
      "  [10. 10. 10.]\n",
      "  [10. 10. 10.]\n",
      "  [10. 10. 10.]\n",
      "  [10. 10. 10.]]\n",
      "\n",
      " [[10. 10. 10.]\n",
      "  [10. 10. 10.]\n",
      "  [10. 10. 10.]\n",
      "  [10. 10. 10.]\n",
      "  [10. 10. 10.]]] \n",
      "\n",
      "\n",
      "Method #2 = \n",
      "\n",
      "np.dot(A[:,:,0]= \n",
      " [[10. 10. 10. 10. 10.]\n",
      " [10. 10. 10. 10. 10.]\n",
      " [10. 10. 10. 10. 10.]\n",
      " [10. 10. 10. 10. 10.]\n",
      " [10. 10. 10. 10. 10.]]\n",
      "np.dot(A[:,:,1]= \n",
      " [[10. 10. 10. 10. 10.]\n",
      " [10. 10. 10. 10. 10.]\n",
      " [10. 10. 10. 10. 10.]\n",
      " [10. 10. 10. 10. 10.]\n",
      " [10. 10. 10. 10. 10.]]\n",
      "np.dot(A[:,:,2]= \n",
      " [[10. 10. 10. 10. 10.]\n",
      " [10. 10. 10. 10. 10.]\n",
      " [10. 10. 10. 10. 10.]\n",
      " [10. 10. 10. 10. 10.]\n",
      " [10. 10. 10. 10. 10.]]\n"
     ]
    }
   ],
   "source": [
    "A = np.ones((5,5,3))\n",
    "B = 2*np.ones((5,5))\n",
    "# Include your solution below\n",
    "\n",
    "print(\"Method #1 np.dot(B,A) = \\n\")\n",
    "print(np.dot(B,A), \"\\n\\n\")\n",
    "\n",
    "# or this method\n",
    "print(\"Method #2 = \\n\")\n",
    "print(\"np.dot(A[:,:,0]= \\n\", np.dot(A[:,:,0],B))\n",
    "print(\"np.dot(A[:,:,1]= \\n\", np.dot(A[:,:,1],B))\n",
    "print(\"np.dot(A[:,:,2]= \\n\", np.dot(A[:,:,2],B))"
   ]
  },
  {
   "cell_type": "markdown",
   "id": "16CyT2Eu1oFL",
   "metadata": {
    "id": "16CyT2Eu1oFL"
   },
   "source": [
    "**21. Swap the first and second rows of the 2D array below**"
   ]
  },
  {
   "cell_type": "code",
   "execution_count": 22,
   "id": "jUCY4hoQ1oFL",
   "metadata": {
    "id": "jUCY4hoQ1oFL"
   },
   "outputs": [
    {
     "name": "stdout",
     "output_type": "stream",
     "text": [
      "[[ 0  1  2  3  4]\n",
      " [ 5  6  7  8  9]\n",
      " [10 11 12 13 14]\n",
      " [15 16 17 18 19]\n",
      " [20 21 22 23 24]\n",
      " [25 26 27 28 29]]\n",
      "\n",
      "Swapped=\n",
      "[[ 5  6  7  8  9]\n",
      " [ 0  1  2  3  4]\n",
      " [10 11 12 13 14]\n",
      " [15 16 17 18 19]\n",
      " [20 21 22 23 24]\n",
      " [25 26 27 28 29]]\n"
     ]
    }
   ],
   "source": [
    "W = np.arange(30).reshape(6,5)\n",
    "print(W)\n",
    "print()\n",
    "# Include your solution below\n",
    "\n",
    "W[[0,1]] = W[[1,0]]\n",
    "print(\"Swapped=\")\n",
    "print(W)"
   ]
  },
  {
   "cell_type": "markdown",
   "id": "H11NCdAV1oFL",
   "metadata": {
    "id": "H11NCdAV1oFL"
   },
   "source": [
    "**22. Write a function that receives as input a 2D Boolean NumPy array and outputs the coordinates of the minimal bounding-box\n",
    "that encloses all non-zero elements in the input array**\n",
    "\n",
    "**Tip:** search for the functions nonzero and where in the NumPy documentation.\n",
    "\n",
    "\n",
    "<img src=\"Figures/bbox.png\" width=\"150\" /> "
   ]
  },
  {
   "cell_type": "code",
   "execution_count": 23,
   "id": "rYv-856s1oFM",
   "metadata": {
    "id": "rYv-856s1oFM"
   },
   "outputs": [
    {
     "data": {
      "image/png": "[encoded data removed]",
      "text/plain": [
       "<Figure size 432x288 with 1 Axes>"
      ]
     },
     "metadata": {
      "needs_background": "light"
     },
     "output_type": "display_data"
    },
    {
     "name": "stdout",
     "output_type": "stream",
     "text": [
      "((29, 50), (342, 431))\n"
     ]
    }
   ],
   "source": [
    "def bbox(img):\n",
    "    #include your solution below\n",
    "    mbb = np.nonzero(img)\n",
    "    r1,c1 = mbb[0].min(), mbb[1].min()\n",
    "    r2,c2 = mbb[0].max(), mbb[1].max()\n",
    "    return (r1,c1),(r2,c2)\n",
    "\n",
    "\n",
    "from PIL import Image\n",
    "\n",
    "img = np.array(Image.open('Figures/bin_image.png').convert('L')) > 0\n",
    "plt.figure()\n",
    "plt.subplot(121)\n",
    "plt.imshow(img, cmap = \"gray\")\n",
    "plt.axis(\"off\")\n",
    "plt.show()\n",
    "\n",
    "print(bbox(img))"
   ]
  },
  {
   "cell_type": "markdown",
   "id": "GTNYbBBL1oFM",
   "metadata": {
    "id": "GTNYbBBL1oFM"
   },
   "source": [
    "**23.Write a function to compute the average over a sliding window of length N over a 1D array?**\n",
    "\n",
    "*Example:* [1,2,3,4,5,6,7,8,9], N = 3 -> [2,5,8]"
   ]
  },
  {
   "cell_type": "code",
   "execution_count": 24,
   "id": "NWlinRet1oFM",
   "metadata": {
    "id": "NWlinRet1oFM"
   },
   "outputs": [
    {
     "name": "stdout",
     "output_type": "stream",
     "text": [
      "[ 1.  4.  7. 10. 13. 16. 19. 22. 25. 28.]\n"
     ]
    }
   ],
   "source": [
    "def moving_average(x,N = 3):\n",
    "    #define your function here\n",
    "    ca = np.cumsum(x)[N-1::N]\n",
    "    ca[1:] = np.diff(ca)\n",
    "    return ca / N\n",
    "\n",
    "a = np.arange(30)\n",
    "N = 3\n",
    "print(moving_average(a,N))"
   ]
  },
  {
   "cell_type": "markdown",
   "id": "xwI016Lt1oFN",
   "metadata": {
    "id": "xwI016Lt1oFN"
   },
   "source": [
    "**24.  Given a sorted 1D array C that corresponds to a bincount, how to produce an array A such that np.bincount(A) == C?**\n",
    "\n",
    "*Example:* C = [3,2,4] -> D = [0,0,0,1,1,2,2,2,2]\n",
    "\n",
    "*Tip:* Consider using the NumPy repeat function"
   ]
  },
  {
   "cell_type": "code",
   "execution_count": 25,
   "id": "rPXouCv-1oFN",
   "metadata": {
    "id": "rPXouCv-1oFN"
   },
   "outputs": [
    {
     "name": "stdout",
     "output_type": "stream",
     "text": [
      "C= [0 2 1 1 2 0 1]\n",
      "A= [1 1 2 3 4 4 6] np.bincount(A)= [0 2 1 1 2 0 1]\n"
     ]
    }
   ],
   "source": [
    "C = np.bincount([1,1,2,3,4,4,6])\n",
    "print(\"C=\", C)\n",
    "# Include yoru solution here\n",
    "\n",
    "A = np.repeat(np.arange(C.size), C)\n",
    "print(\"A=\", A, \"np.bincount(A)=\", np.bincount(A))"
   ]
  },
  {
   "cell_type": "markdown",
   "id": "DcrGgb831oFN",
   "metadata": {
    "id": "DcrGgb831oFN"
   },
   "source": [
    "**25. Find the most frequent value in the array below?**"
   ]
  },
  {
   "cell_type": "code",
   "execution_count": 26,
   "id": "WB1Zv8jy1oFO",
   "metadata": {
    "id": "WB1Zv8jy1oFO"
   },
   "outputs": [
    {
     "name": "stdout",
     "output_type": "stream",
     "text": [
      "Z= \n",
      " [2 3 5 7 1 9 3 1 4 5 6 2 3 9 3 7 0 2 6 0 1 2 8 8 8 1 8 8 0 3 2 7 2 9 7 3 6\n",
      " 9 6 3 4 8 3 1 6 8 0 1 1 4]\n",
      "\n",
      "Bin Count of Z = \n",
      " [4 7 6 8 3 2 5 4 7 4]\n",
      "\n",
      "Most frequent value in Z =  3\n"
     ]
    }
   ],
   "source": [
    "Z = np.random.randint(0,10,50)\n",
    "# Include your solution below\n",
    "\n",
    "print(\"Z= \\n\", Z)\n",
    "print(\"\\nBin Count of Z = \\n\", np.bincount(Z))\n",
    "print(\"\\nMost frequent value in Z = \", np.bincount(Z).argmax())"
   ]
  },
  {
   "cell_type": "markdown",
   "id": "pVzscWCU1oFO",
   "metadata": {
    "id": "pVzscWCU1oFO"
   },
   "source": [
    "**26. Write a function to return the n largest values of an array** "
   ]
  },
  {
   "cell_type": "code",
   "execution_count": 27,
   "id": "-n48vzxq1oFP",
   "metadata": {
    "id": "-n48vzxq1oFP"
   },
   "outputs": [
    {
     "name": "stdout",
     "output_type": "stream",
     "text": [
      "[9999 9998 9997 9996 9995]\n"
     ]
    }
   ],
   "source": [
    "def nlargest(a,n = 5):\n",
    "    # Include your solution here\n",
    "    s = a[np.argsort(a)]\n",
    "    return s[:-n-1:-1]\n",
    "\n",
    "Z = np.arange(10000)\n",
    "np.random.shuffle(Z)\n",
    "n = 5\n",
    "print(nlargest(Z,n))"
   ]
  },
  {
   "cell_type": "code",
   "execution_count": null,
   "id": "fceff071",
   "metadata": {},
   "outputs": [],
   "source": []
  }
 ],
 "metadata": {
  "colab": {
   "collapsed_sections": [],
   "name": "assignment01-python-numpy-programming.ipynb",
   "provenance": []
  },
  "kernelspec": {
   "display_name": "Python 3 (ipykernel)",
   "language": "python",
   "name": "python3"
  },
  "language_info": {
   "codemirror_mode": {
    "name": "ipython",
    "version": 3
   },
   "file_extension": ".py",
   "mimetype": "text/x-python",
   "name": "python",
   "nbconvert_exporter": "python",
   "pygments_lexer": "ipython3",
   "version": "3.9.7"
  }
 },
 "nbformat": 4,
 "nbformat_minor": 5
}
