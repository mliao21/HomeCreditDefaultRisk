{
 "cells": [
  {
   "cell_type": "markdown",
   "id": "05f61aa6",
   "metadata": {},
   "source": [
    "# Assignment #01\n",
    "\n",
    "This assignment is composed of multiple Python and NumPy programming exercises. The deliverable of this assignment is this jupyter-notebook completed with your solution.\n",
    "\n",
    "The delivery instructions are the following:\n",
    "    - Create a GitHub repository for your team. You are free to choose its name. This repository will be used to delvier the programming assignments and the code of your team's final project.\n",
    "    - Create a folder assignment-01 in the repository. Put the jupyter-notebook with your solution in this repository and post the repository link in your team's D2L dropbox for the assignment.\n",
    "\n",
    "You are being assessed based on:\n",
    "\n",
    "1. Code execution - 25% \n",
    "2. Clarity of the code (e.g., easy to follow, has pertinent comments, etc.) - 25%\n",
    "3. Proper usage of the techniques seen in class - 25%\n",
    "    - remember to avoid explicit Python loops!  \n",
    "4. Quality and correcteness of the results - 25%\n",
    "\n",
    "More details about the assessment are available in the rubric document in the class GitHub repository.\n",
    "\n",
    "Points distribution:\n",
    "- Question 2-21: 3 points per question \n",
    "- Questions 22-26: 8 points per question (total 40)\n",
    "- Total: 100 ponits"
   ]
  },
  {
   "cell_type": "code",
   "execution_count": 1,
   "id": "2bfc5ea7",
   "metadata": {},
   "outputs": [],
   "source": [
    "import matplotlib.pylab as plt"
   ]
  },
  {
   "cell_type": "markdown",
   "id": "da423e36",
   "metadata": {},
   "source": [
    "**1. Import the numpy package under the name np**"
   ]
  },
  {
   "cell_type": "code",
   "execution_count": 2,
   "id": "fcafa1cb",
   "metadata": {},
   "outputs": [],
   "source": [
    "import numpy as np"
   ]
  },
  {
   "cell_type": "markdown",
   "id": "4a0c2294",
   "metadata": {},
   "source": [
    "**2. Print the numpy version and the configuration**"
   ]
  },
  {
   "cell_type": "code",
   "execution_count": null,
   "id": "b8d35309",
   "metadata": {},
   "outputs": [],
   "source": []
  },
  {
   "cell_type": "markdown",
   "id": "222702a6",
   "metadata": {},
   "source": [
    "**3. Create a 1D array of zeros of size 10 of type float32**"
   ]
  },
  {
   "cell_type": "code",
   "execution_count": null,
   "id": "713c1c4b",
   "metadata": {},
   "outputs": [],
   "source": []
  },
  {
   "cell_type": "markdown",
   "id": "9f3ae4c2",
   "metadata": {},
   "source": [
    "**4. Print the memory size of the array below**"
   ]
  },
  {
   "cell_type": "code",
   "execution_count": null,
   "id": "34d4fa65",
   "metadata": {},
   "outputs": [],
   "source": [
    "Z = np.zeros((32,12))\n",
    "# Include your solution below"
   ]
  },
  {
   "cell_type": "markdown",
   "id": "47c846b5",
   "metadata": {},
   "source": [
    "**5. Create a 1D array with values ranging from 10 to 58**"
   ]
  },
  {
   "cell_type": "code",
   "execution_count": null,
   "id": "1901697b",
   "metadata": {},
   "outputs": [],
   "source": []
  },
  {
   "cell_type": "markdown",
   "id": "74468da2",
   "metadata": {},
   "source": [
    "**6. Reverse the order of the values in the vector (first element becomes last)**"
   ]
  },
  {
   "cell_type": "code",
   "execution_count": null,
   "id": "e8913205",
   "metadata": {},
   "outputs": [],
   "source": [
    "a = np.arange(10)\n",
    "# Include your solution below"
   ]
  },
  {
   "cell_type": "markdown",
   "id": "11ad945a",
   "metadata": {},
   "source": [
    "**7. Create a 3x3 matrix with values ranging from 0 to 8**"
   ]
  },
  {
   "cell_type": "code",
   "execution_count": null,
   "id": "83540923",
   "metadata": {},
   "outputs": [],
   "source": []
  },
  {
   "cell_type": "markdown",
   "id": "bc3ac3f2",
   "metadata": {},
   "source": [
    "**8. Create a 3x3 identity matrix**"
   ]
  },
  {
   "cell_type": "code",
   "execution_count": null,
   "id": "90ed33ca",
   "metadata": {},
   "outputs": [],
   "source": []
  },
  {
   "cell_type": "markdown",
   "id": "6e208dd5",
   "metadata": {},
   "source": [
    "**9. Find and print the maximum values of each column in the array below** "
   ]
  },
  {
   "cell_type": "code",
   "execution_count": null,
   "id": "98d89140",
   "metadata": {},
   "outputs": [],
   "source": [
    "Z = np.random.random((10,11))\n",
    "# Include your solution below"
   ]
  },
  {
   "cell_type": "code",
   "execution_count": null,
   "id": "04e94043",
   "metadata": {},
   "outputs": [],
   "source": []
  },
  {
   "cell_type": "markdown",
   "id": "cf310cb5",
   "metadata": {},
   "source": [
    "**10. Create a $7 \\times 7$ array with 1s on the borders (first row and column, last row and columns) and 0s everywhere else**"
   ]
  },
  {
   "cell_type": "code",
   "execution_count": null,
   "id": "eb4a2348",
   "metadata": {},
   "outputs": [],
   "source": []
  },
  {
   "cell_type": "markdown",
   "id": "367d0971",
   "metadata": {},
   "source": [
    "**11. Pad the existing array below with zeros (i.e., add additional rows and columns with zeros). Use the NumPy pad function.**"
   ]
  },
  {
   "cell_type": "code",
   "execution_count": null,
   "id": "91bb447f",
   "metadata": {},
   "outputs": [],
   "source": [
    "Z = np.ones((5,5))\n",
    "# Include your solution below"
   ]
  },
  {
   "cell_type": "markdown",
   "id": "fc84e56c",
   "metadata": {},
   "source": [
    "**12. Extract the integer part of the random array of positive numbers below**"
   ]
  },
  {
   "cell_type": "code",
   "execution_count": null,
   "id": "820715fe",
   "metadata": {},
   "outputs": [],
   "source": [
    "Z = np.random.uniform(0,10,10)\n",
    "# Include your solution below"
   ]
  },
  {
   "cell_type": "markdown",
   "id": "a2715dcf",
   "metadata": {},
   "source": [
    "**13. Create a 5x5 matrix with rows with equal values ranging from 0 to 4 (i.e., [0,1,2,3,4])**\n",
    "\n",
    "*Hint:* consider using NumPy broadcasting or the tile function*"
   ]
  },
  {
   "cell_type": "code",
   "execution_count": null,
   "id": "fcbc7ac2",
   "metadata": {},
   "outputs": [],
   "source": []
  },
  {
   "cell_type": "markdown",
   "id": "5f5615c7",
   "metadata": {},
   "source": [
    "**14. Create a vector of size 10 with values ranging from 0 to 1 (0 and 1 not included)**\n",
    "\n",
    "*Hint: Consider using the linspace function*"
   ]
  },
  {
   "cell_type": "code",
   "execution_count": null,
   "id": "75f70124",
   "metadata": {},
   "outputs": [],
   "source": []
  },
  {
   "cell_type": "markdown",
   "id": "64877bbc",
   "metadata": {},
   "source": [
    "**15. Create a random vector of size 10 and sort it**"
   ]
  },
  {
   "cell_type": "code",
   "execution_count": 3,
   "id": "f10fb4a8",
   "metadata": {},
   "outputs": [
    {
     "name": "stdout",
     "output_type": "stream",
     "text": [
      "Random vector of size 10 = \n",
      " [0.2232673  0.25811249 0.19667109 0.60284381 0.91660986 0.14370099\n",
      " 0.143873   0.33754518 0.82967524 0.10605952]\n",
      "\n",
      "Sorted vector = \n",
      " [0.10605952 0.14370099 0.143873   0.19667109 0.2232673  0.25811249\n",
      " 0.33754518 0.60284381 0.82967524 0.91660986]\n"
     ]
    }
   ],
   "source": [
    "v = np.random.rand(10) #create random vector of size 10\n",
    "sv = np.sort(v) #sort vector and assign to a variable\n",
    "\n",
    "print(\"Random vector of size 10 = \\n\", v)\n",
    "print()\n",
    "print(\"Sorted vector = \\n\", sv)"
   ]
  },
  {
   "cell_type": "markdown",
   "id": "4dc15010",
   "metadata": {},
   "source": [
    "**16. Consider the cartesian coordinates below (X and Y), convert them to polar coordinates (R and T)**"
   ]
  },
  {
   "cell_type": "code",
   "execution_count": 4,
   "id": "67636809",
   "metadata": {},
   "outputs": [
    {
     "name": "stdout",
     "output_type": "stream",
     "text": [
      "R = \n",
      " [0.94241978 0.44973811 0.99279831 0.58088485 1.23412777 0.66905754\n",
      " 0.98079284 0.34930495 0.64756472 0.82874208]\n",
      "\n",
      "T = \n",
      " [0.97131888 0.40870622 0.39968861 0.29501058 0.89392835 0.21785091\n",
      " 0.95771295 0.76650793 0.32421213 0.42598489]\n"
     ]
    }
   ],
   "source": [
    "Z = np.random.random((10,2))\n",
    "X,Y = Z[:,0], Z[:,1]\n",
    "# Include your solution below\n",
    "\n",
    "R,T = np.sqrt(X**2+Y**2), np.arctan2(Y,X) #formula to convert and get the radius and theta of cartesian coordinates\n",
    "print(\"R = \\n\", R)\n",
    "print()\n",
    "print(\"T = \\n\", T)"
   ]
  },
  {
   "cell_type": "markdown",
   "id": "56e1d569",
   "metadata": {},
   "source": [
    "**17. Create random vector of size 10 and replace the maximum value by 0**"
   ]
  },
  {
   "cell_type": "code",
   "execution_count": 5,
   "id": "1053dfe4",
   "metadata": {},
   "outputs": [
    {
     "name": "stdout",
     "output_type": "stream",
     "text": [
      "Random vector of size 10 = \n",
      " [0.60736576 0.48995111 0.66894887 0.69933292 0.81875776 0.79595261\n",
      " 0.80698733 0.4431232  0.39253777 0.673309  ]\n",
      "\n",
      "Max value replaced by 0 = \n",
      " [0.60736576 0.48995111 0.66894887 0.69933292 0.         0.79595261\n",
      " 0.80698733 0.4431232  0.39253777 0.673309  ]\n"
     ]
    }
   ],
   "source": [
    "a = np.random.random(10) #create random vector of size 10\n",
    "print(\"Random vector of size 10 = \\n\", a)\n",
    "\n",
    "a[a.max() == a] = 0 #replace maximum value by 0\n",
    "print()\n",
    "print(\"Max value replaced by 0 = \\n\", a)"
   ]
  },
  {
   "cell_type": "markdown",
   "id": "2103eb57",
   "metadata": {},
   "source": [
    "**18. Find the nearest value from a given value (z) in an array (Z)**"
   ]
  },
  {
   "cell_type": "code",
   "execution_count": null,
   "id": "43bf87cd",
   "metadata": {},
   "outputs": [],
   "source": [
    "Z = np.random.uniform(0,1,10)\n",
    "z = 0.5\n",
    "# Include your solution below"
   ]
  },
  {
   "cell_type": "markdown",
   "id": "2932d1a0",
   "metadata": {},
   "source": [
    "**19. Consider the vector [5, 4, 3, 2, 1], how to build a new vector with 3 consecutive zeros interleaved between each value?**"
   ]
  },
  {
   "cell_type": "code",
   "execution_count": null,
   "id": "4c41cb32",
   "metadata": {},
   "outputs": [],
   "source": [
    "Z = np.arange(5)[::-1]\n",
    "# Include your solution below\n"
   ]
  },
  {
   "cell_type": "markdown",
   "id": "b0065173",
   "metadata": {},
   "source": [
    "**20. Consider an array of dimension (5,5,3), how to mulitply it element-wise by an array with dimensions (5,5) - i.e., (5,5,0)$\\times$(5,5), (5,5,1)$\\times$(5,5), (5,5,2)$\\times$(5,5)**"
   ]
  },
  {
   "cell_type": "code",
   "execution_count": null,
   "id": "af61ca2b",
   "metadata": {},
   "outputs": [],
   "source": [
    "A = np.ones((5,5,3))\n",
    "B = 2*np.ones((5,5))\n",
    "# Include your solution below\n",
    "\n"
   ]
  },
  {
   "cell_type": "markdown",
   "id": "71654d9f",
   "metadata": {},
   "source": [
    "**21. Swap the first and second rows of the 2D array below**"
   ]
  },
  {
   "cell_type": "code",
   "execution_count": null,
   "id": "d259d5f6",
   "metadata": {},
   "outputs": [],
   "source": [
    "W = np.arange(30).reshape(6,5)\n",
    "print(W)\n",
    "print()\n",
    "# Include your solution below\n"
   ]
  },
  {
   "cell_type": "markdown",
   "id": "0da5e027",
   "metadata": {},
   "source": [
    "**22. Write a function that receives as input a 2D Boolean NumPy array and outputs the coordinates of the minimal bounding-box\n",
    "that encloses all non-zero elements in the input array**\n",
    "\n",
    "**Tip:** search for the functions nonzero and where in the NumPy documentation.\n",
    "\n",
    "\n",
    "<img src=\"Figures/bbox.png\" width=\"150\" /> "
   ]
  },
  {
   "cell_type": "code",
   "execution_count": 6,
   "id": "83c8c961",
   "metadata": {},
   "outputs": [
    {
     "data": {
      "image/png": "[encoded data removed]",
      "text/plain": [
       "<Figure size 432x288 with 1 Axes>"
      ]
     },
     "metadata": {
      "needs_background": "light"
     },
     "output_type": "display_data"
    },
    {
     "name": "stdout",
     "output_type": "stream",
     "text": [
      "Coordinates of Minimal Bounding-Box = ((29, 50), (342, 431))\n"
     ]
    }
   ],
   "source": [
    "def bbox(img):\n",
    "    #include your solution below\n",
    "    mbb = np.nonzero(img) #retrieve an array of nonzero values from image\n",
    "    r1,c1 = mbb[0].min(), mbb[1].min() #get the lowest value of all rows and columns\n",
    "    r2,c2 = mbb[0].max(), mbb[1].max() #get the highest value of all rows and columns\n",
    "    return (r1,c1),(r2,c2)\n",
    "\n",
    "\n",
    "from PIL import Image\n",
    "\n",
    "img = np.array(Image.open('Figures/bin_image.png').convert('L')) > 0\n",
    "plt.figure()\n",
    "plt.subplot(121)\n",
    "plt.imshow(img, cmap = \"gray\")\n",
    "plt.axis(\"off\")\n",
    "plt.show()\n",
    "\n",
    "print(\"Coordinates of Minimal Bounding-Box =\", bbox(img))"
   ]
  },
  {
   "cell_type": "markdown",
   "id": "28f27ee3",
   "metadata": {},
   "source": [
    "**23.Write a function to compute the average over a sliding window of length N over a 1D array?**\n",
    "\n",
    "*Example:* [1,2,3,4,5,6,7,8,9], N = 3 -> [2,5,8]"
   ]
  },
  {
   "cell_type": "code",
   "execution_count": null,
   "id": "7dc8d5f0",
   "metadata": {},
   "outputs": [],
   "source": [
    "def moving_average(x,N = 3):\n",
    "    #define your function here\n",
    "    return\n",
    "\n",
    "a = np.arange(30)\n",
    "N = 3\n",
    "print(moving_average(a,N))"
   ]
  },
  {
   "cell_type": "markdown",
   "id": "bc5f7b00",
   "metadata": {},
   "source": [
    "**24.  Given a sorted 1D array C that corresponds to a bincount, how to produce an array A such that np.bincount(A) == C?**\n",
    "\n",
    "*Example:* C = [3,2,4] -> D = [0,0,0,1,1,2,2,2,2]\n",
    "\n",
    "*Tip:* Consider using the NumPy repeat function"
   ]
  },
  {
   "cell_type": "code",
   "execution_count": null,
   "id": "a533fe08",
   "metadata": {},
   "outputs": [],
   "source": [
    "C = np.bincount([1,1,2,3,4,4,6])\n",
    "print(C)\n",
    "# Include yoru solution here"
   ]
  },
  {
   "cell_type": "markdown",
   "id": "25629e04",
   "metadata": {},
   "source": [
    "**25. Find the most frequent value in the array below?**"
   ]
  },
  {
   "cell_type": "code",
   "execution_count": null,
   "id": "c86b6287",
   "metadata": {},
   "outputs": [],
   "source": [
    "Z = np.random.randint(0,10,50)\n",
    "# Include your solution below"
   ]
  },
  {
   "cell_type": "markdown",
   "id": "074af871",
   "metadata": {},
   "source": [
    "**26. Write a function to return the n largest values of an array** "
   ]
  },
  {
   "cell_type": "code",
   "execution_count": null,
   "id": "a2d36eb1",
   "metadata": {},
   "outputs": [],
   "source": [
    "def nlargest(a,n = 5):\n",
    "    # Include your solution here\n",
    "    \n",
    "    return\n",
    "\n",
    "Z = np.arange(10000)\n",
    "np.random.shuffle(Z)\n",
    "n = 5\n",
    "print(nlargest(Z,n))    "
   ]
  }
 ],
 "metadata": {
  "kernelspec": {
   "display_name": "Python 3 (ipykernel)",
   "language": "python",
   "name": "python3"
  },
  "language_info": {
   "codemirror_mode": {
    "name": "ipython",
    "version": 3
   },
   "file_extension": ".py",
   "mimetype": "text/x-python",
   "name": "python",
   "nbconvert_exporter": "python",
   "pygments_lexer": "ipython3",
   "version": "3.9.7"
  }
 },
 "nbformat": 4,
 "nbformat_minor": 5
}
