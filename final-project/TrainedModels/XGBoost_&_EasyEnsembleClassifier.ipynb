{
 "cells": [
  {
   "cell_type": "markdown",
   "source": [
    "# ENEL645 Final Project - Home Credit Default Risk\n",
    "Author: Group 20\n",
    "## Overview ##\n",
    "We will go through a Kaggle project, the Home Credit Default Risk. In this project, we are going to follow the following workflow:\n",
    "\n",
    "1. Load, inspect and clean the data given in class by removing any features that might not be relevant for our models: puzzle_train_dataset.csv and puzzle_test_dataset.csv.\n",
    "2. Preprocess and encode the data.\n",
    "3. Train and find best model by applying hyperparameter tuning using grid search.\n",
    "4. Retrain the best model on data and predict test data.\n",
    "\n",
    "**Models to be Trained:**\n",
    "* XGBoost(XGBClassifier\n",
    "* EasyEnsembleClassifier (for imbalanced datasets)"
   ],
   "metadata": {
    "collapsed": false
   }
  },
  {
   "cell_type": "code",
   "source": [
    "## Import libraries ##"
   ],
   "metadata": {
    "collapsed": false,
    "pycharm": {
     "name": "#%%\n"
    }
   },
   "execution_count": 70,
   "outputs": []
  },
  {
   "cell_type": "code",
   "execution_count": 71,
   "id": "56b9fe3c",
   "metadata": {},
   "outputs": [],
   "source": [
    "# Import Traditional ML library\n",
    "import pandas as pd\n",
    "import numpy as np\n",
    "import seaborn as sns\n",
    "import sklearn\n",
    "import plotly.express as px\n",
    "import sklearn.metrics as metrics\n",
    "from sklearn.model_selection import StratifiedKFold\n",
    "import xgboost as  xgb\n",
    "from imblearn.ensemble import EasyEnsembleClassifier # ML for imbalanced problems\n",
    "from sklearn.impute import SimpleImputer\n",
    "from sklearn.pipeline import make_pipeline\n",
    "import matplotlib.pylab as plt # for plotting"
   ]
  },
  {
   "cell_type": "markdown",
   "source": [
    "## 0. Function definitions ##\n",
    "We will define our own functions to make it easier to find the best model and hyperparameters that outputs the best accuracy scores for prediction."
   ],
   "metadata": {
    "collapsed": false
   }
  },
  {
   "cell_type": "code",
   "execution_count": 72,
   "outputs": [],
   "source": [
    "import mglearn\n",
    "\n",
    "def print_grid_search_result(grid_search):\n",
    "    '''Prints summary of best model from GridSearchCV object.\n",
    "\n",
    "        For the best model of the grid search, print:\n",
    "        - parameters\n",
    "        - cross-validation training score\n",
    "\n",
    "        scores are printed with 3 decimal places.\n",
    "        grid_search (sklearn GridSearchCV): Fitted GridSearchCV object\n",
    "        returns: None\n",
    "\n",
    "    '''\n",
    "    print(\"Best parameters: {}\".format(grid_search.best_params_))\n",
    "    print(\"Best cross-validation score: {:.3f}\".format(grid_search.best_score_))\n",
    "\n",
    "def plot_grid_search_results(grid_search):\n",
    "    '''For grids with 2 hyperparameters, create a heatmap plot of test scores\n",
    "        grid_search (sklearn GridSearchCV): Fitted GridSearchCV object\n",
    "        uses mglearn.tools.heatmap() for plotting.\n",
    "\n",
    "    '''\n",
    "    results = pd.DataFrame(grid_search.cv_results_)\n",
    "    params = sorted(grid_search.param_grid.keys())\n",
    "    assert len(params) == 2, \"We can only plot two parameters.\"\n",
    "\n",
    "    # second dimension in reshape are rows, needs to be the fast changing parameter\n",
    "    scores = np.array(results.mean_test_score).reshape(len(grid_search.param_grid[params[0]]),\n",
    "                                                      len(grid_search.param_grid[params[1]]))\n",
    "\n",
    "    # plot the mean cross-validation scores\n",
    "    # x-axis needs to be the fast changing parameter\n",
    "    mglearn.tools.heatmap(scores,\n",
    "                          xlabel=params[1],\n",
    "                          xticklabels=grid_search.param_grid[params[1]],\n",
    "                          ylabel=params[0],\n",
    "                          yticklabels=grid_search.param_grid[params[0]],\n",
    "                          cmap=\"viridis\", fmt=\"%0.3f\")\n"
   ],
   "metadata": {
    "collapsed": false,
    "pycharm": {
     "name": "#%%\n"
    }
   }
  },
  {
   "cell_type": "markdown",
   "source": [
    "## 1. Load, Inspect and Clean Data ##"
   ],
   "metadata": {
    "collapsed": false
   }
  },
  {
   "cell_type": "code",
   "execution_count": 73,
   "id": "99ad4570",
   "metadata": {},
   "outputs": [
    {
     "name": "stdout",
     "output_type": "stream",
     "text": [
      "Nb. of train samples: 64592\n",
      "Number of test samples:  35000\n",
      "Nb. features: 18\n",
      "Nb. of train samples after removing samples with no label: 59966\n",
      "Classes ratio (False/True): 5.305573\n",
      "\n",
      " Dataset Information (missing features, data type, unique values)\n",
      "                    Missing     Type  Unique\n",
      "default                   0    int32       2\n",
      "score_1                   0   object       7\n",
      "score_2                   0   object      35\n",
      "score_3                   0  float64      87\n",
      "score_4                   0  float64   59966\n",
      "score_5                   0  float64   59966\n",
      "score_6                   0  float64   59966\n",
      "risk_rate                 0  float64      81\n",
      "amount_borrowed           0  float64   50484\n",
      "borrowed_in_months        0  float64       2\n",
      "credit_limit          18779  float64   26238\n",
      "income                    0  float64   54273\n",
      "sign                  18938   object      12\n",
      "facebook_profile       5971   object       2\n",
      "state                     0   object      50\n",
      "real_state                0   object       5\n",
      "n_bankruptcies          202  float64       7\n",
      "n_defaulted_loans        18  float64       5\n",
      "n_accounts                0  float64      45\n"
     ]
    }
   ],
   "source": [
    "def get_encoder(df, col):\n",
    "    dft = df[col].astype(str).to_frame().copy()\n",
    "    dft[\"count\"] = 1\n",
    "    return dft.groupby(col).count().to_dict()[\"count\"]\n",
    "\n",
    "def encode_all(df_train, df_test, cols):\n",
    "    for col in cols:\n",
    "        enc = get_encoder(df_train, col)\n",
    "        df_train[col] = df_train[col].astype(str).apply(lambda x: enc.get(x, -1))\n",
    "        df_test[col] = df_test[col].astype(str).apply(lambda x: enc.get(x, -1))\n",
    "    return df_train, df_test\n",
    "\n",
    "# Features/columns to be removed for several reasons: ethical irrelevant feature, etc\n",
    "to_remove = [\"job_name\", \"reason\",\"channel\",\"n_issues\",\"ok_since\",\"zip\",\"gender\"]\n",
    "\n",
    "# Read train and test data and drop columns\n",
    "df_train = pd.read_csv(\"/winter2022/ENEL645/Project/dataset/puzzle/puzzle_train_dataset.csv\").set_index(\"ids\").drop(to_remove, axis=1)\n",
    "df_test = pd.read_csv(\"/winter2022/ENEL645/Project/dataset/puzzle/puzzle_test_dataset.csv\").set_index(\"ids\").drop(to_remove, axis=1)\n",
    "\n",
    "print(\"Nb. of train samples: %d\" %df_train.shape[0])\n",
    "print(\"Number of test samples:  %d\" %df_test.shape[0])\n",
    "print(\"Nb. features: %d\" %(df_train.shape[1]-1))\n",
    "\n",
    "# Remove samples with missing labels\n",
    "df_train = df_train[pd.notnull(df_train['default'])]\n",
    "df_train[\"default\"] = df_train[\"default\"].astype(\"int\")\n",
    "\n",
    "print(\"Nb. of train samples after removing samples with no label: %d\" %df_train.shape[0])\n",
    "ratio = (df_train[\"default\"] == 0).sum()/(df_train[\"default\"] == 1).sum()\n",
    "print(\"Classes ratio (False/True): %f\" %((df_train[\"default\"] == 0).sum()/(df_train[\"default\"] == 1).sum()))\n",
    "\n",
    "\n",
    "# Dataset information\n",
    "feats_info = pd.concat([df_train.isnull().sum(), df_train.dtypes, df_train.T.apply(lambda x: x.nunique(), axis=1)], axis=1)\n",
    "feats_info.columns = [\"Missing\",\"Type\",\"Unique\"]\n",
    "print(\"\\n Dataset Information (missing features, data type, unique values)\")\n",
    "print(feats_info)"
   ]
  },
  {
   "cell_type": "markdown",
   "source": [
    "# Inspect for unbalanced class"
   ],
   "metadata": {
    "collapsed": false
   }
  },
  {
   "cell_type": "code",
   "execution_count": 74,
   "outputs": [
    {
     "data": {
      "application/vnd.plotly.v1+json": {
       "data": [
        {
         "domain": {
          "x": [
           0.0,
           1.0
          ],
          "y": [
           0.0,
           1.0
          ]
         },
         "hovertemplate": "label=%{label}<br>value=%{value}<extra></extra>",
         "labels": [
          "Successful Repayment",
          "Default"
         ],
         "legendgroup": "",
         "name": "",
         "showlegend": true,
         "values": [
          50456,
          9510
         ],
         "type": "pie"
        }
       ],
       "layout": {
        "template": {
         "data": {
          "bar": [
           {
            "error_x": {
             "color": "#2a3f5f"
            },
            "error_y": {
             "color": "#2a3f5f"
            },
            "marker": {
             "line": {
              "color": "#E5ECF6",
              "width": 0.5
             },
             "pattern": {
              "fillmode": "overlay",
              "size": 10,
              "solidity": 0.2
             }
            },
            "type": "bar"
           }
          ],
          "barpolar": [
           {
            "marker": {
             "line": {
              "color": "#E5ECF6",
              "width": 0.5
             },
             "pattern": {
              "fillmode": "overlay",
              "size": 10,
              "solidity": 0.2
             }
            },
            "type": "barpolar"
           }
          ],
          "carpet": [
           {
            "aaxis": {
             "endlinecolor": "#2a3f5f",
             "gridcolor": "white",
             "linecolor": "white",
             "minorgridcolor": "white",
             "startlinecolor": "#2a3f5f"
            },
            "baxis": {
             "endlinecolor": "#2a3f5f",
             "gridcolor": "white",
             "linecolor": "white",
             "minorgridcolor": "white",
             "startlinecolor": "#2a3f5f"
            },
            "type": "carpet"
           }
          ],
          "choropleth": [
           {
            "colorbar": {
             "outlinewidth": 0,
             "ticks": ""
            },
            "type": "choropleth"
           }
          ],
          "contour": [
           {
            "colorbar": {
             "outlinewidth": 0,
             "ticks": ""
            },
            "colorscale": [
             [
              0.0,
              "#0d0887"
             ],
             [
              0.1111111111111111,
              "#46039f"
             ],
             [
              0.2222222222222222,
              "#7201a8"
             ],
             [
              0.3333333333333333,
              "#9c179e"
             ],
             [
              0.4444444444444444,
              "#bd3786"
             ],
             [
              0.5555555555555556,
              "#d8576b"
             ],
             [
              0.6666666666666666,
              "#ed7953"
             ],
             [
              0.7777777777777778,
              "#fb9f3a"
             ],
             [
              0.8888888888888888,
              "#fdca26"
             ],
             [
              1.0,
              "#f0f921"
             ]
            ],
            "type": "contour"
           }
          ],
          "contourcarpet": [
           {
            "colorbar": {
             "outlinewidth": 0,
             "ticks": ""
            },
            "type": "contourcarpet"
           }
          ],
          "heatmap": [
           {
            "colorbar": {
             "outlinewidth": 0,
             "ticks": ""
            },
            "colorscale": [
             [
              0.0,
              "#0d0887"
             ],
             [
              0.1111111111111111,
              "#46039f"
             ],
             [
              0.2222222222222222,
              "#7201a8"
             ],
             [
              0.3333333333333333,
              "#9c179e"
             ],
             [
              0.4444444444444444,
              "#bd3786"
             ],
             [
              0.5555555555555556,
              "#d8576b"
             ],
             [
              0.6666666666666666,
              "#ed7953"
             ],
             [
              0.7777777777777778,
              "#fb9f3a"
             ],
             [
              0.8888888888888888,
              "#fdca26"
             ],
             [
              1.0,
              "#f0f921"
             ]
            ],
            "type": "heatmap"
           }
          ],
          "heatmapgl": [
           {
            "colorbar": {
             "outlinewidth": 0,
             "ticks": ""
            },
            "colorscale": [
             [
              0.0,
              "#0d0887"
             ],
             [
              0.1111111111111111,
              "#46039f"
             ],
             [
              0.2222222222222222,
              "#7201a8"
             ],
             [
              0.3333333333333333,
              "#9c179e"
             ],
             [
              0.4444444444444444,
              "#bd3786"
             ],
             [
              0.5555555555555556,
              "#d8576b"
             ],
             [
              0.6666666666666666,
              "#ed7953"
             ],
             [
              0.7777777777777778,
              "#fb9f3a"
             ],
             [
              0.8888888888888888,
              "#fdca26"
             ],
             [
              1.0,
              "#f0f921"
             ]
            ],
            "type": "heatmapgl"
           }
          ],
          "histogram": [
           {
            "marker": {
             "pattern": {
              "fillmode": "overlay",
              "size": 10,
              "solidity": 0.2
             }
            },
            "type": "histogram"
           }
          ],
          "histogram2d": [
           {
            "colorbar": {
             "outlinewidth": 0,
             "ticks": ""
            },
            "colorscale": [
             [
              0.0,
              "#0d0887"
             ],
             [
              0.1111111111111111,
              "#46039f"
             ],
             [
              0.2222222222222222,
              "#7201a8"
             ],
             [
              0.3333333333333333,
              "#9c179e"
             ],
             [
              0.4444444444444444,
              "#bd3786"
             ],
             [
              0.5555555555555556,
              "#d8576b"
             ],
             [
              0.6666666666666666,
              "#ed7953"
             ],
             [
              0.7777777777777778,
              "#fb9f3a"
             ],
             [
              0.8888888888888888,
              "#fdca26"
             ],
             [
              1.0,
              "#f0f921"
             ]
            ],
            "type": "histogram2d"
           }
          ],
          "histogram2dcontour": [
           {
            "colorbar": {
             "outlinewidth": 0,
             "ticks": ""
            },
            "colorscale": [
             [
              0.0,
              "#0d0887"
             ],
             [
              0.1111111111111111,
              "#46039f"
             ],
             [
              0.2222222222222222,
              "#7201a8"
             ],
             [
              0.3333333333333333,
              "#9c179e"
             ],
             [
              0.4444444444444444,
              "#bd3786"
             ],
             [
              0.5555555555555556,
              "#d8576b"
             ],
             [
              0.6666666666666666,
              "#ed7953"
             ],
             [
              0.7777777777777778,
              "#fb9f3a"
             ],
             [
              0.8888888888888888,
              "#fdca26"
             ],
             [
              1.0,
              "#f0f921"
             ]
            ],
            "type": "histogram2dcontour"
           }
          ],
          "mesh3d": [
           {
            "colorbar": {
             "outlinewidth": 0,
             "ticks": ""
            },
            "type": "mesh3d"
           }
          ],
          "parcoords": [
           {
            "line": {
             "colorbar": {
              "outlinewidth": 0,
              "ticks": ""
             }
            },
            "type": "parcoords"
           }
          ],
          "pie": [
           {
            "automargin": true,
            "type": "pie"
           }
          ],
          "scatter": [
           {
            "marker": {
             "colorbar": {
              "outlinewidth": 0,
              "ticks": ""
             }
            },
            "type": "scatter"
           }
          ],
          "scatter3d": [
           {
            "line": {
             "colorbar": {
              "outlinewidth": 0,
              "ticks": ""
             }
            },
            "marker": {
             "colorbar": {
              "outlinewidth": 0,
              "ticks": ""
             }
            },
            "type": "scatter3d"
           }
          ],
          "scattercarpet": [
           {
            "marker": {
             "colorbar": {
              "outlinewidth": 0,
              "ticks": ""
             }
            },
            "type": "scattercarpet"
           }
          ],
          "scattergeo": [
           {
            "marker": {
             "colorbar": {
              "outlinewidth": 0,
              "ticks": ""
             }
            },
            "type": "scattergeo"
           }
          ],
          "scattergl": [
           {
            "marker": {
             "colorbar": {
              "outlinewidth": 0,
              "ticks": ""
             }
            },
            "type": "scattergl"
           }
          ],
          "scattermapbox": [
           {
            "marker": {
             "colorbar": {
              "outlinewidth": 0,
              "ticks": ""
             }
            },
            "type": "scattermapbox"
           }
          ],
          "scatterpolar": [
           {
            "marker": {
             "colorbar": {
              "outlinewidth": 0,
              "ticks": ""
             }
            },
            "type": "scatterpolar"
           }
          ],
          "scatterpolargl": [
           {
            "marker": {
             "colorbar": {
              "outlinewidth": 0,
              "ticks": ""
             }
            },
            "type": "scatterpolargl"
           }
          ],
          "scatterternary": [
           {
            "marker": {
             "colorbar": {
              "outlinewidth": 0,
              "ticks": ""
             }
            },
            "type": "scatterternary"
           }
          ],
          "surface": [
           {
            "colorbar": {
             "outlinewidth": 0,
             "ticks": ""
            },
            "colorscale": [
             [
              0.0,
              "#0d0887"
             ],
             [
              0.1111111111111111,
              "#46039f"
             ],
             [
              0.2222222222222222,
              "#7201a8"
             ],
             [
              0.3333333333333333,
              "#9c179e"
             ],
             [
              0.4444444444444444,
              "#bd3786"
             ],
             [
              0.5555555555555556,
              "#d8576b"
             ],
             [
              0.6666666666666666,
              "#ed7953"
             ],
             [
              0.7777777777777778,
              "#fb9f3a"
             ],
             [
              0.8888888888888888,
              "#fdca26"
             ],
             [
              1.0,
              "#f0f921"
             ]
            ],
            "type": "surface"
           }
          ],
          "table": [
           {
            "cells": {
             "fill": {
              "color": "#EBF0F8"
             },
             "line": {
              "color": "white"
             }
            },
            "header": {
             "fill": {
              "color": "#C8D4E3"
             },
             "line": {
              "color": "white"
             }
            },
            "type": "table"
           }
          ]
         },
         "layout": {
          "annotationdefaults": {
           "arrowcolor": "#2a3f5f",
           "arrowhead": 0,
           "arrowwidth": 1
          },
          "autotypenumbers": "strict",
          "coloraxis": {
           "colorbar": {
            "outlinewidth": 0,
            "ticks": ""
           }
          },
          "colorscale": {
           "diverging": [
            [
             0,
             "#8e0152"
            ],
            [
             0.1,
             "#c51b7d"
            ],
            [
             0.2,
             "#de77ae"
            ],
            [
             0.3,
             "#f1b6da"
            ],
            [
             0.4,
             "#fde0ef"
            ],
            [
             0.5,
             "#f7f7f7"
            ],
            [
             0.6,
             "#e6f5d0"
            ],
            [
             0.7,
             "#b8e186"
            ],
            [
             0.8,
             "#7fbc41"
            ],
            [
             0.9,
             "#4d9221"
            ],
            [
             1,
             "#276419"
            ]
           ],
           "sequential": [
            [
             0.0,
             "#0d0887"
            ],
            [
             0.1111111111111111,
             "#46039f"
            ],
            [
             0.2222222222222222,
             "#7201a8"
            ],
            [
             0.3333333333333333,
             "#9c179e"
            ],
            [
             0.4444444444444444,
             "#bd3786"
            ],
            [
             0.5555555555555556,
             "#d8576b"
            ],
            [
             0.6666666666666666,
             "#ed7953"
            ],
            [
             0.7777777777777778,
             "#fb9f3a"
            ],
            [
             0.8888888888888888,
             "#fdca26"
            ],
            [
             1.0,
             "#f0f921"
            ]
           ],
           "sequentialminus": [
            [
             0.0,
             "#0d0887"
            ],
            [
             0.1111111111111111,
             "#46039f"
            ],
            [
             0.2222222222222222,
             "#7201a8"
            ],
            [
             0.3333333333333333,
             "#9c179e"
            ],
            [
             0.4444444444444444,
             "#bd3786"
            ],
            [
             0.5555555555555556,
             "#d8576b"
            ],
            [
             0.6666666666666666,
             "#ed7953"
            ],
            [
             0.7777777777777778,
             "#fb9f3a"
            ],
            [
             0.8888888888888888,
             "#fdca26"
            ],
            [
             1.0,
             "#f0f921"
            ]
           ]
          },
          "colorway": [
           "#636efa",
           "#EF553B",
           "#00cc96",
           "#ab63fa",
           "#FFA15A",
           "#19d3f3",
           "#FF6692",
           "#B6E880",
           "#FF97FF",
           "#FECB52"
          ],
          "font": {
           "color": "#2a3f5f"
          },
          "geo": {
           "bgcolor": "white",
           "lakecolor": "white",
           "landcolor": "#E5ECF6",
           "showlakes": true,
           "showland": true,
           "subunitcolor": "white"
          },
          "hoverlabel": {
           "align": "left"
          },
          "hovermode": "closest",
          "mapbox": {
           "style": "light"
          },
          "paper_bgcolor": "white",
          "plot_bgcolor": "#E5ECF6",
          "polar": {
           "angularaxis": {
            "gridcolor": "white",
            "linecolor": "white",
            "ticks": ""
           },
           "bgcolor": "#E5ECF6",
           "radialaxis": {
            "gridcolor": "white",
            "linecolor": "white",
            "ticks": ""
           }
          },
          "scene": {
           "xaxis": {
            "backgroundcolor": "#E5ECF6",
            "gridcolor": "white",
            "gridwidth": 2,
            "linecolor": "white",
            "showbackground": true,
            "ticks": "",
            "zerolinecolor": "white"
           },
           "yaxis": {
            "backgroundcolor": "#E5ECF6",
            "gridcolor": "white",
            "gridwidth": 2,
            "linecolor": "white",
            "showbackground": true,
            "ticks": "",
            "zerolinecolor": "white"
           },
           "zaxis": {
            "backgroundcolor": "#E5ECF6",
            "gridcolor": "white",
            "gridwidth": 2,
            "linecolor": "white",
            "showbackground": true,
            "ticks": "",
            "zerolinecolor": "white"
           }
          },
          "shapedefaults": {
           "line": {
            "color": "#2a3f5f"
           }
          },
          "ternary": {
           "aaxis": {
            "gridcolor": "white",
            "linecolor": "white",
            "ticks": ""
           },
           "baxis": {
            "gridcolor": "white",
            "linecolor": "white",
            "ticks": ""
           },
           "bgcolor": "#E5ECF6",
           "caxis": {
            "gridcolor": "white",
            "linecolor": "white",
            "ticks": ""
           }
          },
          "title": {
           "x": 0.05
          },
          "xaxis": {
           "automargin": true,
           "gridcolor": "white",
           "linecolor": "white",
           "ticks": "",
           "title": {
            "standoff": 15
           },
           "zerolinecolor": "white",
           "zerolinewidth": 2
          },
          "yaxis": {
           "automargin": true,
           "gridcolor": "white",
           "linecolor": "white",
           "ticks": "",
           "title": {
            "standoff": 15
           },
           "zerolinecolor": "white",
           "zerolinewidth": 2
          }
         }
        },
        "legend": {
         "tracegroupgap": 0
        },
        "margin": {
         "t": 60
        },
        "title": {
         "text": "Repayment Status",
         "x": 0.5
        }
       },
       "config": {
        "plotlyServerURL": "https://plot.ly"
       }
      },
      "text/html": "<div>                            <div id=\"e324ba9a-71bf-4156-a0b1-a2ef01dc55a0\" class=\"plotly-graph-div\" style=\"height:525px; width:100%;\"></div>            <script type=\"text/javascript\">                require([\"plotly\"], function(Plotly) {                    window.PLOTLYENV=window.PLOTLYENV || {};                                    if (document.getElementById(\"e324ba9a-71bf-4156-a0b1-a2ef01dc55a0\")) {                    Plotly.newPlot(                        \"e324ba9a-71bf-4156-a0b1-a2ef01dc55a0\",                        [{\"domain\":{\"x\":[0.0,1.0],\"y\":[0.0,1.0]},\"hovertemplate\":\"label=%{label}<br>value=%{value}<extra></extra>\",\"labels\":[\"Successful Repayment\",\"Default\"],\"legendgroup\":\"\",\"name\":\"\",\"showlegend\":true,\"values\":[50456,9510],\"type\":\"pie\"}],                        {\"template\":{\"data\":{\"bar\":[{\"error_x\":{\"color\":\"#2a3f5f\"},\"error_y\":{\"color\":\"#2a3f5f\"},\"marker\":{\"line\":{\"color\":\"#E5ECF6\",\"width\":0.5},\"pattern\":{\"fillmode\":\"overlay\",\"size\":10,\"solidity\":0.2}},\"type\":\"bar\"}],\"barpolar\":[{\"marker\":{\"line\":{\"color\":\"#E5ECF6\",\"width\":0.5},\"pattern\":{\"fillmode\":\"overlay\",\"size\":10,\"solidity\":0.2}},\"type\":\"barpolar\"}],\"carpet\":[{\"aaxis\":{\"endlinecolor\":\"#2a3f5f\",\"gridcolor\":\"white\",\"linecolor\":\"white\",\"minorgridcolor\":\"white\",\"startlinecolor\":\"#2a3f5f\"},\"baxis\":{\"endlinecolor\":\"#2a3f5f\",\"gridcolor\":\"white\",\"linecolor\":\"white\",\"minorgridcolor\":\"white\",\"startlinecolor\":\"#2a3f5f\"},\"type\":\"carpet\"}],\"choropleth\":[{\"colorbar\":{\"outlinewidth\":0,\"ticks\":\"\"},\"type\":\"choropleth\"}],\"contour\":[{\"colorbar\":{\"outlinewidth\":0,\"ticks\":\"\"},\"colorscale\":[[0.0,\"#0d0887\"],[0.1111111111111111,\"#46039f\"],[0.2222222222222222,\"#7201a8\"],[0.3333333333333333,\"#9c179e\"],[0.4444444444444444,\"#bd3786\"],[0.5555555555555556,\"#d8576b\"],[0.6666666666666666,\"#ed7953\"],[0.7777777777777778,\"#fb9f3a\"],[0.8888888888888888,\"#fdca26\"],[1.0,\"#f0f921\"]],\"type\":\"contour\"}],\"contourcarpet\":[{\"colorbar\":{\"outlinewidth\":0,\"ticks\":\"\"},\"type\":\"contourcarpet\"}],\"heatmap\":[{\"colorbar\":{\"outlinewidth\":0,\"ticks\":\"\"},\"colorscale\":[[0.0,\"#0d0887\"],[0.1111111111111111,\"#46039f\"],[0.2222222222222222,\"#7201a8\"],[0.3333333333333333,\"#9c179e\"],[0.4444444444444444,\"#bd3786\"],[0.5555555555555556,\"#d8576b\"],[0.6666666666666666,\"#ed7953\"],[0.7777777777777778,\"#fb9f3a\"],[0.8888888888888888,\"#fdca26\"],[1.0,\"#f0f921\"]],\"type\":\"heatmap\"}],\"heatmapgl\":[{\"colorbar\":{\"outlinewidth\":0,\"ticks\":\"\"},\"colorscale\":[[0.0,\"#0d0887\"],[0.1111111111111111,\"#46039f\"],[0.2222222222222222,\"#7201a8\"],[0.3333333333333333,\"#9c179e\"],[0.4444444444444444,\"#bd3786\"],[0.5555555555555556,\"#d8576b\"],[0.6666666666666666,\"#ed7953\"],[0.7777777777777778,\"#fb9f3a\"],[0.8888888888888888,\"#fdca26\"],[1.0,\"#f0f921\"]],\"type\":\"heatmapgl\"}],\"histogram\":[{\"marker\":{\"pattern\":{\"fillmode\":\"overlay\",\"size\":10,\"solidity\":0.2}},\"type\":\"histogram\"}],\"histogram2d\":[{\"colorbar\":{\"outlinewidth\":0,\"ticks\":\"\"},\"colorscale\":[[0.0,\"#0d0887\"],[0.1111111111111111,\"#46039f\"],[0.2222222222222222,\"#7201a8\"],[0.3333333333333333,\"#9c179e\"],[0.4444444444444444,\"#bd3786\"],[0.5555555555555556,\"#d8576b\"],[0.6666666666666666,\"#ed7953\"],[0.7777777777777778,\"#fb9f3a\"],[0.8888888888888888,\"#fdca26\"],[1.0,\"#f0f921\"]],\"type\":\"histogram2d\"}],\"histogram2dcontour\":[{\"colorbar\":{\"outlinewidth\":0,\"ticks\":\"\"},\"colorscale\":[[0.0,\"#0d0887\"],[0.1111111111111111,\"#46039f\"],[0.2222222222222222,\"#7201a8\"],[0.3333333333333333,\"#9c179e\"],[0.4444444444444444,\"#bd3786\"],[0.5555555555555556,\"#d8576b\"],[0.6666666666666666,\"#ed7953\"],[0.7777777777777778,\"#fb9f3a\"],[0.8888888888888888,\"#fdca26\"],[1.0,\"#f0f921\"]],\"type\":\"histogram2dcontour\"}],\"mesh3d\":[{\"colorbar\":{\"outlinewidth\":0,\"ticks\":\"\"},\"type\":\"mesh3d\"}],\"parcoords\":[{\"line\":{\"colorbar\":{\"outlinewidth\":0,\"ticks\":\"\"}},\"type\":\"parcoords\"}],\"pie\":[{\"automargin\":true,\"type\":\"pie\"}],\"scatter\":[{\"marker\":{\"colorbar\":{\"outlinewidth\":0,\"ticks\":\"\"}},\"type\":\"scatter\"}],\"scatter3d\":[{\"line\":{\"colorbar\":{\"outlinewidth\":0,\"ticks\":\"\"}},\"marker\":{\"colorbar\":{\"outlinewidth\":0,\"ticks\":\"\"}},\"type\":\"scatter3d\"}],\"scattercarpet\":[{\"marker\":{\"colorbar\":{\"outlinewidth\":0,\"ticks\":\"\"}},\"type\":\"scattercarpet\"}],\"scattergeo\":[{\"marker\":{\"colorbar\":{\"outlinewidth\":0,\"ticks\":\"\"}},\"type\":\"scattergeo\"}],\"scattergl\":[{\"marker\":{\"colorbar\":{\"outlinewidth\":0,\"ticks\":\"\"}},\"type\":\"scattergl\"}],\"scattermapbox\":[{\"marker\":{\"colorbar\":{\"outlinewidth\":0,\"ticks\":\"\"}},\"type\":\"scattermapbox\"}],\"scatterpolar\":[{\"marker\":{\"colorbar\":{\"outlinewidth\":0,\"ticks\":\"\"}},\"type\":\"scatterpolar\"}],\"scatterpolargl\":[{\"marker\":{\"colorbar\":{\"outlinewidth\":0,\"ticks\":\"\"}},\"type\":\"scatterpolargl\"}],\"scatterternary\":[{\"marker\":{\"colorbar\":{\"outlinewidth\":0,\"ticks\":\"\"}},\"type\":\"scatterternary\"}],\"surface\":[{\"colorbar\":{\"outlinewidth\":0,\"ticks\":\"\"},\"colorscale\":[[0.0,\"#0d0887\"],[0.1111111111111111,\"#46039f\"],[0.2222222222222222,\"#7201a8\"],[0.3333333333333333,\"#9c179e\"],[0.4444444444444444,\"#bd3786\"],[0.5555555555555556,\"#d8576b\"],[0.6666666666666666,\"#ed7953\"],[0.7777777777777778,\"#fb9f3a\"],[0.8888888888888888,\"#fdca26\"],[1.0,\"#f0f921\"]],\"type\":\"surface\"}],\"table\":[{\"cells\":{\"fill\":{\"color\":\"#EBF0F8\"},\"line\":{\"color\":\"white\"}},\"header\":{\"fill\":{\"color\":\"#C8D4E3\"},\"line\":{\"color\":\"white\"}},\"type\":\"table\"}]},\"layout\":{\"annotationdefaults\":{\"arrowcolor\":\"#2a3f5f\",\"arrowhead\":0,\"arrowwidth\":1},\"autotypenumbers\":\"strict\",\"coloraxis\":{\"colorbar\":{\"outlinewidth\":0,\"ticks\":\"\"}},\"colorscale\":{\"diverging\":[[0,\"#8e0152\"],[0.1,\"#c51b7d\"],[0.2,\"#de77ae\"],[0.3,\"#f1b6da\"],[0.4,\"#fde0ef\"],[0.5,\"#f7f7f7\"],[0.6,\"#e6f5d0\"],[0.7,\"#b8e186\"],[0.8,\"#7fbc41\"],[0.9,\"#4d9221\"],[1,\"#276419\"]],\"sequential\":[[0.0,\"#0d0887\"],[0.1111111111111111,\"#46039f\"],[0.2222222222222222,\"#7201a8\"],[0.3333333333333333,\"#9c179e\"],[0.4444444444444444,\"#bd3786\"],[0.5555555555555556,\"#d8576b\"],[0.6666666666666666,\"#ed7953\"],[0.7777777777777778,\"#fb9f3a\"],[0.8888888888888888,\"#fdca26\"],[1.0,\"#f0f921\"]],\"sequentialminus\":[[0.0,\"#0d0887\"],[0.1111111111111111,\"#46039f\"],[0.2222222222222222,\"#7201a8\"],[0.3333333333333333,\"#9c179e\"],[0.4444444444444444,\"#bd3786\"],[0.5555555555555556,\"#d8576b\"],[0.6666666666666666,\"#ed7953\"],[0.7777777777777778,\"#fb9f3a\"],[0.8888888888888888,\"#fdca26\"],[1.0,\"#f0f921\"]]},\"colorway\":[\"#636efa\",\"#EF553B\",\"#00cc96\",\"#ab63fa\",\"#FFA15A\",\"#19d3f3\",\"#FF6692\",\"#B6E880\",\"#FF97FF\",\"#FECB52\"],\"font\":{\"color\":\"#2a3f5f\"},\"geo\":{\"bgcolor\":\"white\",\"lakecolor\":\"white\",\"landcolor\":\"#E5ECF6\",\"showlakes\":true,\"showland\":true,\"subunitcolor\":\"white\"},\"hoverlabel\":{\"align\":\"left\"},\"hovermode\":\"closest\",\"mapbox\":{\"style\":\"light\"},\"paper_bgcolor\":\"white\",\"plot_bgcolor\":\"#E5ECF6\",\"polar\":{\"angularaxis\":{\"gridcolor\":\"white\",\"linecolor\":\"white\",\"ticks\":\"\"},\"bgcolor\":\"#E5ECF6\",\"radialaxis\":{\"gridcolor\":\"white\",\"linecolor\":\"white\",\"ticks\":\"\"}},\"scene\":{\"xaxis\":{\"backgroundcolor\":\"#E5ECF6\",\"gridcolor\":\"white\",\"gridwidth\":2,\"linecolor\":\"white\",\"showbackground\":true,\"ticks\":\"\",\"zerolinecolor\":\"white\"},\"yaxis\":{\"backgroundcolor\":\"#E5ECF6\",\"gridcolor\":\"white\",\"gridwidth\":2,\"linecolor\":\"white\",\"showbackground\":true,\"ticks\":\"\",\"zerolinecolor\":\"white\"},\"zaxis\":{\"backgroundcolor\":\"#E5ECF6\",\"gridcolor\":\"white\",\"gridwidth\":2,\"linecolor\":\"white\",\"showbackground\":true,\"ticks\":\"\",\"zerolinecolor\":\"white\"}},\"shapedefaults\":{\"line\":{\"color\":\"#2a3f5f\"}},\"ternary\":{\"aaxis\":{\"gridcolor\":\"white\",\"linecolor\":\"white\",\"ticks\":\"\"},\"baxis\":{\"gridcolor\":\"white\",\"linecolor\":\"white\",\"ticks\":\"\"},\"bgcolor\":\"#E5ECF6\",\"caxis\":{\"gridcolor\":\"white\",\"linecolor\":\"white\",\"ticks\":\"\"}},\"title\":{\"x\":0.05},\"xaxis\":{\"automargin\":true,\"gridcolor\":\"white\",\"linecolor\":\"white\",\"ticks\":\"\",\"title\":{\"standoff\":15},\"zerolinecolor\":\"white\",\"zerolinewidth\":2},\"yaxis\":{\"automargin\":true,\"gridcolor\":\"white\",\"linecolor\":\"white\",\"ticks\":\"\",\"title\":{\"standoff\":15},\"zerolinecolor\":\"white\",\"zerolinewidth\":2}}},\"legend\":{\"tracegroupgap\":0},\"margin\":{\"t\":60},\"title\":{\"text\":\"Repayment Status\",\"x\":0.5}},                        {\"responsive\": true}                    ).then(function(){\n                            \nvar gd = document.getElementById('e324ba9a-71bf-4156-a0b1-a2ef01dc55a0');\nvar x = new MutationObserver(function (mutations, observer) {{\n        var display = window.getComputedStyle(gd).display;\n        if (!display || display === 'none') {{\n            console.log([gd, 'removed!']);\n            Plotly.purge(gd);\n            observer.disconnect();\n        }}\n}});\n\n// Listen for the removal of the full notebook cells\nvar notebookContainer = gd.closest('#notebook-container');\nif (notebookContainer) {{\n    x.observe(notebookContainer, {childList: true});\n}}\n\n// Listen for the clearing of the current output cell\nvar outputEl = gd.closest('.output');\nif (outputEl) {{\n    x.observe(outputEl, {childList: true});\n}}\n\n                        })                };                });            </script>        </div>"
     },
     "metadata": {},
     "output_type": "display_data"
    }
   ],
   "source": [
    "contract_val = df_train['default'].value_counts()\n",
    "default_labels= ['Successful Repayment', 'Default']\n",
    "fig = px.pie(contract_val, values=contract_val.values, names=default_labels,\n",
    "             color_discrete_map={'Successful Repayment':'blue',\n",
    "                                 'Default':'red'})\n",
    "fig.update_layout(title_text='Repayment Status', title_x=0.5)\n",
    "fig.show()"
   ],
   "metadata": {
    "collapsed": false,
    "pycharm": {
     "name": "#%%\n"
    }
   }
  },
  {
   "cell_type": "markdown",
   "source": [
    "The pie chat above reveals an imbalance target for the training data."
   ],
   "metadata": {
    "collapsed": false
   }
  },
  {
   "cell_type": "markdown",
   "source": [
    "## 2. Preprocess and Encode Data ##"
   ],
   "metadata": {
    "collapsed": false
   }
  },
  {
   "cell_type": "code",
   "execution_count": 75,
   "outputs": [],
   "source": [
    "# Create additional binary features flag for missing values for all features that have missing values\n",
    "for col in df_test.columns:\n",
    "    df_train[\"is_\" + col + \"_missing\"] = df_train[col].isnull() * 1\n",
    "    df_test[\"is_\" + col + \"_missing\"] = df_test[col].isnull() * 1\n",
    "\n",
    "# Represent categorical feature as a series o binary values and drop first column to avoid redundancy\n",
    "df_train = pd.get_dummies(df_train, columns=['score_1','score_2','real_state'], drop_first=True)\n",
    "df_test = pd.get_dummies(df_test, columns=['score_1','score_2','real_state'], drop_first=True)\n",
    "\n",
    "encode_cols = df_train.dtypes\n",
    "encode_cols = encode_cols[encode_cols == object].index.tolist()\n",
    "\n",
    "# Encode categorical variables and replace NaN by -1\n",
    "df_train, df_test = encode_all(df_train, df_test, encode_cols)\n",
    "df_train, df_test = df_train.fillna(-1), df_test.fillna(-1)\n",
    "\n",
    "# Split features and labels\n",
    "X_train, y_train = df_train.drop([\"default\"], axis=1), df_train[\"default\"]\n",
    "X_test = df_test"
   ],
   "metadata": {
    "collapsed": false,
    "pycharm": {
     "name": "#%%\n"
    }
   }
  },
  {
   "cell_type": "code",
   "execution_count": 76,
   "outputs": [
    {
     "data": {
      "text/plain": "                                      score_3     score_4   score_5  \\\nids                                                                   \n810e3277-619e-3154-7ba0-ebddfc5f7ea9    710.0  104.174961  0.661509   \nb4118fd5-77d5-4d80-3617-bacd7aaf1a88    330.0   97.880798  0.531115   \na75638f1-4662-4f4f-044a-d649b676d85d    360.0   97.908925  0.611086   \n285ce334-3602-42b3-51cb-eebfcba48a09    120.0  100.434557  0.139784   \ne643bf65-9288-92f2-df13-eed631fe237c    330.0  103.774638  0.002856   \n\n                                         score_6  risk_rate  amount_borrowed  \\\nids                                                                            \n810e3277-619e-3154-7ba0-ebddfc5f7ea9  123.015325       0.43         20024.31   \nb4118fd5-77d5-4d80-3617-bacd7aaf1a88  110.913484       0.23         10046.51   \na75638f1-4662-4f4f-044a-d649b676d85d  104.620791       0.30         21228.25   \n285ce334-3602-42b3-51cb-eebfcba48a09  120.134718       0.15         23032.33   \ne643bf65-9288-92f2-df13-eed631fe237c  104.320462       0.08         24026.29   \n\n                                      borrowed_in_months  credit_limit  \\\nids                                                                      \n810e3277-619e-3154-7ba0-ebddfc5f7ea9                60.0       62386.0   \nb4118fd5-77d5-4d80-3617-bacd7aaf1a88                36.0          -1.0   \na75638f1-4662-4f4f-044a-d649b676d85d                60.0          -1.0   \n285ce334-3602-42b3-51cb-eebfcba48a09                36.0          -1.0   \ne643bf65-9288-92f2-df13-eed631fe237c                36.0       32366.0   \n\n                                        income   sign  ...  \\\nids                                                    ...   \n810e3277-619e-3154-7ba0-ebddfc5f7ea9  59869.05   5571  ...   \nb4118fd5-77d5-4d80-3617-bacd7aaf1a88  46016.31   1402  ...   \na75638f1-4662-4f4f-044a-d649b676d85d  48025.47   5582  ...   \n285ce334-3602-42b3-51cb-eebfcba48a09  46011.12  18938  ...   \ne643bf65-9288-92f2-df13-eed631fe237c  90026.17   5582  ...   \n\n                                      score_2_tHpS8e9F8d9zg3iOQM9tsA==  \\\nids                                                                      \n810e3277-619e-3154-7ba0-ebddfc5f7ea9                                 1   \nb4118fd5-77d5-4d80-3617-bacd7aaf1a88                                 0   \na75638f1-4662-4f4f-044a-d649b676d85d                                 0   \n285ce334-3602-42b3-51cb-eebfcba48a09                                 0   \ne643bf65-9288-92f2-df13-eed631fe237c                                 0   \n\n                                      score_2_tQUTfUyeuGkhRotd+6WjVg==  \\\nids                                                                      \n810e3277-619e-3154-7ba0-ebddfc5f7ea9                                 0   \nb4118fd5-77d5-4d80-3617-bacd7aaf1a88                                 0   \na75638f1-4662-4f4f-044a-d649b676d85d                                 0   \n285ce334-3602-42b3-51cb-eebfcba48a09                                 1   \ne643bf65-9288-92f2-df13-eed631fe237c                                 0   \n\n                                      score_2_vJyc9xom9v7hwFMPTIpmKw==  \\\nids                                                                      \n810e3277-619e-3154-7ba0-ebddfc5f7ea9                                 0   \nb4118fd5-77d5-4d80-3617-bacd7aaf1a88                                 0   \na75638f1-4662-4f4f-044a-d649b676d85d                                 0   \n285ce334-3602-42b3-51cb-eebfcba48a09                                 0   \ne643bf65-9288-92f2-df13-eed631fe237c                                 0   \n\n                                      score_2_w1miZqhB5+RSamEQJa0rqg==  \\\nids                                                                      \n810e3277-619e-3154-7ba0-ebddfc5f7ea9                                 0   \nb4118fd5-77d5-4d80-3617-bacd7aaf1a88                                 0   \na75638f1-4662-4f4f-044a-d649b676d85d                                 0   \n285ce334-3602-42b3-51cb-eebfcba48a09                                 0   \ne643bf65-9288-92f2-df13-eed631fe237c                                 0   \n\n                                      score_2_wjdj2vxjWoDsEIk0l09ynw==  \\\nids                                                                      \n810e3277-619e-3154-7ba0-ebddfc5f7ea9                                 0   \nb4118fd5-77d5-4d80-3617-bacd7aaf1a88                                 0   \na75638f1-4662-4f4f-044a-d649b676d85d                                 0   \n285ce334-3602-42b3-51cb-eebfcba48a09                                 0   \ne643bf65-9288-92f2-df13-eed631fe237c                                 0   \n\n                                      score_2_wkeCdGeu5sEv4/fjwR0aDg==  \\\nids                                                                      \n810e3277-619e-3154-7ba0-ebddfc5f7ea9                                 0   \nb4118fd5-77d5-4d80-3617-bacd7aaf1a88                                 0   \na75638f1-4662-4f4f-044a-d649b676d85d                                 1   \n285ce334-3602-42b3-51cb-eebfcba48a09                                 0   \ne643bf65-9288-92f2-df13-eed631fe237c                                 0   \n\n                                      real_state_N5/CE7lSkAfB04hVFFwllw==  \\\nids                                                                         \n810e3277-619e-3154-7ba0-ebddfc5f7ea9                                    0   \nb4118fd5-77d5-4d80-3617-bacd7aaf1a88                                    0   \na75638f1-4662-4f4f-044a-d649b676d85d                                    1   \n285ce334-3602-42b3-51cb-eebfcba48a09                                    1   \ne643bf65-9288-92f2-df13-eed631fe237c                                    1   \n\n                                      real_state_UX7AdFYgQh+VrVC5eIaU9w==  \\\nids                                                                         \n810e3277-619e-3154-7ba0-ebddfc5f7ea9                                    0   \nb4118fd5-77d5-4d80-3617-bacd7aaf1a88                                    0   \na75638f1-4662-4f4f-044a-d649b676d85d                                    0   \n285ce334-3602-42b3-51cb-eebfcba48a09                                    0   \ne643bf65-9288-92f2-df13-eed631fe237c                                    0   \n\n                                      real_state_n+xK9CfX0bCn77lClTWviw==  \\\nids                                                                         \n810e3277-619e-3154-7ba0-ebddfc5f7ea9                                    1   \nb4118fd5-77d5-4d80-3617-bacd7aaf1a88                                    1   \na75638f1-4662-4f4f-044a-d649b676d85d                                    0   \n285ce334-3602-42b3-51cb-eebfcba48a09                                    0   \ne643bf65-9288-92f2-df13-eed631fe237c                                    0   \n\n                                      real_state_nSpvDsIsslUaX6GE6m6eQA==  \nids                                                                        \n810e3277-619e-3154-7ba0-ebddfc5f7ea9                                    0  \nb4118fd5-77d5-4d80-3617-bacd7aaf1a88                                    0  \na75638f1-4662-4f4f-044a-d649b676d85d                                    0  \n285ce334-3602-42b3-51cb-eebfcba48a09                                    0  \ne643bf65-9288-92f2-df13-eed631fe237c                                    0  \n\n[5 rows x 77 columns]",
      "text/html": "<div>\n<style scoped>\n    .dataframe tbody tr th:only-of-type {\n        vertical-align: middle;\n    }\n\n    .dataframe tbody tr th {\n        vertical-align: top;\n    }\n\n    .dataframe thead th {\n        text-align: right;\n    }\n</style>\n<table border=\"1\" class=\"dataframe\">\n  <thead>\n    <tr style=\"text-align: right;\">\n      <th></th>\n      <th>score_3</th>\n      <th>score_4</th>\n      <th>score_5</th>\n      <th>score_6</th>\n      <th>risk_rate</th>\n      <th>amount_borrowed</th>\n      <th>borrowed_in_months</th>\n      <th>credit_limit</th>\n      <th>income</th>\n      <th>sign</th>\n      <th>...</th>\n      <th>score_2_tHpS8e9F8d9zg3iOQM9tsA==</th>\n      <th>score_2_tQUTfUyeuGkhRotd+6WjVg==</th>\n      <th>score_2_vJyc9xom9v7hwFMPTIpmKw==</th>\n      <th>score_2_w1miZqhB5+RSamEQJa0rqg==</th>\n      <th>score_2_wjdj2vxjWoDsEIk0l09ynw==</th>\n      <th>score_2_wkeCdGeu5sEv4/fjwR0aDg==</th>\n      <th>real_state_N5/CE7lSkAfB04hVFFwllw==</th>\n      <th>real_state_UX7AdFYgQh+VrVC5eIaU9w==</th>\n      <th>real_state_n+xK9CfX0bCn77lClTWviw==</th>\n      <th>real_state_nSpvDsIsslUaX6GE6m6eQA==</th>\n    </tr>\n    <tr>\n      <th>ids</th>\n      <th></th>\n      <th></th>\n      <th></th>\n      <th></th>\n      <th></th>\n      <th></th>\n      <th></th>\n      <th></th>\n      <th></th>\n      <th></th>\n      <th></th>\n      <th></th>\n      <th></th>\n      <th></th>\n      <th></th>\n      <th></th>\n      <th></th>\n      <th></th>\n      <th></th>\n      <th></th>\n      <th></th>\n    </tr>\n  </thead>\n  <tbody>\n    <tr>\n      <th>810e3277-619e-3154-7ba0-ebddfc5f7ea9</th>\n      <td>710.0</td>\n      <td>104.174961</td>\n      <td>0.661509</td>\n      <td>123.015325</td>\n      <td>0.43</td>\n      <td>20024.31</td>\n      <td>60.0</td>\n      <td>62386.0</td>\n      <td>59869.05</td>\n      <td>5571</td>\n      <td>...</td>\n      <td>1</td>\n      <td>0</td>\n      <td>0</td>\n      <td>0</td>\n      <td>0</td>\n      <td>0</td>\n      <td>0</td>\n      <td>0</td>\n      <td>1</td>\n      <td>0</td>\n    </tr>\n    <tr>\n      <th>b4118fd5-77d5-4d80-3617-bacd7aaf1a88</th>\n      <td>330.0</td>\n      <td>97.880798</td>\n      <td>0.531115</td>\n      <td>110.913484</td>\n      <td>0.23</td>\n      <td>10046.51</td>\n      <td>36.0</td>\n      <td>-1.0</td>\n      <td>46016.31</td>\n      <td>1402</td>\n      <td>...</td>\n      <td>0</td>\n      <td>0</td>\n      <td>0</td>\n      <td>0</td>\n      <td>0</td>\n      <td>0</td>\n      <td>0</td>\n      <td>0</td>\n      <td>1</td>\n      <td>0</td>\n    </tr>\n    <tr>\n      <th>a75638f1-4662-4f4f-044a-d649b676d85d</th>\n      <td>360.0</td>\n      <td>97.908925</td>\n      <td>0.611086</td>\n      <td>104.620791</td>\n      <td>0.30</td>\n      <td>21228.25</td>\n      <td>60.0</td>\n      <td>-1.0</td>\n      <td>48025.47</td>\n      <td>5582</td>\n      <td>...</td>\n      <td>0</td>\n      <td>0</td>\n      <td>0</td>\n      <td>0</td>\n      <td>0</td>\n      <td>1</td>\n      <td>1</td>\n      <td>0</td>\n      <td>0</td>\n      <td>0</td>\n    </tr>\n    <tr>\n      <th>285ce334-3602-42b3-51cb-eebfcba48a09</th>\n      <td>120.0</td>\n      <td>100.434557</td>\n      <td>0.139784</td>\n      <td>120.134718</td>\n      <td>0.15</td>\n      <td>23032.33</td>\n      <td>36.0</td>\n      <td>-1.0</td>\n      <td>46011.12</td>\n      <td>18938</td>\n      <td>...</td>\n      <td>0</td>\n      <td>1</td>\n      <td>0</td>\n      <td>0</td>\n      <td>0</td>\n      <td>0</td>\n      <td>1</td>\n      <td>0</td>\n      <td>0</td>\n      <td>0</td>\n    </tr>\n    <tr>\n      <th>e643bf65-9288-92f2-df13-eed631fe237c</th>\n      <td>330.0</td>\n      <td>103.774638</td>\n      <td>0.002856</td>\n      <td>104.320462</td>\n      <td>0.08</td>\n      <td>24026.29</td>\n      <td>36.0</td>\n      <td>32366.0</td>\n      <td>90026.17</td>\n      <td>5582</td>\n      <td>...</td>\n      <td>0</td>\n      <td>0</td>\n      <td>0</td>\n      <td>0</td>\n      <td>0</td>\n      <td>0</td>\n      <td>1</td>\n      <td>0</td>\n      <td>0</td>\n      <td>0</td>\n    </tr>\n  </tbody>\n</table>\n<p>5 rows × 77 columns</p>\n</div>"
     },
     "execution_count": 76,
     "metadata": {},
     "output_type": "execute_result"
    }
   ],
   "source": [
    "# Print first rows of the training set\n",
    "X_train.head()"
   ],
   "metadata": {
    "collapsed": false,
    "pycharm": {
     "name": "#%%\n"
    }
   }
  },
  {
   "cell_type": "code",
   "execution_count": 77,
   "outputs": [
    {
     "data": {
      "text/plain": "                                      score_3     score_4   score_5  \\\nids                                                                   \ne4366223-7aa2-0904-7a47-66479ae46b2a    230.0  101.906686  0.677760   \nc6416108-c6d7-e6be-c4b5-923dd36c8ec4    400.0   96.276632  0.278711   \na90d3929-86ec-2414-89ba-543776b0e82b    420.0   98.901695  0.894661   \nc5b96a7f-389a-28d0-242d-95db05e69da0    490.0   95.975994  0.972729   \n1b461faa-926d-565d-b15d-0b452968ac81    320.0  101.303601  0.234202   \n\n                                         score_6  risk_rate  amount_borrowed  \\\nids                                                                            \ne4366223-7aa2-0904-7a47-66479ae46b2a   77.245320       0.22         21016.38   \nc6416108-c6d7-e6be-c4b5-923dd36c8ec4   94.980774       0.13          1211.74   \na90d3929-86ec-2414-89ba-543776b0e82b  108.136546       0.25          6990.63   \nc5b96a7f-389a-28d0-242d-95db05e69da0  126.120768       0.46         15025.67   \n1b461faa-926d-565d-b15d-0b452968ac81  107.162760       0.29          7027.81   \n\n                                      borrowed_in_months  credit_limit  \\\nids                                                                      \ne4366223-7aa2-0904-7a47-66479ae46b2a                36.0       43666.0   \nc6416108-c6d7-e6be-c4b5-923dd36c8ec4                36.0          -1.0   \na90d3929-86ec-2414-89ba-543776b0e82b                36.0          -1.0   \nc5b96a7f-389a-28d0-242d-95db05e69da0                60.0       71273.0   \n1b461faa-926d-565d-b15d-0b452968ac81                36.0          -1.0   \n\n                                         income   sign  ...  \\\nids                                                     ...   \ne4366223-7aa2-0904-7a47-66479ae46b2a  156021.02  18938  ...   \nc6416108-c6d7-e6be-c4b5-923dd36c8ec4    8410.56   1402  ...   \na90d3929-86ec-2414-89ba-543776b0e82b   45116.60   3499  ...   \nc5b96a7f-389a-28d0-242d-95db05e69da0   60029.26   2839  ...   \n1b461faa-926d-565d-b15d-0b452968ac81   27618.96   3499  ...   \n\n                                      score_2_tHpS8e9F8d9zg3iOQM9tsA==  \\\nids                                                                      \ne4366223-7aa2-0904-7a47-66479ae46b2a                                 0   \nc6416108-c6d7-e6be-c4b5-923dd36c8ec4                                 0   \na90d3929-86ec-2414-89ba-543776b0e82b                                 0   \nc5b96a7f-389a-28d0-242d-95db05e69da0                                 0   \n1b461faa-926d-565d-b15d-0b452968ac81                                 0   \n\n                                      score_2_tQUTfUyeuGkhRotd+6WjVg==  \\\nids                                                                      \ne4366223-7aa2-0904-7a47-66479ae46b2a                                 0   \nc6416108-c6d7-e6be-c4b5-923dd36c8ec4                                 0   \na90d3929-86ec-2414-89ba-543776b0e82b                                 0   \nc5b96a7f-389a-28d0-242d-95db05e69da0                                 0   \n1b461faa-926d-565d-b15d-0b452968ac81                                 0   \n\n                                      score_2_vJyc9xom9v7hwFMPTIpmKw==  \\\nids                                                                      \ne4366223-7aa2-0904-7a47-66479ae46b2a                                 0   \nc6416108-c6d7-e6be-c4b5-923dd36c8ec4                                 0   \na90d3929-86ec-2414-89ba-543776b0e82b                                 0   \nc5b96a7f-389a-28d0-242d-95db05e69da0                                 0   \n1b461faa-926d-565d-b15d-0b452968ac81                                 0   \n\n                                      score_2_w1miZqhB5+RSamEQJa0rqg==  \\\nids                                                                      \ne4366223-7aa2-0904-7a47-66479ae46b2a                                 0   \nc6416108-c6d7-e6be-c4b5-923dd36c8ec4                                 0   \na90d3929-86ec-2414-89ba-543776b0e82b                                 0   \nc5b96a7f-389a-28d0-242d-95db05e69da0                                 0   \n1b461faa-926d-565d-b15d-0b452968ac81                                 0   \n\n                                      score_2_wjdj2vxjWoDsEIk0l09ynw==  \\\nids                                                                      \ne4366223-7aa2-0904-7a47-66479ae46b2a                                 0   \nc6416108-c6d7-e6be-c4b5-923dd36c8ec4                                 0   \na90d3929-86ec-2414-89ba-543776b0e82b                                 0   \nc5b96a7f-389a-28d0-242d-95db05e69da0                                 0   \n1b461faa-926d-565d-b15d-0b452968ac81                                 0   \n\n                                      score_2_wkeCdGeu5sEv4/fjwR0aDg==  \\\nids                                                                      \ne4366223-7aa2-0904-7a47-66479ae46b2a                                 0   \nc6416108-c6d7-e6be-c4b5-923dd36c8ec4                                 0   \na90d3929-86ec-2414-89ba-543776b0e82b                                 0   \nc5b96a7f-389a-28d0-242d-95db05e69da0                                 0   \n1b461faa-926d-565d-b15d-0b452968ac81                                 0   \n\n                                      real_state_N5/CE7lSkAfB04hVFFwllw==  \\\nids                                                                         \ne4366223-7aa2-0904-7a47-66479ae46b2a                                    1   \nc6416108-c6d7-e6be-c4b5-923dd36c8ec4                                    1   \na90d3929-86ec-2414-89ba-543776b0e82b                                    1   \nc5b96a7f-389a-28d0-242d-95db05e69da0                                    0   \n1b461faa-926d-565d-b15d-0b452968ac81                                    0   \n\n                                      real_state_UX7AdFYgQh+VrVC5eIaU9w==  \\\nids                                                                         \ne4366223-7aa2-0904-7a47-66479ae46b2a                                    0   \nc6416108-c6d7-e6be-c4b5-923dd36c8ec4                                    0   \na90d3929-86ec-2414-89ba-543776b0e82b                                    0   \nc5b96a7f-389a-28d0-242d-95db05e69da0                                    0   \n1b461faa-926d-565d-b15d-0b452968ac81                                    0   \n\n                                      real_state_n+xK9CfX0bCn77lClTWviw==  \\\nids                                                                         \ne4366223-7aa2-0904-7a47-66479ae46b2a                                    0   \nc6416108-c6d7-e6be-c4b5-923dd36c8ec4                                    0   \na90d3929-86ec-2414-89ba-543776b0e82b                                    0   \nc5b96a7f-389a-28d0-242d-95db05e69da0                                    1   \n1b461faa-926d-565d-b15d-0b452968ac81                                    1   \n\n                                      real_state_nSpvDsIsslUaX6GE6m6eQA==  \nids                                                                        \ne4366223-7aa2-0904-7a47-66479ae46b2a                                    0  \nc6416108-c6d7-e6be-c4b5-923dd36c8ec4                                    0  \na90d3929-86ec-2414-89ba-543776b0e82b                                    0  \nc5b96a7f-389a-28d0-242d-95db05e69da0                                    0  \n1b461faa-926d-565d-b15d-0b452968ac81                                    0  \n\n[5 rows x 77 columns]",
      "text/html": "<div>\n<style scoped>\n    .dataframe tbody tr th:only-of-type {\n        vertical-align: middle;\n    }\n\n    .dataframe tbody tr th {\n        vertical-align: top;\n    }\n\n    .dataframe thead th {\n        text-align: right;\n    }\n</style>\n<table border=\"1\" class=\"dataframe\">\n  <thead>\n    <tr style=\"text-align: right;\">\n      <th></th>\n      <th>score_3</th>\n      <th>score_4</th>\n      <th>score_5</th>\n      <th>score_6</th>\n      <th>risk_rate</th>\n      <th>amount_borrowed</th>\n      <th>borrowed_in_months</th>\n      <th>credit_limit</th>\n      <th>income</th>\n      <th>sign</th>\n      <th>...</th>\n      <th>score_2_tHpS8e9F8d9zg3iOQM9tsA==</th>\n      <th>score_2_tQUTfUyeuGkhRotd+6WjVg==</th>\n      <th>score_2_vJyc9xom9v7hwFMPTIpmKw==</th>\n      <th>score_2_w1miZqhB5+RSamEQJa0rqg==</th>\n      <th>score_2_wjdj2vxjWoDsEIk0l09ynw==</th>\n      <th>score_2_wkeCdGeu5sEv4/fjwR0aDg==</th>\n      <th>real_state_N5/CE7lSkAfB04hVFFwllw==</th>\n      <th>real_state_UX7AdFYgQh+VrVC5eIaU9w==</th>\n      <th>real_state_n+xK9CfX0bCn77lClTWviw==</th>\n      <th>real_state_nSpvDsIsslUaX6GE6m6eQA==</th>\n    </tr>\n    <tr>\n      <th>ids</th>\n      <th></th>\n      <th></th>\n      <th></th>\n      <th></th>\n      <th></th>\n      <th></th>\n      <th></th>\n      <th></th>\n      <th></th>\n      <th></th>\n      <th></th>\n      <th></th>\n      <th></th>\n      <th></th>\n      <th></th>\n      <th></th>\n      <th></th>\n      <th></th>\n      <th></th>\n      <th></th>\n      <th></th>\n    </tr>\n  </thead>\n  <tbody>\n    <tr>\n      <th>e4366223-7aa2-0904-7a47-66479ae46b2a</th>\n      <td>230.0</td>\n      <td>101.906686</td>\n      <td>0.677760</td>\n      <td>77.245320</td>\n      <td>0.22</td>\n      <td>21016.38</td>\n      <td>36.0</td>\n      <td>43666.0</td>\n      <td>156021.02</td>\n      <td>18938</td>\n      <td>...</td>\n      <td>0</td>\n      <td>0</td>\n      <td>0</td>\n      <td>0</td>\n      <td>0</td>\n      <td>0</td>\n      <td>1</td>\n      <td>0</td>\n      <td>0</td>\n      <td>0</td>\n    </tr>\n    <tr>\n      <th>c6416108-c6d7-e6be-c4b5-923dd36c8ec4</th>\n      <td>400.0</td>\n      <td>96.276632</td>\n      <td>0.278711</td>\n      <td>94.980774</td>\n      <td>0.13</td>\n      <td>1211.74</td>\n      <td>36.0</td>\n      <td>-1.0</td>\n      <td>8410.56</td>\n      <td>1402</td>\n      <td>...</td>\n      <td>0</td>\n      <td>0</td>\n      <td>0</td>\n      <td>0</td>\n      <td>0</td>\n      <td>0</td>\n      <td>1</td>\n      <td>0</td>\n      <td>0</td>\n      <td>0</td>\n    </tr>\n    <tr>\n      <th>a90d3929-86ec-2414-89ba-543776b0e82b</th>\n      <td>420.0</td>\n      <td>98.901695</td>\n      <td>0.894661</td>\n      <td>108.136546</td>\n      <td>0.25</td>\n      <td>6990.63</td>\n      <td>36.0</td>\n      <td>-1.0</td>\n      <td>45116.60</td>\n      <td>3499</td>\n      <td>...</td>\n      <td>0</td>\n      <td>0</td>\n      <td>0</td>\n      <td>0</td>\n      <td>0</td>\n      <td>0</td>\n      <td>1</td>\n      <td>0</td>\n      <td>0</td>\n      <td>0</td>\n    </tr>\n    <tr>\n      <th>c5b96a7f-389a-28d0-242d-95db05e69da0</th>\n      <td>490.0</td>\n      <td>95.975994</td>\n      <td>0.972729</td>\n      <td>126.120768</td>\n      <td>0.46</td>\n      <td>15025.67</td>\n      <td>60.0</td>\n      <td>71273.0</td>\n      <td>60029.26</td>\n      <td>2839</td>\n      <td>...</td>\n      <td>0</td>\n      <td>0</td>\n      <td>0</td>\n      <td>0</td>\n      <td>0</td>\n      <td>0</td>\n      <td>0</td>\n      <td>0</td>\n      <td>1</td>\n      <td>0</td>\n    </tr>\n    <tr>\n      <th>1b461faa-926d-565d-b15d-0b452968ac81</th>\n      <td>320.0</td>\n      <td>101.303601</td>\n      <td>0.234202</td>\n      <td>107.162760</td>\n      <td>0.29</td>\n      <td>7027.81</td>\n      <td>36.0</td>\n      <td>-1.0</td>\n      <td>27618.96</td>\n      <td>3499</td>\n      <td>...</td>\n      <td>0</td>\n      <td>0</td>\n      <td>0</td>\n      <td>0</td>\n      <td>0</td>\n      <td>0</td>\n      <td>0</td>\n      <td>0</td>\n      <td>1</td>\n      <td>0</td>\n    </tr>\n  </tbody>\n</table>\n<p>5 rows × 77 columns</p>\n</div>"
     },
     "execution_count": 77,
     "metadata": {},
     "output_type": "execute_result"
    }
   ],
   "source": [
    "# Print first rows of the test set\n",
    "X_test.head()"
   ],
   "metadata": {
    "collapsed": false,
    "pycharm": {
     "name": "#%%\n"
    }
   }
  },
  {
   "cell_type": "markdown",
   "source": [
    "# 3. Train and Find Best Model - Hyperparameter Tuning #\n",
    "\n",
    "Since the data provided already has the training set and test set separate, we don't need to applied the train_test_split for this case.\n",
    "\n",
    "## 3.1.a Grid Search for XGBClassifier ##\n",
    "\n",
    "We will perform hyperparameter tuning using GridSearchCV for the XGBClassifier(use_label_encoder=False, eval_metric='merror'). Grid search use 5-fold cross-validation, and accuracy as the scoring function.\n",
    "\n",
    "The following hyperparameters and values are used:\n",
    "\n",
    "* 'n_estimators': [20, 30, 50, 100, 200],\n",
    "* 'learning_rate': [0.001, 0.01, 0.1, 1.0, 2.0]\n",
    "\n",
    "print_grid_search_result() and plot_grid_search_result() functions defined above will be used to show the results."
   ],
   "metadata": {
    "collapsed": false
   }
  },
  {
   "cell_type": "code",
   "execution_count": 78,
   "outputs": [
    {
     "name": "stdout",
     "output_type": "stream",
     "text": [
      "Fitting 5 folds for each of 25 candidates, totalling 125 fits\n",
      "Best parameters: {'learning_rate': 0.1, 'n_estimators': 100}\n",
      "Best cross-validation score: 0.853\n"
     ]
    }
   ],
   "source": [
    "from sklearn.model_selection import GridSearchCV\n",
    "\n",
    "# Grid Search Parameters\n",
    "param_grid = {'n_estimators': [20, 30, 50, 100, 200],\n",
    "              'learning_rate': [0.001, 0.01, 0.1, 1.0, 2.0]}\n",
    "\n",
    "xgb_grid = GridSearchCV(estimator=xgb.XGBClassifier(use_label_encoder=False, eval_metric='merror'), param_grid=param_grid, verbose=1, cv=5, n_jobs=-1, scoring='accuracy', return_train_score=True)\n",
    "xgb_grid.fit(X_train, y_train)\n",
    "print_grid_search_result(xgb_grid)"
   ],
   "metadata": {
    "collapsed": false,
    "pycharm": {
     "name": "#%%\n"
    }
   }
  },
  {
   "cell_type": "markdown",
   "source": [
    "The use of plot_grid_search_result() function is to identify whether we are using bias values in our parameter grid. This allows us to go back and change any values needed within the parameter grid to yield the best accuracy score."
   ],
   "metadata": {
    "collapsed": false
   }
  },
  {
   "cell_type": "code",
   "execution_count": 79,
   "outputs": [
    {
     "data": {
      "text/plain": "<Figure size 432x288 with 1 Axes>",
      "image/png": "[encoded data removed]"
     },
     "metadata": {
      "needs_background": "light"
     },
     "output_type": "display_data"
    }
   ],
   "source": [
    "plot_grid_search_results(xgb_grid)"
   ],
   "metadata": {
    "collapsed": false,
    "pycharm": {
     "name": "#%%\n"
    }
   }
  },
  {
   "cell_type": "markdown",
   "source": [
    "# 3.1.b Grid Search for EasyEnsembleClassifier #"
   ],
   "metadata": {
    "collapsed": false
   }
  },
  {
   "cell_type": "code",
   "execution_count": 80,
   "outputs": [
    {
     "name": "stdout",
     "output_type": "stream",
     "text": [
      "Fitting 5 folds for each of 4 candidates, totalling 20 fits\n",
      "Best parameters: {'n_estimators': 30}\n",
      "Best cross-validation score: 0.711\n"
     ]
    }
   ],
   "source": [
    "from sklearn.model_selection import GridSearchCV\n",
    "\n",
    "# Grid Search Parameters\n",
    "param_grid = {'n_estimators': [5, 30, 60, 100]}\n",
    "\n",
    "easy_grid = GridSearchCV(estimator=EasyEnsembleClassifier(random_state=42), param_grid=param_grid, verbose=1, cv=5, n_jobs=-1, scoring='accuracy', return_train_score=True)\n",
    "easy_grid.fit(X_train, y_train)\n",
    "print_grid_search_result(easy_grid)"
   ],
   "metadata": {
    "collapsed": false,
    "pycharm": {
     "name": "#%%\n"
    }
   }
  },
  {
   "cell_type": "markdown",
   "source": [
    "## 3.2.a Area Under the Curve for XGBClassifier ##"
   ],
   "metadata": {
    "collapsed": false
   }
  },
  {
   "cell_type": "code",
   "execution_count": 81,
   "outputs": [
    {
     "name": "stdout",
     "output_type": "stream",
     "text": [
      "(11994, 2)\n",
      "AUC score on fold 0: 0.760\n",
      "(11993, 2)\n",
      "AUC score on fold 1: 0.765\n",
      "(11993, 2)\n",
      "AUC score on fold 2: 0.757\n",
      "(11993, 2)\n",
      "AUC score on fold 3: 0.770\n",
      "(11993, 2)\n",
      "AUC score on fold 4: 0.764\n",
      "AUC: 0.763 +- 0.0046\n"
     ]
    }
   ],
   "source": [
    "xgbc = xgb.XGBClassifier(learning_rate=0.1,\n",
    "                        n_estimators=100,\n",
    "                        use_label_encoder=False,\n",
    "                        eval_metric='merror',\n",
    "                        )\n",
    "skf = StratifiedKFold(5, shuffle=True, random_state=100)\n",
    "cm = np.zeros((2,2))\n",
    "aucs = []\n",
    "\n",
    "for (fold, (i_train, i_test)) in enumerate(skf.split(X_train, y_train)):\n",
    "    xgbc.fit(X_train.iloc[i_train], y_train.iloc[i_train])\n",
    "    i_pred_proba = xgbc.predict_proba(X_train.iloc[i_test])\n",
    "    pred = xgbc.predict(X_train.iloc[i_test])\n",
    "    print(i_pred_proba.shape)\n",
    "    auc = metrics.roc_auc_score(y_train.iloc[i_test], i_pred_proba[:, 1])\n",
    "    aucs.append(auc)\n",
    "    cm += metrics.confusion_matrix(y_train.iloc[i_test],pred)\n",
    "    print(\"AUC score on fold %i: %2.3f\" % (fold, auc))\n",
    "\n",
    "print(\"AUC: %2.3f +- %2.4f\" % (np.mean(aucs), np.std(aucs)))"
   ],
   "metadata": {
    "collapsed": false,
    "pycharm": {
     "name": "#%%\n"
    }
   }
  },
  {
   "cell_type": "markdown",
   "source": [
    "## 3.2.b Area Under the Curve with EasyEnsembleClassifier ##"
   ],
   "metadata": {
    "collapsed": false
   }
  },
  {
   "cell_type": "code",
   "execution_count": 82,
   "outputs": [
    {
     "name": "stdout",
     "output_type": "stream",
     "text": [
      "(11994, 2)\n",
      "AUC score on fold 0: 0.765\n",
      "(11993, 2)\n",
      "AUC score on fold 1: 0.769\n",
      "(11993, 2)\n",
      "AUC score on fold 2: 0.766\n",
      "(11993, 2)\n",
      "AUC score on fold 3: 0.772\n",
      "(11993, 2)\n",
      "AUC score on fold 4: 0.771\n",
      "AUC: 0.763 +- 0.0028\n"
     ]
    }
   ],
   "source": [
    "eec = EasyEnsembleClassifier(n_estimators=30, random_state= 42)\n",
    "\n",
    "skf = StratifiedKFold(5, shuffle=True, random_state=100)\n",
    "cm_eec = np.zeros((2,2))\n",
    "aucs_eec = []\n",
    "\n",
    "for (fold, (i_train, i_test)) in enumerate(skf.split(X_train, y_train)):\n",
    "    eec.fit(X_train.iloc[i_train], y_train.iloc[i_train])\n",
    "    i_pred_proba = eec.predict_proba(X_train.iloc[i_test])\n",
    "    pred = eec.predict(X_train.iloc[i_test])\n",
    "    print(i_pred_proba.shape)\n",
    "    auc = metrics.roc_auc_score(y_train.iloc[i_test], i_pred_proba[:, 1])\n",
    "    aucs_eec.append(auc)\n",
    "    cm_eec += metrics.confusion_matrix(y_train.iloc[i_test],pred)\n",
    "    print(\"AUC score on fold %i: %2.3f\" % (fold, auc))\n",
    "\n",
    "print(\"AUC: %2.3f +- %2.4f\" % (np.mean(aucs), np.std(aucs_eec)))"
   ],
   "metadata": {
    "collapsed": false,
    "pycharm": {
     "name": "#%%\n"
    }
   }
  },
  {
   "cell_type": "markdown",
   "source": [
    "## 3.3.a Confusion Matrix of XGBClassifier Model ##"
   ],
   "metadata": {
    "collapsed": false
   }
  },
  {
   "cell_type": "code",
   "execution_count": 83,
   "outputs": [
    {
     "data": {
      "text/plain": "<Figure size 432x288 with 1 Axes>",
      "image/png": "[encoded data removed]"
     },
     "metadata": {
      "needs_background": "light"
     },
     "output_type": "display_data"
    },
    {
     "name": "stdout",
     "output_type": "stream",
     "text": [
      "Accuracy = 0.853\n",
      "Precision = 0.630\n",
      "Recall = 0.178\n",
      "F1-score = 0.277\n"
     ]
    }
   ],
   "source": [
    "sns.heatmap(cm, square=True, annot=True, cbar=False, fmt='g', cmap='viridis')\n",
    "plt.xlabel('predicted value')\n",
    "plt.ylabel('true value')\n",
    "plt.title('Confusion Matrix')\n",
    "plt.show()\n",
    "\n",
    "TN = cm[0][0]\n",
    "TP = cm[1][1]\n",
    "FN = cm[1][0]\n",
    "FP = cm[0][1]\n",
    "\n",
    "accuracy = (TP+TN)/(TP+TN+FN+FP)\n",
    "precision = TP/(TP+FP)\n",
    "recall = TP/(TP+FN)\n",
    "f1 = 2*((precision*recall)/(precision+recall))\n",
    "\n",
    "print(\"Accuracy = %2.3f\" %(cm.diagonal().sum()/cm.sum()))\n",
    "print(\"Precision = %2.3f\" %precision)\n",
    "print(\"Recall = %2.3f\" %recall)\n",
    "print(\"F1-score = %2.3f\" %f1)"
   ],
   "metadata": {
    "collapsed": false,
    "pycharm": {
     "name": "#%%\n"
    }
   }
  },
  {
   "cell_type": "markdown",
   "source": [
    "## 3.3.b Confusion Matrix of EasyEnsembleClassifier Model"
   ],
   "metadata": {
    "collapsed": false
   }
  },
  {
   "cell_type": "code",
   "execution_count": 84,
   "outputs": [
    {
     "data": {
      "text/plain": "<Figure size 432x288 with 1 Axes>",
      "image/png": "[encoded data removed]"
     },
     "metadata": {
      "needs_background": "light"
     },
     "output_type": "display_data"
    },
    {
     "name": "stdout",
     "output_type": "stream",
     "text": [
      "Accuracy = 0.711\n",
      "Precision = 0.312\n",
      "Recall = 0.681\n",
      "F1-score = 0.428\n"
     ]
    }
   ],
   "source": [
    "sns.heatmap(cm_eec, square=True, annot=True, cbar=False, fmt='g', cmap='Greens')\n",
    "plt.xlabel('predicted value')\n",
    "plt.ylabel('true value')\n",
    "plt.title('Confusion Matrix')\n",
    "plt.show()\n",
    "\n",
    "TN = cm_eec[0][0]\n",
    "TP = cm_eec[1][1]\n",
    "FN = cm_eec[1][0]\n",
    "FP = cm_eec[0][1]\n",
    "\n",
    "accuracy = (TP+TN)/(TP+TN+FN+FP)\n",
    "precision = TP/(TP+FP)\n",
    "recall = TP/(TP+FN)\n",
    "f1 = 2*((precision*recall)/(precision+recall))\n",
    "\n",
    "print(\"Accuracy = %2.3f\" %(cm_eec.diagonal().sum()/cm_eec.sum()))\n",
    "print(\"Precision = %2.3f\" %precision)\n",
    "print(\"Recall = %2.3f\" %recall)\n",
    "print(\"F1-score = %2.3f\" %f1)"
   ],
   "metadata": {
    "collapsed": false,
    "pycharm": {
     "name": "#%%\n"
    }
   }
  },
  {
   "cell_type": "markdown",
   "source": [
    "## 3.5.a Feature Importance of XGBClassifier"
   ],
   "metadata": {
    "collapsed": false
   }
  },
  {
   "cell_type": "code",
   "execution_count": 85,
   "outputs": [
    {
     "data": {
      "text/plain": "<Figure size 864x432 with 1 Axes>",
      "image/png": "[encoded data removed]"
     },
     "metadata": {
      "needs_background": "light"
     },
     "output_type": "display_data"
    }
   ],
   "source": [
    "xgbc.fit(X_train, y_train)\n",
    "importances = xgbc.feature_importances_\n",
    "\n",
    "indices = np.argsort(importances)[::-1]\n",
    "plt.figure(figsize=(12, 6))\n",
    "plt.bar(range(1, indices.size + 1), importances[indices], align=\"center\")\n",
    "plt.xticks(range(1, indices.size + 1),\n",
    "           df_train.columns[indices],\n",
    "           rotation=90)\n",
    "plt.title(\"Feature Importance\")\n",
    "plt.show()"
   ],
   "metadata": {
    "collapsed": false,
    "pycharm": {
     "name": "#%%\n"
    }
   }
  },
  {
   "cell_type": "markdown",
   "source": [
    "# 4. Make predictions from the test datasets."
   ],
   "metadata": {
    "collapsed": false
   }
  },
  {
   "cell_type": "markdown",
   "source": [
    "## 4.1 Predictions from XGBClassifier"
   ],
   "metadata": {
    "collapsed": false
   }
  },
  {
   "cell_type": "code",
   "execution_count": 86,
   "outputs": [
    {
     "data": {
      "text/plain": "                                      predictions\nids                                              \ne4366223-7aa2-0904-7a47-66479ae46b2a     0.091200\nc6416108-c6d7-e6be-c4b5-923dd36c8ec4     0.230760\na90d3929-86ec-2414-89ba-543776b0e82b     0.210935\nc5b96a7f-389a-28d0-242d-95db05e69da0     0.376311\n1b461faa-926d-565d-b15d-0b452968ac81     0.279808\n...                                           ...\ncfe269ae-b893-c084-f9f5-3b91f9725b71     0.091009\n2feff27a-3dcf-1e19-7583-a8eab192fd23     0.076315\n601509fd-20d9-d3b8-b143-defcf5457d2c     0.113993\nb0168e1c-ddbd-1b2c-acfb-f09638e1ee34     0.061311\n508276ff-56cb-243c-da1d-4929c1411344     0.121594\n\n[35000 rows x 1 columns]",
      "text/html": "<div>\n<style scoped>\n    .dataframe tbody tr th:only-of-type {\n        vertical-align: middle;\n    }\n\n    .dataframe tbody tr th {\n        vertical-align: top;\n    }\n\n    .dataframe thead th {\n        text-align: right;\n    }\n</style>\n<table border=\"1\" class=\"dataframe\">\n  <thead>\n    <tr style=\"text-align: right;\">\n      <th></th>\n      <th>predictions</th>\n    </tr>\n    <tr>\n      <th>ids</th>\n      <th></th>\n    </tr>\n  </thead>\n  <tbody>\n    <tr>\n      <th>e4366223-7aa2-0904-7a47-66479ae46b2a</th>\n      <td>0.091200</td>\n    </tr>\n    <tr>\n      <th>c6416108-c6d7-e6be-c4b5-923dd36c8ec4</th>\n      <td>0.230760</td>\n    </tr>\n    <tr>\n      <th>a90d3929-86ec-2414-89ba-543776b0e82b</th>\n      <td>0.210935</td>\n    </tr>\n    <tr>\n      <th>c5b96a7f-389a-28d0-242d-95db05e69da0</th>\n      <td>0.376311</td>\n    </tr>\n    <tr>\n      <th>1b461faa-926d-565d-b15d-0b452968ac81</th>\n      <td>0.279808</td>\n    </tr>\n    <tr>\n      <th>...</th>\n      <td>...</td>\n    </tr>\n    <tr>\n      <th>cfe269ae-b893-c084-f9f5-3b91f9725b71</th>\n      <td>0.091009</td>\n    </tr>\n    <tr>\n      <th>2feff27a-3dcf-1e19-7583-a8eab192fd23</th>\n      <td>0.076315</td>\n    </tr>\n    <tr>\n      <th>601509fd-20d9-d3b8-b143-defcf5457d2c</th>\n      <td>0.113993</td>\n    </tr>\n    <tr>\n      <th>b0168e1c-ddbd-1b2c-acfb-f09638e1ee34</th>\n      <td>0.061311</td>\n    </tr>\n    <tr>\n      <th>508276ff-56cb-243c-da1d-4929c1411344</th>\n      <td>0.121594</td>\n    </tr>\n  </tbody>\n</table>\n<p>35000 rows × 1 columns</p>\n</div>"
     },
     "execution_count": 86,
     "metadata": {},
     "output_type": "execute_result"
    }
   ],
   "source": [
    "my_predictions = pd.DataFrame(xgbc.predict_proba(X_test)[:, 1], columns=[\"predictions\"], index=X_test.index)\n",
    "my_predictions.to_csv(\"clf_predictions.csv\")\n",
    "my_predictions"
   ],
   "metadata": {
    "collapsed": false,
    "pycharm": {
     "name": "#%%\n"
    }
   }
  },
  {
   "cell_type": "markdown",
   "source": [
    "## 4.2 Predictions from EasyEnsembleClassifier"
   ],
   "metadata": {
    "collapsed": false
   }
  },
  {
   "cell_type": "code",
   "source": [
    "my_predictions = pd.DataFrame(eec.predict_proba(X_test)[:, 1], columns=[\"predictions\"], index=X_test.index)\n",
    "my_predictions.to_csv(\"eec_predictions.csv\")\n",
    "my_predictions"
   ],
   "metadata": {
    "collapsed": false,
    "pycharm": {
     "name": "#%%\n"
    }
   },
   "execution_count": 87,
   "outputs": [
    {
     "data": {
      "text/plain": "                                      predictions\nids                                              \ne4366223-7aa2-0904-7a47-66479ae46b2a     0.496755\nc6416108-c6d7-e6be-c4b5-923dd36c8ec4     0.509769\na90d3929-86ec-2414-89ba-543776b0e82b     0.501727\nc5b96a7f-389a-28d0-242d-95db05e69da0     0.507695\n1b461faa-926d-565d-b15d-0b452968ac81     0.503551\n...                                           ...\ncfe269ae-b893-c084-f9f5-3b91f9725b71     0.498122\n2feff27a-3dcf-1e19-7583-a8eab192fd23     0.493450\n601509fd-20d9-d3b8-b143-defcf5457d2c     0.499357\nb0168e1c-ddbd-1b2c-acfb-f09638e1ee34     0.494255\n508276ff-56cb-243c-da1d-4929c1411344     0.498374\n\n[35000 rows x 1 columns]",
      "text/html": "<div>\n<style scoped>\n    .dataframe tbody tr th:only-of-type {\n        vertical-align: middle;\n    }\n\n    .dataframe tbody tr th {\n        vertical-align: top;\n    }\n\n    .dataframe thead th {\n        text-align: right;\n    }\n</style>\n<table border=\"1\" class=\"dataframe\">\n  <thead>\n    <tr style=\"text-align: right;\">\n      <th></th>\n      <th>predictions</th>\n    </tr>\n    <tr>\n      <th>ids</th>\n      <th></th>\n    </tr>\n  </thead>\n  <tbody>\n    <tr>\n      <th>e4366223-7aa2-0904-7a47-66479ae46b2a</th>\n      <td>0.496755</td>\n    </tr>\n    <tr>\n      <th>c6416108-c6d7-e6be-c4b5-923dd36c8ec4</th>\n      <td>0.509769</td>\n    </tr>\n    <tr>\n      <th>a90d3929-86ec-2414-89ba-543776b0e82b</th>\n      <td>0.501727</td>\n    </tr>\n    <tr>\n      <th>c5b96a7f-389a-28d0-242d-95db05e69da0</th>\n      <td>0.507695</td>\n    </tr>\n    <tr>\n      <th>1b461faa-926d-565d-b15d-0b452968ac81</th>\n      <td>0.503551</td>\n    </tr>\n    <tr>\n      <th>...</th>\n      <td>...</td>\n    </tr>\n    <tr>\n      <th>cfe269ae-b893-c084-f9f5-3b91f9725b71</th>\n      <td>0.498122</td>\n    </tr>\n    <tr>\n      <th>2feff27a-3dcf-1e19-7583-a8eab192fd23</th>\n      <td>0.493450</td>\n    </tr>\n    <tr>\n      <th>601509fd-20d9-d3b8-b143-defcf5457d2c</th>\n      <td>0.499357</td>\n    </tr>\n    <tr>\n      <th>b0168e1c-ddbd-1b2c-acfb-f09638e1ee34</th>\n      <td>0.494255</td>\n    </tr>\n    <tr>\n      <th>508276ff-56cb-243c-da1d-4929c1411344</th>\n      <td>0.498374</td>\n    </tr>\n  </tbody>\n</table>\n<p>35000 rows × 1 columns</p>\n</div>"
     },
     "execution_count": 87,
     "metadata": {},
     "output_type": "execute_result"
    }
   ]
  },
  {
   "cell_type": "markdown",
   "source": [
    "## Conclusions."
   ],
   "metadata": {
    "collapsed": false,
    "pycharm": {
     "name": "#%% md\n"
    }
   }
  },
  {
   "cell_type": "markdown",
   "source": [
    "Looking at the confusion matrix and the metrics , the following points are worthy of note:\n",
    "* XGBClassifier has a higher accuracy of 85.4 %\n",
    "* XGBClassifier has a recall score of 17.8 %\n",
    "\n",
    "\n",
    "* EasyEnsembleClassifier has an accuracy of 71.1 %\n",
    "* EasyEnsembleClassifier has a recall score of 68.1 %\n",
    "\n",
    "Although XGBClassifier has higher accuracy,  EasyEnsembleClassifier has Recall score and also performed better in the prediction. Therefore, EasyEnsembleClassifier is better suited for this type of scenario where training dataset is imbalanced.\n",
    "This would prevent lending to a customer that is not able to repay their loans."
   ],
   "metadata": {
    "collapsed": false,
    "pycharm": {
     "name": "#%% md\n"
    }
   }
  }
 ],
 "metadata": {
  "kernelspec": {
   "display_name": "Python 3",
   "language": "python",
   "name": "python3"
  },
  "language_info": {
   "codemirror_mode": {
    "name": "ipython",
    "version": 3
   },
   "file_extension": ".py",
   "mimetype": "text/x-python",
   "name": "python",
   "nbconvert_exporter": "python",
   "pygments_lexer": "ipython3",
   "version": "3.8.8"
  }
 },
 "nbformat": 4,
 "nbformat_minor": 5
}