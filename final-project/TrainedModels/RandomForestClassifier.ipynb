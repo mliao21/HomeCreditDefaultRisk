{
 "cells": [
  {
   "cell_type": "code",
   "execution_count": 1,
   "id": "a5f8d5e9-04de-4c43-9b4e-eaaacf559d15",
   "metadata": {},
   "outputs": [
    {
     "name": "stdout",
     "output_type": "stream",
     "text": [
      "Requirement already satisfied: imblearn in c:\\users\\malih\\anaconda3\\envs\\tensorflow\\lib\\site-packages (0.0)\n",
      "Requirement already satisfied: imbalanced-learn in c:\\users\\malih\\anaconda3\\envs\\tensorflow\\lib\\site-packages (from imblearn) (0.8.1)\n",
      "Requirement already satisfied: numpy>=1.13.3 in c:\\users\\malih\\anaconda3\\envs\\tensorflow\\lib\\site-packages (from imbalanced-learn->imblearn) (1.19.5)\n",
      "Requirement already satisfied: joblib>=0.11 in c:\\users\\malih\\anaconda3\\envs\\tensorflow\\lib\\site-packages (from imbalanced-learn->imblearn) (1.1.0)\n",
      "Requirement already satisfied: scikit-learn>=0.24 in c:\\users\\malih\\anaconda3\\envs\\tensorflow\\lib\\site-packages (from imbalanced-learn->imblearn) (0.24.2)\n",
      "Requirement already satisfied: scipy>=0.19.1 in c:\\users\\malih\\anaconda3\\envs\\tensorflow\\lib\\site-packages (from imbalanced-learn->imblearn) (1.5.4)\n",
      "Requirement already satisfied: threadpoolctl>=2.0.0 in c:\\users\\malih\\anaconda3\\envs\\tensorflow\\lib\\site-packages (from scikit-learn>=0.24->imbalanced-learn->imblearn) (3.1.0)\n"
     ]
    }
   ],
   "source": [
    "!pip install imblearn"
   ]
  },
  {
   "cell_type": "code",
   "execution_count": 2,
   "id": "1362f5ad-c84b-4698-937d-0fd41192b30e",
   "metadata": {},
   "outputs": [],
   "source": [
    "%matplotlib inline\n",
    "import numpy as np \n",
    "import pandas as pd \n",
    "\n",
    "# Traditional ML library\n",
    "import sklearn \n",
    "import sklearn.metrics as metrics\n",
    "from sklearn.ensemble import RandomForestClassifier\n",
    "from sklearn.model_selection import StratifiedKFold\n",
    "from sklearn.impute import SimpleImputer\n",
    "from sklearn.pipeline import make_pipeline\n",
    "\n",
    "import matplotlib.pylab as plt "
   ]
  },
  {
   "cell_type": "markdown",
   "id": "13f13737-d1f6-4c07-a638-d9c2f80667f2",
   "metadata": {},
   "source": [
    "## Initial Data Analysis"
   ]
  },
  {
   "cell_type": "code",
   "execution_count": 3,
   "id": "3834ab61-8a26-4e7e-a724-75130d36f3e2",
   "metadata": {},
   "outputs": [
    {
     "name": "stdout",
     "output_type": "stream",
     "text": [
      "Nb. of train samples: 64592\n",
      "Number of test samples:  35000\n",
      "Nb. features: 18\n",
      "Nb. of train samples after removing samples with no label: 59966\n",
      "Classes ratio (False/True): 5.305573\n",
      "\n",
      " Dataset Information (missing features, data type, unique values)\n",
      "                    Missing     Type  Unique\n",
      "default                   0    int32       2\n",
      "score_1                   0   object       7\n",
      "score_2                   0   object      35\n",
      "score_3                   0  float64      87\n",
      "score_4                   0  float64   59966\n",
      "score_5                   0  float64   59966\n",
      "score_6                   0  float64   59966\n",
      "risk_rate                 0  float64      81\n",
      "amount_borrowed           0  float64   50484\n",
      "borrowed_in_months        0  float64       2\n",
      "credit_limit          18779  float64   26238\n",
      "income                    0  float64   54273\n",
      "sign                  18938   object      12\n",
      "facebook_profile       5971   object       2\n",
      "state                     0   object      50\n",
      "real_state                0   object       5\n",
      "n_bankruptcies          202  float64       7\n",
      "n_defaulted_loans        18  float64       5\n",
      "n_accounts                0  float64      45\n"
     ]
    }
   ],
   "source": [
    "# Features/columns to be removed for several reasons: ethical irrelevant feature, etc\n",
    "to_remove = [\"job_name\", \"reason\",\"channel\",\"n_issues\",\"ok_since\",\"zip\",\"gender\"] \n",
    "\n",
    "# Read train and test data and drop columns\n",
    "df_train = pd.read_csv(\"puzzle_train_dataset.csv\").set_index(\"ids\").drop(to_remove, axis=1)\n",
    "df_test = pd.read_csv(\"puzzle_test_dataset.csv\").set_index(\"ids\").drop(to_remove, axis=1)\n",
    "\n",
    "print(\"Nb. of train samples: %d\" %df_train.shape[0])\n",
    "print(\"Number of test samples:  %d\" %df_test.shape[0])\n",
    "print(\"Nb. features: %d\" %(df_train.shape[1]-1))\n",
    "\n",
    "# Remove samples with missing labels\n",
    "df_train = df_train[pd.notnull(df_train['default'])]\n",
    "df_train[\"default\"] = df_train[\"default\"].astype(\"int\")\n",
    "\n",
    "print(\"Nb. of train samples after removing samples with no label: %d\" %df_train.shape[0])\n",
    "print(\"Classes ratio (False/True): %f\" %((df_train[\"default\"] == 0).sum()/(df_train[\"default\"] == 1).sum()))\n",
    "\n",
    "\n",
    "# Dataset information\n",
    "feats_info = pd.concat([df_train.isnull().sum(), df_train.dtypes, df_train.T.apply(lambda x: x.nunique(), axis=1)], axis=1)\n",
    "feats_info.columns = [\"Missing\",\"Type\",\"Unique\"]\n",
    "print(\"\\n Dataset Information (missing features, data type, unique values)\")\n",
    "print(feats_info)"
   ]
  },
  {
   "cell_type": "markdown",
   "id": "d27100cf-6e66-42bb-af93-8a210b5065c5",
   "metadata": {},
   "source": [
    "## Categorical Data Encoding"
   ]
  },
  {
   "cell_type": "code",
   "execution_count": 4,
   "id": "0e17a6fb-09a9-4553-9082-c4ef4dcdb8fa",
   "metadata": {},
   "outputs": [],
   "source": [
    "def get_encoder(df, col):\n",
    "    dft = df[col].astype(str).to_frame().copy()\n",
    "    dft[\"count\"] = 1\n",
    "    return dft.groupby(col).count().to_dict()[\"count\"]\n",
    "    \n",
    "def encode_all(df_train, df_test, cols):\n",
    "    for col in cols:\n",
    "        enc = get_encoder(df_train, col)\n",
    "        df_train[col] = df_train[col].astype(str).apply(lambda x: enc.get(x, -1))\n",
    "        df_test[col] = df_test[col].astype(str).apply(lambda x: enc.get(x, -1))\n",
    "    return df_train, df_test\n",
    "\n",
    "\n",
    "# Create additional binary features flag for missing values for all features that have missing values\n",
    "for col in df_test.columns:\n",
    "    df_train[\"is_\" + col + \"_missing\"] = df_train[col].isnull() * 1\n",
    "    df_test[\"is_\" + col + \"_missing\"] = df_test[col].isnull() * 1\n",
    "\n",
    "# Represent categorical feature as a series o binary values and drop first column to avoid redundancy\n",
    "df_train = pd.get_dummies(df_train, columns=['score_1','score_2','real_state'], drop_first=True)\n",
    "df_test = pd.get_dummies(df_test, columns=['score_1','score_2','real_state'], drop_first=True)\n",
    "\n",
    "encode_cols = df_train.dtypes\n",
    "encode_cols = encode_cols[encode_cols == object].index.tolist()\n",
    "\n",
    "\n",
    "# Encode categorical variables and replace NaN by -1\n",
    "df_train, df_test = encode_all(df_train, df_test, encode_cols)\n",
    "df_train, df_test = df_train.fillna(-1), df_test.fillna(-1)\n"
   ]
  },
  {
   "cell_type": "markdown",
   "id": "ded8a556-c541-402a-ba18-abe6afc33513",
   "metadata": {},
   "source": [
    "## Feature and Label Extraction"
   ]
  },
  {
   "cell_type": "code",
   "execution_count": 5,
   "id": "9d8c02bb-594b-4fd9-afce-157062965f0c",
   "metadata": {},
   "outputs": [
    {
     "data": {
      "text/plain": [
       "(59966,)"
      ]
     },
     "execution_count": 5,
     "metadata": {},
     "output_type": "execute_result"
    }
   ],
   "source": [
    "# Split features and labels\n",
    "X_train, y_train = df_train.drop([\"default\"], axis=1), df_train[\"default\"]\n",
    "X_test = df_test\n",
    "y_train.shape"
   ]
  },
  {
   "cell_type": "markdown",
   "id": "ca451e75-52d7-4472-993b-8007043515d4",
   "metadata": {},
   "source": [
    "## Label Distribution"
   ]
  },
  {
   "cell_type": "code",
   "execution_count": 6,
   "id": "40a11732-9128-4568-bb5f-cd1cba55a57f",
   "metadata": {},
   "outputs": [
    {
     "data": {
      "text/plain": [
       "Text(0.5, 1.0, 'Histogram of Default Labels\\n')"
      ]
     },
     "execution_count": 6,
     "metadata": {},
     "output_type": "execute_result"
    },
    {
     "data": {
      "image/png": "[encoded data removed]",
      "text/plain": [
       "<Figure size 432x288 with 1 Axes>"
      ]
     },
     "metadata": {
      "needs_background": "light"
     },
     "output_type": "display_data"
    }
   ],
   "source": [
    "plt.hist(y_train, color='pink')\n",
    "plt.ylabel(\"Count\")\n",
    "plt.xlabel(\"Label\")\n",
    "plt.title(\"Histogram of Default Labels\\n\")"
   ]
  },
  {
   "cell_type": "markdown",
   "id": "8b0671c2-eca9-4dd8-8ba1-86a5a9e1d7bf",
   "metadata": {},
   "source": [
    "## Train Set"
   ]
  },
  {
   "cell_type": "code",
   "execution_count": 7,
   "id": "98142c44-8453-4ef1-a675-4fc67bea06ca",
   "metadata": {},
   "outputs": [
    {
     "data": {
      "text/html": [
       "<div>\n",
       "<style scoped>\n",
       "    .dataframe tbody tr th:only-of-type {\n",
       "        vertical-align: middle;\n",
       "    }\n",
       "\n",
       "    .dataframe tbody tr th {\n",
       "        vertical-align: top;\n",
       "    }\n",
       "\n",
       "    .dataframe thead th {\n",
       "        text-align: right;\n",
       "    }\n",
       "</style>\n",
       "<table border=\"1\" class=\"dataframe\">\n",
       "  <thead>\n",
       "    <tr style=\"text-align: right;\">\n",
       "      <th></th>\n",
       "      <th>score_3</th>\n",
       "      <th>score_4</th>\n",
       "      <th>score_5</th>\n",
       "      <th>score_6</th>\n",
       "      <th>risk_rate</th>\n",
       "      <th>amount_borrowed</th>\n",
       "      <th>borrowed_in_months</th>\n",
       "      <th>credit_limit</th>\n",
       "      <th>income</th>\n",
       "      <th>sign</th>\n",
       "      <th>...</th>\n",
       "      <th>score_2_tHpS8e9F8d9zg3iOQM9tsA==</th>\n",
       "      <th>score_2_tQUTfUyeuGkhRotd+6WjVg==</th>\n",
       "      <th>score_2_vJyc9xom9v7hwFMPTIpmKw==</th>\n",
       "      <th>score_2_w1miZqhB5+RSamEQJa0rqg==</th>\n",
       "      <th>score_2_wjdj2vxjWoDsEIk0l09ynw==</th>\n",
       "      <th>score_2_wkeCdGeu5sEv4/fjwR0aDg==</th>\n",
       "      <th>real_state_N5/CE7lSkAfB04hVFFwllw==</th>\n",
       "      <th>real_state_UX7AdFYgQh+VrVC5eIaU9w==</th>\n",
       "      <th>real_state_n+xK9CfX0bCn77lClTWviw==</th>\n",
       "      <th>real_state_nSpvDsIsslUaX6GE6m6eQA==</th>\n",
       "    </tr>\n",
       "    <tr>\n",
       "      <th>ids</th>\n",
       "      <th></th>\n",
       "      <th></th>\n",
       "      <th></th>\n",
       "      <th></th>\n",
       "      <th></th>\n",
       "      <th></th>\n",
       "      <th></th>\n",
       "      <th></th>\n",
       "      <th></th>\n",
       "      <th></th>\n",
       "      <th></th>\n",
       "      <th></th>\n",
       "      <th></th>\n",
       "      <th></th>\n",
       "      <th></th>\n",
       "      <th></th>\n",
       "      <th></th>\n",
       "      <th></th>\n",
       "      <th></th>\n",
       "      <th></th>\n",
       "      <th></th>\n",
       "    </tr>\n",
       "  </thead>\n",
       "  <tbody>\n",
       "    <tr>\n",
       "      <th>810e3277-619e-3154-7ba0-ebddfc5f7ea9</th>\n",
       "      <td>710.0</td>\n",
       "      <td>104.174961</td>\n",
       "      <td>0.661509</td>\n",
       "      <td>123.015325</td>\n",
       "      <td>0.43</td>\n",
       "      <td>20024.31</td>\n",
       "      <td>60.0</td>\n",
       "      <td>62386.0</td>\n",
       "      <td>59869.05</td>\n",
       "      <td>5571</td>\n",
       "      <td>...</td>\n",
       "      <td>1</td>\n",
       "      <td>0</td>\n",
       "      <td>0</td>\n",
       "      <td>0</td>\n",
       "      <td>0</td>\n",
       "      <td>0</td>\n",
       "      <td>0</td>\n",
       "      <td>0</td>\n",
       "      <td>1</td>\n",
       "      <td>0</td>\n",
       "    </tr>\n",
       "    <tr>\n",
       "      <th>b4118fd5-77d5-4d80-3617-bacd7aaf1a88</th>\n",
       "      <td>330.0</td>\n",
       "      <td>97.880798</td>\n",
       "      <td>0.531115</td>\n",
       "      <td>110.913484</td>\n",
       "      <td>0.23</td>\n",
       "      <td>10046.51</td>\n",
       "      <td>36.0</td>\n",
       "      <td>-1.0</td>\n",
       "      <td>46016.31</td>\n",
       "      <td>1402</td>\n",
       "      <td>...</td>\n",
       "      <td>0</td>\n",
       "      <td>0</td>\n",
       "      <td>0</td>\n",
       "      <td>0</td>\n",
       "      <td>0</td>\n",
       "      <td>0</td>\n",
       "      <td>0</td>\n",
       "      <td>0</td>\n",
       "      <td>1</td>\n",
       "      <td>0</td>\n",
       "    </tr>\n",
       "    <tr>\n",
       "      <th>a75638f1-4662-4f4f-044a-d649b676d85d</th>\n",
       "      <td>360.0</td>\n",
       "      <td>97.908925</td>\n",
       "      <td>0.611086</td>\n",
       "      <td>104.620791</td>\n",
       "      <td>0.30</td>\n",
       "      <td>21228.25</td>\n",
       "      <td>60.0</td>\n",
       "      <td>-1.0</td>\n",
       "      <td>48025.47</td>\n",
       "      <td>5582</td>\n",
       "      <td>...</td>\n",
       "      <td>0</td>\n",
       "      <td>0</td>\n",
       "      <td>0</td>\n",
       "      <td>0</td>\n",
       "      <td>0</td>\n",
       "      <td>1</td>\n",
       "      <td>1</td>\n",
       "      <td>0</td>\n",
       "      <td>0</td>\n",
       "      <td>0</td>\n",
       "    </tr>\n",
       "    <tr>\n",
       "      <th>285ce334-3602-42b3-51cb-eebfcba48a09</th>\n",
       "      <td>120.0</td>\n",
       "      <td>100.434557</td>\n",
       "      <td>0.139784</td>\n",
       "      <td>120.134718</td>\n",
       "      <td>0.15</td>\n",
       "      <td>23032.33</td>\n",
       "      <td>36.0</td>\n",
       "      <td>-1.0</td>\n",
       "      <td>46011.12</td>\n",
       "      <td>18938</td>\n",
       "      <td>...</td>\n",
       "      <td>0</td>\n",
       "      <td>1</td>\n",
       "      <td>0</td>\n",
       "      <td>0</td>\n",
       "      <td>0</td>\n",
       "      <td>0</td>\n",
       "      <td>1</td>\n",
       "      <td>0</td>\n",
       "      <td>0</td>\n",
       "      <td>0</td>\n",
       "    </tr>\n",
       "    <tr>\n",
       "      <th>e643bf65-9288-92f2-df13-eed631fe237c</th>\n",
       "      <td>330.0</td>\n",
       "      <td>103.774638</td>\n",
       "      <td>0.002856</td>\n",
       "      <td>104.320462</td>\n",
       "      <td>0.08</td>\n",
       "      <td>24026.29</td>\n",
       "      <td>36.0</td>\n",
       "      <td>32366.0</td>\n",
       "      <td>90026.17</td>\n",
       "      <td>5582</td>\n",
       "      <td>...</td>\n",
       "      <td>0</td>\n",
       "      <td>0</td>\n",
       "      <td>0</td>\n",
       "      <td>0</td>\n",
       "      <td>0</td>\n",
       "      <td>0</td>\n",
       "      <td>1</td>\n",
       "      <td>0</td>\n",
       "      <td>0</td>\n",
       "      <td>0</td>\n",
       "    </tr>\n",
       "  </tbody>\n",
       "</table>\n",
       "<p>5 rows × 77 columns</p>\n",
       "</div>"
      ],
      "text/plain": [
       "                                      score_3     score_4   score_5  \\\n",
       "ids                                                                   \n",
       "810e3277-619e-3154-7ba0-ebddfc5f7ea9    710.0  104.174961  0.661509   \n",
       "b4118fd5-77d5-4d80-3617-bacd7aaf1a88    330.0   97.880798  0.531115   \n",
       "a75638f1-4662-4f4f-044a-d649b676d85d    360.0   97.908925  0.611086   \n",
       "285ce334-3602-42b3-51cb-eebfcba48a09    120.0  100.434557  0.139784   \n",
       "e643bf65-9288-92f2-df13-eed631fe237c    330.0  103.774638  0.002856   \n",
       "\n",
       "                                         score_6  risk_rate  amount_borrowed  \\\n",
       "ids                                                                            \n",
       "810e3277-619e-3154-7ba0-ebddfc5f7ea9  123.015325       0.43         20024.31   \n",
       "b4118fd5-77d5-4d80-3617-bacd7aaf1a88  110.913484       0.23         10046.51   \n",
       "a75638f1-4662-4f4f-044a-d649b676d85d  104.620791       0.30         21228.25   \n",
       "285ce334-3602-42b3-51cb-eebfcba48a09  120.134718       0.15         23032.33   \n",
       "e643bf65-9288-92f2-df13-eed631fe237c  104.320462       0.08         24026.29   \n",
       "\n",
       "                                      borrowed_in_months  credit_limit  \\\n",
       "ids                                                                      \n",
       "810e3277-619e-3154-7ba0-ebddfc5f7ea9                60.0       62386.0   \n",
       "b4118fd5-77d5-4d80-3617-bacd7aaf1a88                36.0          -1.0   \n",
       "a75638f1-4662-4f4f-044a-d649b676d85d                60.0          -1.0   \n",
       "285ce334-3602-42b3-51cb-eebfcba48a09                36.0          -1.0   \n",
       "e643bf65-9288-92f2-df13-eed631fe237c                36.0       32366.0   \n",
       "\n",
       "                                        income   sign  ...  \\\n",
       "ids                                                    ...   \n",
       "810e3277-619e-3154-7ba0-ebddfc5f7ea9  59869.05   5571  ...   \n",
       "b4118fd5-77d5-4d80-3617-bacd7aaf1a88  46016.31   1402  ...   \n",
       "a75638f1-4662-4f4f-044a-d649b676d85d  48025.47   5582  ...   \n",
       "285ce334-3602-42b3-51cb-eebfcba48a09  46011.12  18938  ...   \n",
       "e643bf65-9288-92f2-df13-eed631fe237c  90026.17   5582  ...   \n",
       "\n",
       "                                      score_2_tHpS8e9F8d9zg3iOQM9tsA==  \\\n",
       "ids                                                                      \n",
       "810e3277-619e-3154-7ba0-ebddfc5f7ea9                                 1   \n",
       "b4118fd5-77d5-4d80-3617-bacd7aaf1a88                                 0   \n",
       "a75638f1-4662-4f4f-044a-d649b676d85d                                 0   \n",
       "285ce334-3602-42b3-51cb-eebfcba48a09                                 0   \n",
       "e643bf65-9288-92f2-df13-eed631fe237c                                 0   \n",
       "\n",
       "                                      score_2_tQUTfUyeuGkhRotd+6WjVg==  \\\n",
       "ids                                                                      \n",
       "810e3277-619e-3154-7ba0-ebddfc5f7ea9                                 0   \n",
       "b4118fd5-77d5-4d80-3617-bacd7aaf1a88                                 0   \n",
       "a75638f1-4662-4f4f-044a-d649b676d85d                                 0   \n",
       "285ce334-3602-42b3-51cb-eebfcba48a09                                 1   \n",
       "e643bf65-9288-92f2-df13-eed631fe237c                                 0   \n",
       "\n",
       "                                      score_2_vJyc9xom9v7hwFMPTIpmKw==  \\\n",
       "ids                                                                      \n",
       "810e3277-619e-3154-7ba0-ebddfc5f7ea9                                 0   \n",
       "b4118fd5-77d5-4d80-3617-bacd7aaf1a88                                 0   \n",
       "a75638f1-4662-4f4f-044a-d649b676d85d                                 0   \n",
       "285ce334-3602-42b3-51cb-eebfcba48a09                                 0   \n",
       "e643bf65-9288-92f2-df13-eed631fe237c                                 0   \n",
       "\n",
       "                                      score_2_w1miZqhB5+RSamEQJa0rqg==  \\\n",
       "ids                                                                      \n",
       "810e3277-619e-3154-7ba0-ebddfc5f7ea9                                 0   \n",
       "b4118fd5-77d5-4d80-3617-bacd7aaf1a88                                 0   \n",
       "a75638f1-4662-4f4f-044a-d649b676d85d                                 0   \n",
       "285ce334-3602-42b3-51cb-eebfcba48a09                                 0   \n",
       "e643bf65-9288-92f2-df13-eed631fe237c                                 0   \n",
       "\n",
       "                                      score_2_wjdj2vxjWoDsEIk0l09ynw==  \\\n",
       "ids                                                                      \n",
       "810e3277-619e-3154-7ba0-ebddfc5f7ea9                                 0   \n",
       "b4118fd5-77d5-4d80-3617-bacd7aaf1a88                                 0   \n",
       "a75638f1-4662-4f4f-044a-d649b676d85d                                 0   \n",
       "285ce334-3602-42b3-51cb-eebfcba48a09                                 0   \n",
       "e643bf65-9288-92f2-df13-eed631fe237c                                 0   \n",
       "\n",
       "                                      score_2_wkeCdGeu5sEv4/fjwR0aDg==  \\\n",
       "ids                                                                      \n",
       "810e3277-619e-3154-7ba0-ebddfc5f7ea9                                 0   \n",
       "b4118fd5-77d5-4d80-3617-bacd7aaf1a88                                 0   \n",
       "a75638f1-4662-4f4f-044a-d649b676d85d                                 1   \n",
       "285ce334-3602-42b3-51cb-eebfcba48a09                                 0   \n",
       "e643bf65-9288-92f2-df13-eed631fe237c                                 0   \n",
       "\n",
       "                                      real_state_N5/CE7lSkAfB04hVFFwllw==  \\\n",
       "ids                                                                         \n",
       "810e3277-619e-3154-7ba0-ebddfc5f7ea9                                    0   \n",
       "b4118fd5-77d5-4d80-3617-bacd7aaf1a88                                    0   \n",
       "a75638f1-4662-4f4f-044a-d649b676d85d                                    1   \n",
       "285ce334-3602-42b3-51cb-eebfcba48a09                                    1   \n",
       "e643bf65-9288-92f2-df13-eed631fe237c                                    1   \n",
       "\n",
       "                                      real_state_UX7AdFYgQh+VrVC5eIaU9w==  \\\n",
       "ids                                                                         \n",
       "810e3277-619e-3154-7ba0-ebddfc5f7ea9                                    0   \n",
       "b4118fd5-77d5-4d80-3617-bacd7aaf1a88                                    0   \n",
       "a75638f1-4662-4f4f-044a-d649b676d85d                                    0   \n",
       "285ce334-3602-42b3-51cb-eebfcba48a09                                    0   \n",
       "e643bf65-9288-92f2-df13-eed631fe237c                                    0   \n",
       "\n",
       "                                      real_state_n+xK9CfX0bCn77lClTWviw==  \\\n",
       "ids                                                                         \n",
       "810e3277-619e-3154-7ba0-ebddfc5f7ea9                                    1   \n",
       "b4118fd5-77d5-4d80-3617-bacd7aaf1a88                                    1   \n",
       "a75638f1-4662-4f4f-044a-d649b676d85d                                    0   \n",
       "285ce334-3602-42b3-51cb-eebfcba48a09                                    0   \n",
       "e643bf65-9288-92f2-df13-eed631fe237c                                    0   \n",
       "\n",
       "                                      real_state_nSpvDsIsslUaX6GE6m6eQA==  \n",
       "ids                                                                        \n",
       "810e3277-619e-3154-7ba0-ebddfc5f7ea9                                    0  \n",
       "b4118fd5-77d5-4d80-3617-bacd7aaf1a88                                    0  \n",
       "a75638f1-4662-4f4f-044a-d649b676d85d                                    0  \n",
       "285ce334-3602-42b3-51cb-eebfcba48a09                                    0  \n",
       "e643bf65-9288-92f2-df13-eed631fe237c                                    0  \n",
       "\n",
       "[5 rows x 77 columns]"
      ]
     },
     "execution_count": 7,
     "metadata": {},
     "output_type": "execute_result"
    }
   ],
   "source": [
    "# Print first rows of the training set\n",
    "X_train.head()"
   ]
  },
  {
   "cell_type": "markdown",
   "id": "fbdd54c3-2421-4b39-be6c-7de62c7cbff3",
   "metadata": {},
   "source": [
    "## Test Set"
   ]
  },
  {
   "cell_type": "code",
   "execution_count": 8,
   "id": "19d88071-840b-4ecf-8982-94232fe8c626",
   "metadata": {},
   "outputs": [
    {
     "data": {
      "text/html": [
       "<div>\n",
       "<style scoped>\n",
       "    .dataframe tbody tr th:only-of-type {\n",
       "        vertical-align: middle;\n",
       "    }\n",
       "\n",
       "    .dataframe tbody tr th {\n",
       "        vertical-align: top;\n",
       "    }\n",
       "\n",
       "    .dataframe thead th {\n",
       "        text-align: right;\n",
       "    }\n",
       "</style>\n",
       "<table border=\"1\" class=\"dataframe\">\n",
       "  <thead>\n",
       "    <tr style=\"text-align: right;\">\n",
       "      <th></th>\n",
       "      <th>score_3</th>\n",
       "      <th>score_4</th>\n",
       "      <th>score_5</th>\n",
       "      <th>score_6</th>\n",
       "      <th>risk_rate</th>\n",
       "      <th>amount_borrowed</th>\n",
       "      <th>borrowed_in_months</th>\n",
       "      <th>credit_limit</th>\n",
       "      <th>income</th>\n",
       "      <th>sign</th>\n",
       "      <th>...</th>\n",
       "      <th>score_2_tHpS8e9F8d9zg3iOQM9tsA==</th>\n",
       "      <th>score_2_tQUTfUyeuGkhRotd+6WjVg==</th>\n",
       "      <th>score_2_vJyc9xom9v7hwFMPTIpmKw==</th>\n",
       "      <th>score_2_w1miZqhB5+RSamEQJa0rqg==</th>\n",
       "      <th>score_2_wjdj2vxjWoDsEIk0l09ynw==</th>\n",
       "      <th>score_2_wkeCdGeu5sEv4/fjwR0aDg==</th>\n",
       "      <th>real_state_N5/CE7lSkAfB04hVFFwllw==</th>\n",
       "      <th>real_state_UX7AdFYgQh+VrVC5eIaU9w==</th>\n",
       "      <th>real_state_n+xK9CfX0bCn77lClTWviw==</th>\n",
       "      <th>real_state_nSpvDsIsslUaX6GE6m6eQA==</th>\n",
       "    </tr>\n",
       "    <tr>\n",
       "      <th>ids</th>\n",
       "      <th></th>\n",
       "      <th></th>\n",
       "      <th></th>\n",
       "      <th></th>\n",
       "      <th></th>\n",
       "      <th></th>\n",
       "      <th></th>\n",
       "      <th></th>\n",
       "      <th></th>\n",
       "      <th></th>\n",
       "      <th></th>\n",
       "      <th></th>\n",
       "      <th></th>\n",
       "      <th></th>\n",
       "      <th></th>\n",
       "      <th></th>\n",
       "      <th></th>\n",
       "      <th></th>\n",
       "      <th></th>\n",
       "      <th></th>\n",
       "      <th></th>\n",
       "    </tr>\n",
       "  </thead>\n",
       "  <tbody>\n",
       "    <tr>\n",
       "      <th>e4366223-7aa2-0904-7a47-66479ae46b2a</th>\n",
       "      <td>230.0</td>\n",
       "      <td>101.906686</td>\n",
       "      <td>0.677760</td>\n",
       "      <td>77.245320</td>\n",
       "      <td>0.22</td>\n",
       "      <td>21016.38</td>\n",
       "      <td>36.0</td>\n",
       "      <td>43666.0</td>\n",
       "      <td>156021.02</td>\n",
       "      <td>18938</td>\n",
       "      <td>...</td>\n",
       "      <td>0</td>\n",
       "      <td>0</td>\n",
       "      <td>0</td>\n",
       "      <td>0</td>\n",
       "      <td>0</td>\n",
       "      <td>0</td>\n",
       "      <td>1</td>\n",
       "      <td>0</td>\n",
       "      <td>0</td>\n",
       "      <td>0</td>\n",
       "    </tr>\n",
       "    <tr>\n",
       "      <th>c6416108-c6d7-e6be-c4b5-923dd36c8ec4</th>\n",
       "      <td>400.0</td>\n",
       "      <td>96.276632</td>\n",
       "      <td>0.278711</td>\n",
       "      <td>94.980774</td>\n",
       "      <td>0.13</td>\n",
       "      <td>1211.74</td>\n",
       "      <td>36.0</td>\n",
       "      <td>-1.0</td>\n",
       "      <td>8410.56</td>\n",
       "      <td>1402</td>\n",
       "      <td>...</td>\n",
       "      <td>0</td>\n",
       "      <td>0</td>\n",
       "      <td>0</td>\n",
       "      <td>0</td>\n",
       "      <td>0</td>\n",
       "      <td>0</td>\n",
       "      <td>1</td>\n",
       "      <td>0</td>\n",
       "      <td>0</td>\n",
       "      <td>0</td>\n",
       "    </tr>\n",
       "    <tr>\n",
       "      <th>a90d3929-86ec-2414-89ba-543776b0e82b</th>\n",
       "      <td>420.0</td>\n",
       "      <td>98.901695</td>\n",
       "      <td>0.894661</td>\n",
       "      <td>108.136546</td>\n",
       "      <td>0.25</td>\n",
       "      <td>6990.63</td>\n",
       "      <td>36.0</td>\n",
       "      <td>-1.0</td>\n",
       "      <td>45116.60</td>\n",
       "      <td>3499</td>\n",
       "      <td>...</td>\n",
       "      <td>0</td>\n",
       "      <td>0</td>\n",
       "      <td>0</td>\n",
       "      <td>0</td>\n",
       "      <td>0</td>\n",
       "      <td>0</td>\n",
       "      <td>1</td>\n",
       "      <td>0</td>\n",
       "      <td>0</td>\n",
       "      <td>0</td>\n",
       "    </tr>\n",
       "    <tr>\n",
       "      <th>c5b96a7f-389a-28d0-242d-95db05e69da0</th>\n",
       "      <td>490.0</td>\n",
       "      <td>95.975994</td>\n",
       "      <td>0.972729</td>\n",
       "      <td>126.120768</td>\n",
       "      <td>0.46</td>\n",
       "      <td>15025.67</td>\n",
       "      <td>60.0</td>\n",
       "      <td>71273.0</td>\n",
       "      <td>60029.26</td>\n",
       "      <td>2839</td>\n",
       "      <td>...</td>\n",
       "      <td>0</td>\n",
       "      <td>0</td>\n",
       "      <td>0</td>\n",
       "      <td>0</td>\n",
       "      <td>0</td>\n",
       "      <td>0</td>\n",
       "      <td>0</td>\n",
       "      <td>0</td>\n",
       "      <td>1</td>\n",
       "      <td>0</td>\n",
       "    </tr>\n",
       "    <tr>\n",
       "      <th>1b461faa-926d-565d-b15d-0b452968ac81</th>\n",
       "      <td>320.0</td>\n",
       "      <td>101.303601</td>\n",
       "      <td>0.234202</td>\n",
       "      <td>107.162760</td>\n",
       "      <td>0.29</td>\n",
       "      <td>7027.81</td>\n",
       "      <td>36.0</td>\n",
       "      <td>-1.0</td>\n",
       "      <td>27618.96</td>\n",
       "      <td>3499</td>\n",
       "      <td>...</td>\n",
       "      <td>0</td>\n",
       "      <td>0</td>\n",
       "      <td>0</td>\n",
       "      <td>0</td>\n",
       "      <td>0</td>\n",
       "      <td>0</td>\n",
       "      <td>0</td>\n",
       "      <td>0</td>\n",
       "      <td>1</td>\n",
       "      <td>0</td>\n",
       "    </tr>\n",
       "  </tbody>\n",
       "</table>\n",
       "<p>5 rows × 77 columns</p>\n",
       "</div>"
      ],
      "text/plain": [
       "                                      score_3     score_4   score_5  \\\n",
       "ids                                                                   \n",
       "e4366223-7aa2-0904-7a47-66479ae46b2a    230.0  101.906686  0.677760   \n",
       "c6416108-c6d7-e6be-c4b5-923dd36c8ec4    400.0   96.276632  0.278711   \n",
       "a90d3929-86ec-2414-89ba-543776b0e82b    420.0   98.901695  0.894661   \n",
       "c5b96a7f-389a-28d0-242d-95db05e69da0    490.0   95.975994  0.972729   \n",
       "1b461faa-926d-565d-b15d-0b452968ac81    320.0  101.303601  0.234202   \n",
       "\n",
       "                                         score_6  risk_rate  amount_borrowed  \\\n",
       "ids                                                                            \n",
       "e4366223-7aa2-0904-7a47-66479ae46b2a   77.245320       0.22         21016.38   \n",
       "c6416108-c6d7-e6be-c4b5-923dd36c8ec4   94.980774       0.13          1211.74   \n",
       "a90d3929-86ec-2414-89ba-543776b0e82b  108.136546       0.25          6990.63   \n",
       "c5b96a7f-389a-28d0-242d-95db05e69da0  126.120768       0.46         15025.67   \n",
       "1b461faa-926d-565d-b15d-0b452968ac81  107.162760       0.29          7027.81   \n",
       "\n",
       "                                      borrowed_in_months  credit_limit  \\\n",
       "ids                                                                      \n",
       "e4366223-7aa2-0904-7a47-66479ae46b2a                36.0       43666.0   \n",
       "c6416108-c6d7-e6be-c4b5-923dd36c8ec4                36.0          -1.0   \n",
       "a90d3929-86ec-2414-89ba-543776b0e82b                36.0          -1.0   \n",
       "c5b96a7f-389a-28d0-242d-95db05e69da0                60.0       71273.0   \n",
       "1b461faa-926d-565d-b15d-0b452968ac81                36.0          -1.0   \n",
       "\n",
       "                                         income   sign  ...  \\\n",
       "ids                                                     ...   \n",
       "e4366223-7aa2-0904-7a47-66479ae46b2a  156021.02  18938  ...   \n",
       "c6416108-c6d7-e6be-c4b5-923dd36c8ec4    8410.56   1402  ...   \n",
       "a90d3929-86ec-2414-89ba-543776b0e82b   45116.60   3499  ...   \n",
       "c5b96a7f-389a-28d0-242d-95db05e69da0   60029.26   2839  ...   \n",
       "1b461faa-926d-565d-b15d-0b452968ac81   27618.96   3499  ...   \n",
       "\n",
       "                                      score_2_tHpS8e9F8d9zg3iOQM9tsA==  \\\n",
       "ids                                                                      \n",
       "e4366223-7aa2-0904-7a47-66479ae46b2a                                 0   \n",
       "c6416108-c6d7-e6be-c4b5-923dd36c8ec4                                 0   \n",
       "a90d3929-86ec-2414-89ba-543776b0e82b                                 0   \n",
       "c5b96a7f-389a-28d0-242d-95db05e69da0                                 0   \n",
       "1b461faa-926d-565d-b15d-0b452968ac81                                 0   \n",
       "\n",
       "                                      score_2_tQUTfUyeuGkhRotd+6WjVg==  \\\n",
       "ids                                                                      \n",
       "e4366223-7aa2-0904-7a47-66479ae46b2a                                 0   \n",
       "c6416108-c6d7-e6be-c4b5-923dd36c8ec4                                 0   \n",
       "a90d3929-86ec-2414-89ba-543776b0e82b                                 0   \n",
       "c5b96a7f-389a-28d0-242d-95db05e69da0                                 0   \n",
       "1b461faa-926d-565d-b15d-0b452968ac81                                 0   \n",
       "\n",
       "                                      score_2_vJyc9xom9v7hwFMPTIpmKw==  \\\n",
       "ids                                                                      \n",
       "e4366223-7aa2-0904-7a47-66479ae46b2a                                 0   \n",
       "c6416108-c6d7-e6be-c4b5-923dd36c8ec4                                 0   \n",
       "a90d3929-86ec-2414-89ba-543776b0e82b                                 0   \n",
       "c5b96a7f-389a-28d0-242d-95db05e69da0                                 0   \n",
       "1b461faa-926d-565d-b15d-0b452968ac81                                 0   \n",
       "\n",
       "                                      score_2_w1miZqhB5+RSamEQJa0rqg==  \\\n",
       "ids                                                                      \n",
       "e4366223-7aa2-0904-7a47-66479ae46b2a                                 0   \n",
       "c6416108-c6d7-e6be-c4b5-923dd36c8ec4                                 0   \n",
       "a90d3929-86ec-2414-89ba-543776b0e82b                                 0   \n",
       "c5b96a7f-389a-28d0-242d-95db05e69da0                                 0   \n",
       "1b461faa-926d-565d-b15d-0b452968ac81                                 0   \n",
       "\n",
       "                                      score_2_wjdj2vxjWoDsEIk0l09ynw==  \\\n",
       "ids                                                                      \n",
       "e4366223-7aa2-0904-7a47-66479ae46b2a                                 0   \n",
       "c6416108-c6d7-e6be-c4b5-923dd36c8ec4                                 0   \n",
       "a90d3929-86ec-2414-89ba-543776b0e82b                                 0   \n",
       "c5b96a7f-389a-28d0-242d-95db05e69da0                                 0   \n",
       "1b461faa-926d-565d-b15d-0b452968ac81                                 0   \n",
       "\n",
       "                                      score_2_wkeCdGeu5sEv4/fjwR0aDg==  \\\n",
       "ids                                                                      \n",
       "e4366223-7aa2-0904-7a47-66479ae46b2a                                 0   \n",
       "c6416108-c6d7-e6be-c4b5-923dd36c8ec4                                 0   \n",
       "a90d3929-86ec-2414-89ba-543776b0e82b                                 0   \n",
       "c5b96a7f-389a-28d0-242d-95db05e69da0                                 0   \n",
       "1b461faa-926d-565d-b15d-0b452968ac81                                 0   \n",
       "\n",
       "                                      real_state_N5/CE7lSkAfB04hVFFwllw==  \\\n",
       "ids                                                                         \n",
       "e4366223-7aa2-0904-7a47-66479ae46b2a                                    1   \n",
       "c6416108-c6d7-e6be-c4b5-923dd36c8ec4                                    1   \n",
       "a90d3929-86ec-2414-89ba-543776b0e82b                                    1   \n",
       "c5b96a7f-389a-28d0-242d-95db05e69da0                                    0   \n",
       "1b461faa-926d-565d-b15d-0b452968ac81                                    0   \n",
       "\n",
       "                                      real_state_UX7AdFYgQh+VrVC5eIaU9w==  \\\n",
       "ids                                                                         \n",
       "e4366223-7aa2-0904-7a47-66479ae46b2a                                    0   \n",
       "c6416108-c6d7-e6be-c4b5-923dd36c8ec4                                    0   \n",
       "a90d3929-86ec-2414-89ba-543776b0e82b                                    0   \n",
       "c5b96a7f-389a-28d0-242d-95db05e69da0                                    0   \n",
       "1b461faa-926d-565d-b15d-0b452968ac81                                    0   \n",
       "\n",
       "                                      real_state_n+xK9CfX0bCn77lClTWviw==  \\\n",
       "ids                                                                         \n",
       "e4366223-7aa2-0904-7a47-66479ae46b2a                                    0   \n",
       "c6416108-c6d7-e6be-c4b5-923dd36c8ec4                                    0   \n",
       "a90d3929-86ec-2414-89ba-543776b0e82b                                    0   \n",
       "c5b96a7f-389a-28d0-242d-95db05e69da0                                    1   \n",
       "1b461faa-926d-565d-b15d-0b452968ac81                                    1   \n",
       "\n",
       "                                      real_state_nSpvDsIsslUaX6GE6m6eQA==  \n",
       "ids                                                                        \n",
       "e4366223-7aa2-0904-7a47-66479ae46b2a                                    0  \n",
       "c6416108-c6d7-e6be-c4b5-923dd36c8ec4                                    0  \n",
       "a90d3929-86ec-2414-89ba-543776b0e82b                                    0  \n",
       "c5b96a7f-389a-28d0-242d-95db05e69da0                                    0  \n",
       "1b461faa-926d-565d-b15d-0b452968ac81                                    0  \n",
       "\n",
       "[5 rows x 77 columns]"
      ]
     },
     "execution_count": 8,
     "metadata": {},
     "output_type": "execute_result"
    }
   ],
   "source": [
    "# Print first rows of the test set\n",
    "X_test.head()"
   ]
  },
  {
   "cell_type": "markdown",
   "id": "618a26c6-150c-443e-acdc-5e4f714b602c",
   "metadata": {},
   "source": [
    "## GridSearch Estimator"
   ]
  },
  {
   "cell_type": "code",
   "execution_count": 10,
   "id": "0d98c800-debf-43e4-910c-3f2123f64ed2",
   "metadata": {},
   "outputs": [
    {
     "name": "stdout",
     "output_type": "stream",
     "text": [
      "{'max_depth': [10, 20, 30, 40, 50],\n",
      " 'n_estimators': [400, 800, 1200, 1600, 2000]}\n"
     ]
    }
   ],
   "source": [
    "from pprint import pprint\n",
    "from sklearn.model_selection import GridSearchCV\n",
    "\n",
    "n_estimators = [int(x) for x in np.linspace(start = 400, stop = 2000, num =5)] # Number of trees in random forest\n",
    "\n",
    "max_depth = [int(x) for x in np.linspace(10, 50, num = 5)] # depth of the tree\n",
    "\n",
    "random_grid = {'n_estimators': n_estimators,\n",
    "               'max_depth': max_depth,}\n",
    "\n",
    "pprint(random_grid)"
   ]
  },
  {
   "cell_type": "markdown",
   "id": "6a643870-899b-4ebe-9f54-72b81c4df25a",
   "metadata": {},
   "source": [
    "## Optimal RandomForrest Classifier"
   ]
  },
  {
   "cell_type": "code",
   "execution_count": 11,
   "id": "3d8e7ba1-a3ef-4180-b7c7-ce77233446ce",
   "metadata": {},
   "outputs": [],
   "source": [
    "from sklearn.ensemble import RandomForestClassifier\n",
    "\n",
    "rf = RandomForestClassifier()\n",
    "rf_random = GridSearchCV(estimator = rf, param_grid = random_grid, cv = 5, verbose=2, n_jobs = -1)\n",
    "rf_random.fit(X_train, y_train)"
   ]
  },
  {
   "cell_type": "markdown",
   "id": "3aeb2991-2226-4ea6-a30b-8d426a144936",
   "metadata": {},
   "source": [
    "## Optimal Parameters "
   ]
  },
  {
   "cell_type": "code",
   "execution_count": 12,
   "id": "c1c847e9-506b-4cc3-a8b7-fd8703c85eb8",
   "metadata": {},
   "outputs": [],
   "source": [
    "print(rf_random.best_params_)"
   ]
  },
  {
   "cell_type": "markdown",
   "id": "3aeb2991-2226-4ea6-a30b-8d426a144936",
   "metadata": {},
   "source": [
    "#### GridSearch Result: max_depth = 50, n_estimators = 400"
   ]
  },
  {
   "cell_type": "markdown",
   "id": "fac6156f-d5fb-42bf-a149-4dda84592503",
   "metadata": {},
   "source": [
    "## Area Under the Curve (AUC)"
   ]
  },
  {
   "cell_type": "code",
   "execution_count": 13,
   "id": "54d2303b-a6ca-4ec8-8c6a-b9e87263da0e",
   "metadata": {},
   "outputs": [
    {
     "name": "stdout",
     "output_type": "stream",
     "text": [
      "(11994, 2)\n",
      "AUC score on fold 0: 0.747\n",
      "(11993, 2)\n",
      "AUC score on fold 1: 0.749\n",
      "(11993, 2)\n",
      "AUC score on fold 2: 0.746\n",
      "(11993, 2)\n",
      "AUC score on fold 3: 0.758\n",
      "(11993, 2)\n",
      "AUC score on fold 4: 0.750\n",
      "AUC: 0.750 +- 0.0044\n"
     ]
    }
   ],
   "source": [
    "rfc = RandomForestClassifier(n_estimators = 400, max_depth = 50)\n",
    "skf = StratifiedKFold(5, shuffle=True, random_state=100)\n",
    "cm = np.zeros((2,2))\n",
    "aucs = []\n",
    "\n",
    "for (fold, (i_train, i_test)) in enumerate(skf.split(X_train, y_train)):\n",
    "    rfc.fit(X_train.iloc[i_train], y_train.iloc[i_train])\n",
    "    i_pred_proba = rfc.predict_proba(X_train.iloc[i_test])\n",
    "    pred = rfc.predict(X_train.iloc[i_test])\n",
    "    print(i_pred_proba.shape)\n",
    "    auc = metrics.roc_auc_score(y_train.iloc[i_test], i_pred_proba[:, 1])\n",
    "    aucs.append(auc)\n",
    "    cm += metrics.confusion_matrix(y_train.iloc[i_test],pred)\n",
    "    print(\"AUC score on fold %i: %2.3f\" % (fold, auc))\n",
    "    \n",
    "print(\"AUC: %2.3f +- %2.4f\" % (np.mean(aucs), np.std(aucs)))"
   ]
  },
  {
   "cell_type": "markdown",
   "id": "9e3728d5-a398-4470-9c97-5b5dc691c9fc",
   "metadata": {
    "tags": []
   },
   "source": [
    "## Confusion Matrix"
   ]
  },
  {
   "cell_type": "code",
   "execution_count": 14,
   "id": "756e607a-3243-4c11-ae48-adcee81bb677",
   "metadata": {},
   "outputs": [
    {
     "name": "stdout",
     "output_type": "stream",
     "text": [
      "\n",
      "Confusion matrix:\n",
      "[[49891.   565.]\n",
      " [ 8344.  1166.]]\n"
     ]
    }
   ],
   "source": [
    "print(\"\\nConfusion matrix:\")\n",
    "print(cm)"
   ]
  },
  {
   "cell_type": "markdown",
   "id": "bc0396f8-9d65-482b-9d54-6bbd03298d55",
   "metadata": {
    "tags": []
   },
   "source": [
    "## Model Accuracy"
   ]
  },
  {
   "cell_type": "code",
   "execution_count": 15,
   "id": "2a4985f7-81c7-4061-8099-031c27f91069",
   "metadata": {},
   "outputs": [
    {
     "name": "stdout",
     "output_type": "stream",
     "text": [
      "\n",
      "Accuracy 0.851\n"
     ]
    }
   ],
   "source": [
    "print(\"\\nAccuracy %2.3f\" %(cm.diagonal().sum()/cm.sum()))"
   ]
  },
  {
   "cell_type": "markdown",
   "id": "0c2c7352-712c-4e5a-9da6-a20ab779c7be",
   "metadata": {
    "tags": []
   },
   "source": [
    "## Feature Importance"
   ]
  },
  {
   "cell_type": "code",
   "execution_count": 16,
   "id": "17bd941a-d26c-45f3-b1db-54ad6f20b2df",
   "metadata": {},
   "outputs": [
    {
     "data": {
      "image/png": "[encoded data removed]",
      "text/plain": [
       "<Figure size 864x432 with 1 Axes>"
      ]
     },
     "metadata": {
      "needs_background": "light"
     },
     "output_type": "display_data"
    }
   ],
   "source": [
    "rfc.fit(X_train, y_train)\n",
    "importances = rfc.feature_importances_\n",
    "\n",
    "indices = np.argsort(importances)[::-1]\n",
    "plt.figure(figsize=(12, 6))\n",
    "plt.bar(range(1, indices.size + 1), importances[indices], align=\"center\")\n",
    "plt.xticks(range(1, indices.size + 1),\n",
    "           df_train.columns[indices],\n",
    "           rotation=90)\n",
    "plt.title(\"Feature Importance\")\n",
    "plt.show()"
   ]
  },
  {
   "cell_type": "markdown",
   "id": "612ad2bb-6129-4b2b-87ae-76baccf52620",
   "metadata": {},
   "source": [
    "## Label Prediction (default/non-default)"
   ]
  },
  {
   "cell_type": "code",
   "execution_count": 19,
   "id": "ec7b81a7-4435-4dec-905d-cbb5bfecf0ea",
   "metadata": {},
   "outputs": [
    {
     "name": "stdout",
     "output_type": "stream",
     "text": [
      "                                      predictions\n",
      "ids                                              \n",
      "e4366223-7aa2-0904-7a47-66479ae46b2a       0.0725\n",
      "c6416108-c6d7-e6be-c4b5-923dd36c8ec4       0.2425\n",
      "a90d3929-86ec-2414-89ba-543776b0e82b       0.1725\n",
      "c5b96a7f-389a-28d0-242d-95db05e69da0       0.5000\n",
      "1b461faa-926d-565d-b15d-0b452968ac81       0.2800\n",
      "...                                           ...\n",
      "cfe269ae-b893-c084-f9f5-3b91f9725b71       0.0725\n",
      "2feff27a-3dcf-1e19-7583-a8eab192fd23       0.0875\n",
      "601509fd-20d9-d3b8-b143-defcf5457d2c       0.0975\n",
      "b0168e1c-ddbd-1b2c-acfb-f09638e1ee34       0.0425\n",
      "508276ff-56cb-243c-da1d-4929c1411344       0.1500\n",
      "\n",
      "[35000 rows x 1 columns]\n"
     ]
    }
   ],
   "source": [
    "rfc_label_prediction = pd.DataFrame(rfc.predict_proba(X_test)[:, 1], columns=[\"predictions\"], index=X_test.index)\n",
    "rfc_label_prediction.to_csv(\"rfc_label_prediction.csv\")\n",
    "print(rfc_label_prediction)"
   ]
  },
  {
   "cell_type": "markdown",
   "id": "cf3ff37d-1ab1-4ad8-a293-37b8cfa75520",
   "metadata": {
    "tags": []
   },
   "source": [
    "# RandomForestClassifier Accuracy = 85% ◉‿◉ "
   ]
  },
  {
   "cell_type": "code",
   "execution_count": null,
   "id": "5ad5b817-82ad-40b2-bec1-6c52662eeedf",
   "metadata": {},
   "outputs": [],
   "source": []
  }
 ],
 "metadata": {
  "kernelspec": {
   "display_name": "Python 3",
   "language": "python",
   "name": "python3"
  },
  "language_info": {
   "codemirror_mode": {
    "name": "ipython",
    "version": 3
   },
   "file_extension": ".py",
   "mimetype": "text/x-python",
   "name": "python",
   "nbconvert_exporter": "python",
   "pygments_lexer": "ipython3",
   "version": "3.6.13"
  }
 },
 "nbformat": 4,
 "nbformat_minor": 5
}
